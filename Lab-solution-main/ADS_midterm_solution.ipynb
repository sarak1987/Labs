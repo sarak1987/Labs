{
 "cells": [
  {
   "cell_type": "code",
   "execution_count": 1,
   "metadata": {},
   "outputs": [],
   "source": [
    "import pandas as pd\n",
    "import os\n",
    "import urllib\n",
    "from sklearn.decomposition import PCA\n",
    "from sklearn.decomposition import KernelPCA\n",
    "import numpy as np\n",
    "from scipy.signal import periodogram\n",
    "import statsmodels.api as sm\n",
    "import dask.dataframe as dd\n",
    "\n",
    "from statsmodels.tsa.stattools import adfuller\n",
    "from statsmodels.graphics.tsaplots import plot_acf\n",
    "from statsmodels.graphics.tsaplots import plot_pacf\n",
    "from statsmodels.tsa.arima_model import ARIMA\n",
    "from matplotlib import pyplot as plt\n",
    "\n",
    "from sklearn.preprocessing import StandardScaler\n",
    "from sklearn.metrics import r2_score\n",
    "from sklearn.metrics import mean_squared_error\n",
    "from sklearn.ensemble import RandomForestRegressor\n",
    "from sklearn.model_selection import GridSearchCV\n",
    "from sklearn.model_selection import PredefinedSplit\n",
    "import warnings\n",
    "warnings.filterwarnings('ignore')"
   ]
  },
  {
   "cell_type": "markdown",
   "metadata": {},
   "source": [
    "# Theoretic part (20 pts, 5 pts each)\n",
    "\n",
    "Multiple choice questions: please select all that applies and explain your answer."
   ]
  },
  {
   "cell_type": "markdown",
   "metadata": {},
   "source": [
    "### Question 1 (Autocorrelation). \n",
    "The autocorrelation plot of the daily time-series has local peaks at t=7,14,21,28 etc.. How would you interpret that?\n",
    "\n",
    "A. The time-series reaches its maximum on the days 7,14,21,28...\n",
    "\n",
    "B. The time-series reaches its minimum on the days 7,14,21,28...\n",
    "\n",
    "C. The time-series is likely to have a periodic pattern with a period of 7 days\n",
    "\n",
    "D. The time-series is likely to have 7 periods per day\n",
    "\n",
    "E. The appropriate AR model for the time-series should have at least 7 terms."
   ]
  },
  {
   "cell_type": "markdown",
   "metadata": {},
   "source": [
    "Answer: C. Repeated local peaks of the autocorrelation often highlight the periodic pattern in the data, while the likely length of the period is the gap between those local peaks."
   ]
  },
  {
   "cell_type": "markdown",
   "metadata": {},
   "source": [
    "### Question 2 (Stationarity).\n",
    "\n",
    "Which of the following time-series models are stationary:\n",
    "\n",
    "A. Linear trend\n",
    "\n",
    "B. AR(1) model\n",
    "\n",
    "C. White noise\n",
    "\n",
    "D. Random walk\n",
    "\n",
    "E. ARMA(1,2) model\n",
    "\n",
    "F. ARIMA(1,1,1) model"
   ]
  },
  {
   "cell_type": "markdown",
   "metadata": {},
   "source": [
    "Answer: B,C,D,E. White noise as well as AR, MA, ARMA models are known to be stationary. Any model with a trend is not as the trend assumes changing mean of the time-series changing over time. A random walk is not stationary as its variance accumulates over time. ARIMA with at least one differencing, including ARIMA(1,1,1) is not stationary."
   ]
  },
  {
   "cell_type": "markdown",
   "metadata": {},
   "source": [
    "### Question 3 (PCA). \n",
    "Which of the following statements regarding the model dimensionality reduction through Principal Component Analysis (PCA) are true:\n",
    "\n",
    "A. Leading principal components of the features are the most efficient for modeling the output variable.\n",
    "\n",
    "B. Principal components of the standardized features are uncorrelated and this way less exposed to multicollinearity.\n",
    "\n",
    "C. The model using principal components of the features can't overfit.\n",
    "\n",
    "D. Feature selection based on the principal components of the features is often more efficient in preventing overfitting comparered the feature selection over the original features.\n",
    "\n",
    "E. Principal components are harder to interpret compared to the original features making the PCA regresssion model less interpretable compared to the regression model using original features."
   ]
  },
  {
   "cell_type": "markdown",
   "metadata": {},
   "source": [
    "Answer: B, D, E. The principal components of the standardized features are uncorrelated. This also helps feature selection as the impacts of different principal components on the output variable are independent and do not overlap. Also the principal components may represent uneven volumes of relevant information, this way increasing the odds of finding a smaller number of features representing enough relevant information. Also despite their advantages, Principal components are harder to interpret compared to the original features making the PCA regresssion model less interpretable compared to the regression model using original features."
   ]
  },
  {
   "cell_type": "markdown",
   "metadata": {},
   "source": [
    "### Question 4 (MapReduce). \n",
    "\n",
    "What is true about MapReduce:\n",
    "\n",
    "A. MapReduce is a Python module enabling parallel computing\n",
    "\n",
    "B. Using MapReduce approach makes the code more suitable for parallel computing.\n",
    "\n",
    "C. MapReduce code always runs faster compared to the code using more traditional approaches, like loops or list comprehensions.\n",
    "\n",
    "D. MapReduce code will always efficiently run on multiple cores of you CPU or multiple machines within your cluster if available.\n",
    "\n",
    "E. Multiprocessing and PySpark efficient alternatives to MapReduce.\n",
    "\n"
   ]
  },
  {
   "cell_type": "markdown",
   "metadata": {},
   "source": [
    "Answer: B. MapReduce is a programming paradigm but not a specific Python module. MapReduce code is suitable for parallel computing as different map operations and groups of reduce operations over different chucks of data could be run independently. However, MapReduce code is not guaranteed to have higher performance unless using efficient parallel computing technology, like multiprocessing or PySpark (even better). Without using those map and reduce operations of the MapReduce code won't be parallelized by default. With that multiprocessing and PySpark are not altenatives to MapReduce, but rather technological solutions for parallelizing MapReduce code (although they are not limited to that)."
   ]
  },
  {
   "cell_type": "markdown",
   "metadata": {},
   "source": [
    "# Practice part: Taxi ridership from JFK to other taxi zones prediction.\n",
    "This project is an example of applying PCA to predict hourly yellow taxi ridership at the taxi zone level. Modeling taxi ridership at a fine spatial and temporal granularity is challenging due to the low signal-to-noise ratio and high dimensionality. In this case, dimension reduction essential in feature engineering. This project has five steps: data downloading, data preprocessing, baseline modeling, feature engineering, and RandomForest modeling.\n",
    "\n",
    "Let's start with data downloading. "
   ]
  },
  {
   "cell_type": "markdown",
   "metadata": {},
   "source": [
    "## 1. Data downloading (5pts)\n",
    "Design a function to download yellow taxi data from 2017-01-01 to 2018-12-31 at https://www1.nyc.gov/site/tlc/about/tlc-trip-record-data.page."
   ]
  },
  {
   "cell_type": "code",
   "execution_count": 11,
   "metadata": {},
   "outputs": [],
   "source": [
    "dataDir = '/Users/devashishkhulbe/Desktop/teaching/ADS_2021_labs/Solutions-main/midterm_data/'\n",
    "Years = [2017,2018]\n",
    "Months = range(1,13)\n",
    "VehicleTypes = ['yellow']\n",
    "\n",
    "def getUrl(cabtype,year,month):\n",
    "    baseUrl = 'https://s3.amazonaws.com/nyc-tlc/trip+data/'\n",
    "    \n",
    "    month = str(month).zfill(2)\n",
    "    fileName = '%s_tripdata_%s-%s.csv'%(cabtype,year,month)\n",
    "        \n",
    "    return baseUrl + fileName, fileName        "
   ]
  },
  {
   "cell_type": "code",
   "execution_count": null,
   "metadata": {},
   "outputs": [],
   "source": [
    "for year in Years:\n",
    "    for month in Months:\n",
    "        for cabtype in VehicleTypes:\n",
    "            url, fileName = getUrl(cabtype,year,month)\n",
    "            \n",
    "            print(\"Downloading: \"+str(fileName))\n",
    "            \n",
    "            if fileName in os.listdir(dataDir):\n",
    "                print(\"file exists\")\n",
    "                continue\n",
    "            \n",
    "            filePath = os.path.join(dataDir, fileName)\n",
    "            try:\n",
    "                urllib.request.urlretrieve(url, filePath)\n",
    "            except:\n",
    "                # if fails remove the incomplete file\n",
    "                os.remove(filePath)\n",
    "                try:\n",
    "                    # start again after a delay of 2 min\n",
    "                    time.sleep(60*2)\n",
    "                    urllib.request.urlretrieve(url, filePath)\n",
    "                except:\n",
    "                    print(\"Download this file later!\")\n",
    "                    pass\n"
   ]
  },
  {
   "cell_type": "markdown",
   "metadata": {},
   "source": [
    "## 2. Data Preprocessing (10 pts, 7 for dask, 3 for sanity check)\n",
    "Use dask to aggregate all months' records into one dataframe, and aggregate dataset by date and hour to get the ridership from JFK to each taxi zone each hour. The expected output has columns: date, hour, drop-off location 1, drop-off location 2, etc. \n",
    "\n",
    "Hint: \n",
    "1. JFK taxi zone id is 132.\n",
    "2. time column should be the pickup time, and ridership is passenger count.\n",
    "3. Try read_csv(\"*.csv\") to read all csv file in a folder \n",
    "4. files in 2017 and 2018 have different columns; apply argument usecols to select desired columns.\n",
    "5. using .compute() function to convert processed dask dataframe to pandas dataframe for further modeling."
   ]
  },
  {
   "cell_type": "markdown",
   "metadata": {},
   "source": [
    "### 2.1 Data loading"
   ]
  },
  {
   "cell_type": "code",
   "execution_count": 3,
   "metadata": {},
   "outputs": [],
   "source": [
    "df = dd.read_csv(dataDir+'*.csv',\n",
    "                 dtype={'DOLocationID': 'float64',\n",
    "                       'passenger_count': 'float64'},\n",
    "                usecols=['PULocationID','DOLocationID','passenger_count','tpep_pickup_datetime'])\n",
    "df = df.loc[df['PULocationID']==132]\n",
    "df['date'] = df.apply(lambda x:x['tpep_pickup_datetime'].split(' ')[0],axis=1)\n",
    "df['year'] = df.apply(lambda x:x['date'].split('-')[0],axis=1)\n",
    "df = df.loc[df['year'].isin(['2017','2018'])]\n",
    "\n",
    "def getHour(x):\n",
    "    time = x['tpep_pickup_datetime']\n",
    "    if len(time.split(' '))>1:\n",
    "        hour = time.split(' ')[1].split(':')[0]\n",
    "        return hour\n",
    "    else:\n",
    "        return np.nan\n",
    "\n",
    "df['hour'] = df.apply(lambda x:getHour(x), axis=1)\n",
    "df = df.groupby(['date','hour','DOLocationID']).agg({'passenger_count':'sum'})"
   ]
  },
  {
   "cell_type": "code",
   "execution_count": 70,
   "metadata": {},
   "outputs": [],
   "source": [
    "JFKridership = df.compute()"
   ]
  },
  {
   "cell_type": "code",
   "execution_count": 71,
   "metadata": {},
   "outputs": [],
   "source": [
    "JFKridership = JFKridership.sort_index()\n",
    "JFKridership = JFKridership.reset_index()\n",
    "JFKridership = pd.pivot_table(JFKridership, values='passenger_count', index=['date','hour'],\n",
    "                    columns=['DOLocationID'], aggfunc=np.sum, fill_value=0)"
   ]
  },
  {
   "cell_type": "code",
   "execution_count": 72,
   "metadata": {},
   "outputs": [
    {
     "data": {
      "text/html": [
       "<div>\n",
       "<style scoped>\n",
       "    .dataframe tbody tr th:only-of-type {\n",
       "        vertical-align: middle;\n",
       "    }\n",
       "\n",
       "    .dataframe tbody tr th {\n",
       "        vertical-align: top;\n",
       "    }\n",
       "\n",
       "    .dataframe thead th {\n",
       "        text-align: right;\n",
       "    }\n",
       "</style>\n",
       "<table border=\"1\" class=\"dataframe\">\n",
       "  <thead>\n",
       "    <tr style=\"text-align: right;\">\n",
       "      <th></th>\n",
       "      <th>DOLocationID</th>\n",
       "      <th>1.0</th>\n",
       "      <th>2.0</th>\n",
       "      <th>3.0</th>\n",
       "      <th>4.0</th>\n",
       "      <th>5.0</th>\n",
       "      <th>6.0</th>\n",
       "      <th>7.0</th>\n",
       "      <th>8.0</th>\n",
       "      <th>9.0</th>\n",
       "      <th>10.0</th>\n",
       "      <th>...</th>\n",
       "      <th>256.0</th>\n",
       "      <th>257.0</th>\n",
       "      <th>258.0</th>\n",
       "      <th>259.0</th>\n",
       "      <th>260.0</th>\n",
       "      <th>261.0</th>\n",
       "      <th>262.0</th>\n",
       "      <th>263.0</th>\n",
       "      <th>264.0</th>\n",
       "      <th>265.0</th>\n",
       "    </tr>\n",
       "    <tr>\n",
       "      <th>date</th>\n",
       "      <th>hour</th>\n",
       "      <th></th>\n",
       "      <th></th>\n",
       "      <th></th>\n",
       "      <th></th>\n",
       "      <th></th>\n",
       "      <th></th>\n",
       "      <th></th>\n",
       "      <th></th>\n",
       "      <th></th>\n",
       "      <th></th>\n",
       "      <th></th>\n",
       "      <th></th>\n",
       "      <th></th>\n",
       "      <th></th>\n",
       "      <th></th>\n",
       "      <th></th>\n",
       "      <th></th>\n",
       "      <th></th>\n",
       "      <th></th>\n",
       "      <th></th>\n",
       "      <th></th>\n",
       "    </tr>\n",
       "  </thead>\n",
       "  <tbody>\n",
       "    <tr>\n",
       "      <th rowspan=\"5\" valign=\"top\">2017-01-01</th>\n",
       "      <th>00</th>\n",
       "      <td>0</td>\n",
       "      <td>0</td>\n",
       "      <td>0</td>\n",
       "      <td>1</td>\n",
       "      <td>0</td>\n",
       "      <td>0</td>\n",
       "      <td>2</td>\n",
       "      <td>0</td>\n",
       "      <td>0</td>\n",
       "      <td>7</td>\n",
       "      <td>...</td>\n",
       "      <td>0</td>\n",
       "      <td>3</td>\n",
       "      <td>0</td>\n",
       "      <td>0</td>\n",
       "      <td>1</td>\n",
       "      <td>0</td>\n",
       "      <td>3</td>\n",
       "      <td>0</td>\n",
       "      <td>3</td>\n",
       "      <td>27</td>\n",
       "    </tr>\n",
       "    <tr>\n",
       "      <th>01</th>\n",
       "      <td>0</td>\n",
       "      <td>0</td>\n",
       "      <td>0</td>\n",
       "      <td>2</td>\n",
       "      <td>0</td>\n",
       "      <td>0</td>\n",
       "      <td>5</td>\n",
       "      <td>0</td>\n",
       "      <td>0</td>\n",
       "      <td>8</td>\n",
       "      <td>...</td>\n",
       "      <td>6</td>\n",
       "      <td>0</td>\n",
       "      <td>0</td>\n",
       "      <td>0</td>\n",
       "      <td>0</td>\n",
       "      <td>5</td>\n",
       "      <td>7</td>\n",
       "      <td>6</td>\n",
       "      <td>1</td>\n",
       "      <td>12</td>\n",
       "    </tr>\n",
       "    <tr>\n",
       "      <th>02</th>\n",
       "      <td>0</td>\n",
       "      <td>0</td>\n",
       "      <td>0</td>\n",
       "      <td>0</td>\n",
       "      <td>0</td>\n",
       "      <td>0</td>\n",
       "      <td>0</td>\n",
       "      <td>0</td>\n",
       "      <td>1</td>\n",
       "      <td>3</td>\n",
       "      <td>...</td>\n",
       "      <td>0</td>\n",
       "      <td>0</td>\n",
       "      <td>2</td>\n",
       "      <td>0</td>\n",
       "      <td>0</td>\n",
       "      <td>0</td>\n",
       "      <td>0</td>\n",
       "      <td>0</td>\n",
       "      <td>0</td>\n",
       "      <td>10</td>\n",
       "    </tr>\n",
       "    <tr>\n",
       "      <th>03</th>\n",
       "      <td>0</td>\n",
       "      <td>0</td>\n",
       "      <td>0</td>\n",
       "      <td>0</td>\n",
       "      <td>0</td>\n",
       "      <td>0</td>\n",
       "      <td>1</td>\n",
       "      <td>0</td>\n",
       "      <td>0</td>\n",
       "      <td>0</td>\n",
       "      <td>...</td>\n",
       "      <td>1</td>\n",
       "      <td>0</td>\n",
       "      <td>2</td>\n",
       "      <td>0</td>\n",
       "      <td>0</td>\n",
       "      <td>0</td>\n",
       "      <td>0</td>\n",
       "      <td>0</td>\n",
       "      <td>0</td>\n",
       "      <td>4</td>\n",
       "    </tr>\n",
       "    <tr>\n",
       "      <th>04</th>\n",
       "      <td>0</td>\n",
       "      <td>0</td>\n",
       "      <td>0</td>\n",
       "      <td>0</td>\n",
       "      <td>0</td>\n",
       "      <td>0</td>\n",
       "      <td>0</td>\n",
       "      <td>0</td>\n",
       "      <td>0</td>\n",
       "      <td>0</td>\n",
       "      <td>...</td>\n",
       "      <td>0</td>\n",
       "      <td>0</td>\n",
       "      <td>0</td>\n",
       "      <td>0</td>\n",
       "      <td>0</td>\n",
       "      <td>0</td>\n",
       "      <td>0</td>\n",
       "      <td>0</td>\n",
       "      <td>0</td>\n",
       "      <td>3</td>\n",
       "    </tr>\n",
       "    <tr>\n",
       "      <th>...</th>\n",
       "      <th>...</th>\n",
       "      <td>...</td>\n",
       "      <td>...</td>\n",
       "      <td>...</td>\n",
       "      <td>...</td>\n",
       "      <td>...</td>\n",
       "      <td>...</td>\n",
       "      <td>...</td>\n",
       "      <td>...</td>\n",
       "      <td>...</td>\n",
       "      <td>...</td>\n",
       "      <td>...</td>\n",
       "      <td>...</td>\n",
       "      <td>...</td>\n",
       "      <td>...</td>\n",
       "      <td>...</td>\n",
       "      <td>...</td>\n",
       "      <td>...</td>\n",
       "      <td>...</td>\n",
       "      <td>...</td>\n",
       "      <td>...</td>\n",
       "      <td>...</td>\n",
       "    </tr>\n",
       "    <tr>\n",
       "      <th rowspan=\"5\" valign=\"top\">2018-12-31</th>\n",
       "      <th>19</th>\n",
       "      <td>0</td>\n",
       "      <td>0</td>\n",
       "      <td>0</td>\n",
       "      <td>0</td>\n",
       "      <td>0</td>\n",
       "      <td>0</td>\n",
       "      <td>4</td>\n",
       "      <td>0</td>\n",
       "      <td>1</td>\n",
       "      <td>14</td>\n",
       "      <td>...</td>\n",
       "      <td>3</td>\n",
       "      <td>1</td>\n",
       "      <td>5</td>\n",
       "      <td>0</td>\n",
       "      <td>2</td>\n",
       "      <td>5</td>\n",
       "      <td>19</td>\n",
       "      <td>15</td>\n",
       "      <td>0</td>\n",
       "      <td>23</td>\n",
       "    </tr>\n",
       "    <tr>\n",
       "      <th>20</th>\n",
       "      <td>1</td>\n",
       "      <td>0</td>\n",
       "      <td>0</td>\n",
       "      <td>0</td>\n",
       "      <td>0</td>\n",
       "      <td>0</td>\n",
       "      <td>7</td>\n",
       "      <td>0</td>\n",
       "      <td>0</td>\n",
       "      <td>25</td>\n",
       "      <td>...</td>\n",
       "      <td>6</td>\n",
       "      <td>4</td>\n",
       "      <td>0</td>\n",
       "      <td>0</td>\n",
       "      <td>8</td>\n",
       "      <td>1</td>\n",
       "      <td>9</td>\n",
       "      <td>13</td>\n",
       "      <td>0</td>\n",
       "      <td>16</td>\n",
       "    </tr>\n",
       "    <tr>\n",
       "      <th>21</th>\n",
       "      <td>0</td>\n",
       "      <td>0</td>\n",
       "      <td>0</td>\n",
       "      <td>2</td>\n",
       "      <td>0</td>\n",
       "      <td>0</td>\n",
       "      <td>9</td>\n",
       "      <td>0</td>\n",
       "      <td>0</td>\n",
       "      <td>3</td>\n",
       "      <td>...</td>\n",
       "      <td>4</td>\n",
       "      <td>5</td>\n",
       "      <td>5</td>\n",
       "      <td>0</td>\n",
       "      <td>1</td>\n",
       "      <td>1</td>\n",
       "      <td>16</td>\n",
       "      <td>13</td>\n",
       "      <td>4</td>\n",
       "      <td>23</td>\n",
       "    </tr>\n",
       "    <tr>\n",
       "      <th>22</th>\n",
       "      <td>0</td>\n",
       "      <td>0</td>\n",
       "      <td>2</td>\n",
       "      <td>2</td>\n",
       "      <td>0</td>\n",
       "      <td>0</td>\n",
       "      <td>2</td>\n",
       "      <td>0</td>\n",
       "      <td>0</td>\n",
       "      <td>4</td>\n",
       "      <td>...</td>\n",
       "      <td>1</td>\n",
       "      <td>11</td>\n",
       "      <td>0</td>\n",
       "      <td>1</td>\n",
       "      <td>0</td>\n",
       "      <td>5</td>\n",
       "      <td>16</td>\n",
       "      <td>9</td>\n",
       "      <td>0</td>\n",
       "      <td>25</td>\n",
       "    </tr>\n",
       "    <tr>\n",
       "      <th>23</th>\n",
       "      <td>5</td>\n",
       "      <td>0</td>\n",
       "      <td>0</td>\n",
       "      <td>7</td>\n",
       "      <td>0</td>\n",
       "      <td>0</td>\n",
       "      <td>6</td>\n",
       "      <td>0</td>\n",
       "      <td>0</td>\n",
       "      <td>7</td>\n",
       "      <td>...</td>\n",
       "      <td>0</td>\n",
       "      <td>11</td>\n",
       "      <td>0</td>\n",
       "      <td>0</td>\n",
       "      <td>1</td>\n",
       "      <td>1</td>\n",
       "      <td>8</td>\n",
       "      <td>13</td>\n",
       "      <td>0</td>\n",
       "      <td>25</td>\n",
       "    </tr>\n",
       "  </tbody>\n",
       "</table>\n",
       "<p>17518 rows × 263 columns</p>\n",
       "</div>"
      ],
      "text/plain": [
       "DOLocationID     1.0    2.0    3.0    4.0    5.0    6.0    7.0    8.0    \\\n",
       "date       hour                                                           \n",
       "2017-01-01 00        0      0      0      1      0      0      2      0   \n",
       "           01        0      0      0      2      0      0      5      0   \n",
       "           02        0      0      0      0      0      0      0      0   \n",
       "           03        0      0      0      0      0      0      1      0   \n",
       "           04        0      0      0      0      0      0      0      0   \n",
       "...                ...    ...    ...    ...    ...    ...    ...    ...   \n",
       "2018-12-31 19        0      0      0      0      0      0      4      0   \n",
       "           20        1      0      0      0      0      0      7      0   \n",
       "           21        0      0      0      2      0      0      9      0   \n",
       "           22        0      0      2      2      0      0      2      0   \n",
       "           23        5      0      0      7      0      0      6      0   \n",
       "\n",
       "DOLocationID     9.0    10.0   ...  256.0  257.0  258.0  259.0  260.0  261.0  \\\n",
       "date       hour                ...                                             \n",
       "2017-01-01 00        0      7  ...      0      3      0      0      1      0   \n",
       "           01        0      8  ...      6      0      0      0      0      5   \n",
       "           02        1      3  ...      0      0      2      0      0      0   \n",
       "           03        0      0  ...      1      0      2      0      0      0   \n",
       "           04        0      0  ...      0      0      0      0      0      0   \n",
       "...                ...    ...  ...    ...    ...    ...    ...    ...    ...   \n",
       "2018-12-31 19        1     14  ...      3      1      5      0      2      5   \n",
       "           20        0     25  ...      6      4      0      0      8      1   \n",
       "           21        0      3  ...      4      5      5      0      1      1   \n",
       "           22        0      4  ...      1     11      0      1      0      5   \n",
       "           23        0      7  ...      0     11      0      0      1      1   \n",
       "\n",
       "DOLocationID     262.0  263.0  264.0  265.0  \n",
       "date       hour                              \n",
       "2017-01-01 00        3      0      3     27  \n",
       "           01        7      6      1     12  \n",
       "           02        0      0      0     10  \n",
       "           03        0      0      0      4  \n",
       "           04        0      0      0      3  \n",
       "...                ...    ...    ...    ...  \n",
       "2018-12-31 19       19     15      0     23  \n",
       "           20        9     13      0     16  \n",
       "           21       16     13      4     23  \n",
       "           22       16      9      0     25  \n",
       "           23        8     13      0     25  \n",
       "\n",
       "[17518 rows x 263 columns]"
      ]
     },
     "execution_count": 72,
     "metadata": {},
     "output_type": "execute_result"
    }
   ],
   "source": [
    "JFKridership"
   ]
  },
  {
   "cell_type": "markdown",
   "metadata": {},
   "source": [
    "### 2.2 Sanity check\n",
    "Then, we need to do some basic sanity checks. It is possible that in a particular hour, completely dispatched no yellow taxis from JFK. Check does each day has 24-hour records and add missing records back to the dataframe. The final output should have 17520 rows ($365\\times2\\times24$)"
   ]
  },
  {
   "cell_type": "code",
   "execution_count": 73,
   "metadata": {},
   "outputs": [
    {
     "data": {
      "text/html": [
       "<div>\n",
       "<style scoped>\n",
       "    .dataframe tbody tr th:only-of-type {\n",
       "        vertical-align: middle;\n",
       "    }\n",
       "\n",
       "    .dataframe tbody tr th {\n",
       "        vertical-align: top;\n",
       "    }\n",
       "\n",
       "    .dataframe thead th {\n",
       "        text-align: right;\n",
       "    }\n",
       "</style>\n",
       "<table border=\"1\" class=\"dataframe\">\n",
       "  <thead>\n",
       "    <tr style=\"text-align: right;\">\n",
       "      <th></th>\n",
       "      <th>hour</th>\n",
       "    </tr>\n",
       "    <tr>\n",
       "      <th>date</th>\n",
       "      <th></th>\n",
       "    </tr>\n",
       "  </thead>\n",
       "  <tbody>\n",
       "    <tr>\n",
       "      <th>2017-03-12</th>\n",
       "      <td>23</td>\n",
       "    </tr>\n",
       "    <tr>\n",
       "      <th>2018-03-11</th>\n",
       "      <td>23</td>\n",
       "    </tr>\n",
       "  </tbody>\n",
       "</table>\n",
       "</div>"
      ],
      "text/plain": [
       "            hour\n",
       "date            \n",
       "2017-03-12    23\n",
       "2018-03-11    23"
      ]
     },
     "execution_count": 73,
     "metadata": {},
     "output_type": "execute_result"
    }
   ],
   "source": [
    "sanityCheck = JFKridership.reset_index().groupby(['date']).agg({\"hour\":'count'})\n",
    "sanityCheck.loc[sanityCheck['hour']<24]"
   ]
  },
  {
   "cell_type": "code",
   "execution_count": 74,
   "metadata": {},
   "outputs": [],
   "source": [
    "grid = pd.DataFrame({'date':['2017-03-12']*24+['2018-03-11']*24,'hour':list(range(0,24))+list(range(0,24))})\n",
    "grid['hour'] = grid['hour'].apply(lambda x:str(x).zfill(2))\n",
    "JFKridership = JFKridership.reset_index().merge(grid,how='outer').fillna(0).sort_values(by=['date','hour'])"
   ]
  },
  {
   "cell_type": "markdown",
   "metadata": {},
   "source": [
    "## 3. Time-series exploratory analysis\n",
    "Apply exploratory analysis over the daily aggregated dataset at first."
   ]
  },
  {
   "cell_type": "markdown",
   "metadata": {},
   "source": [
    "### 3.1 aggregate the ridership from each dropoff location and sum it to get daily records. (3pts)"
   ]
  },
  {
   "cell_type": "code",
   "execution_count": 82,
   "metadata": {},
   "outputs": [
    {
     "data": {
      "text/html": [
       "<div>\n",
       "<style scoped>\n",
       "    .dataframe tbody tr th:only-of-type {\n",
       "        vertical-align: middle;\n",
       "    }\n",
       "\n",
       "    .dataframe tbody tr th {\n",
       "        vertical-align: top;\n",
       "    }\n",
       "\n",
       "    .dataframe thead th {\n",
       "        text-align: right;\n",
       "    }\n",
       "</style>\n",
       "<table border=\"1\" class=\"dataframe\">\n",
       "  <thead>\n",
       "    <tr style=\"text-align: right;\">\n",
       "      <th></th>\n",
       "      <th>passenger_count</th>\n",
       "    </tr>\n",
       "    <tr>\n",
       "      <th>date</th>\n",
       "      <th></th>\n",
       "    </tr>\n",
       "  </thead>\n",
       "  <tbody>\n",
       "    <tr>\n",
       "      <th>2017-01-01</th>\n",
       "      <td>14710.0</td>\n",
       "    </tr>\n",
       "    <tr>\n",
       "      <th>2017-01-02</th>\n",
       "      <td>16723.0</td>\n",
       "    </tr>\n",
       "    <tr>\n",
       "      <th>2017-01-03</th>\n",
       "      <td>16072.0</td>\n",
       "    </tr>\n",
       "    <tr>\n",
       "      <th>2017-01-04</th>\n",
       "      <td>14549.0</td>\n",
       "    </tr>\n",
       "    <tr>\n",
       "      <th>2017-01-05</th>\n",
       "      <td>12239.0</td>\n",
       "    </tr>\n",
       "  </tbody>\n",
       "</table>\n",
       "</div>"
      ],
      "text/plain": [
       "            passenger_count\n",
       "date                       \n",
       "2017-01-01          14710.0\n",
       "2017-01-02          16723.0\n",
       "2017-01-03          16072.0\n",
       "2017-01-04          14549.0\n",
       "2017-01-05          12239.0"
      ]
     },
     "execution_count": 82,
     "metadata": {},
     "output_type": "execute_result"
    }
   ],
   "source": [
    "JFKridershipDaily = pd.DataFrame(JFKridership.groupby(['date']).sum().sum(axis=1),columns=['passenger_count'])\n",
    "JFKridershipDaily.index = pd.to_datetime(JFKridershipDaily.index)\n",
    "JFKridershipDaily.head()"
   ]
  },
  {
   "cell_type": "markdown",
   "metadata": {},
   "source": [
    "### 3.2 Period detection and report the strongest period length on the 2017 data. (3pts)\n",
    "Hint: using periodogram or acf plot."
   ]
  },
  {
   "cell_type": "code",
   "execution_count": 84,
   "metadata": {},
   "outputs": [
    {
     "data": {
      "image/png": "[encoded data removed]",
      "text/plain": [
       "<Figure size 720x360 with 1 Axes>"
      ]
     },
     "metadata": {
      "needs_background": "light"
     },
     "output_type": "display_data"
    },
    {
     "name": "stdout",
     "output_type": "stream",
     "text": [
      "Strongest period length = 7.019230769230769\n"
     ]
    }
   ],
   "source": [
    "f, PSD = periodogram(JFKridershipDaily.passenger_count[:365])\n",
    "plt.semilogy(f, PSD)\n",
    "plt.xlabel('frequency')\n",
    "plt.ylabel('PSD')\n",
    "plt.xlim(0.005,0.25) \n",
    "plt.ylim(max(PSD)/1e6,max(PSD))\n",
    "\n",
    "PSD = PSD[f>0.005]\n",
    "f = f[f>0.005]\n",
    "plt.show()\n",
    "print('Strongest period length = {}'.format(1/f[np.argmax(PSD)])) "
   ]
  },
  {
   "cell_type": "code",
   "execution_count": 104,
   "metadata": {},
   "outputs": [
    {
     "data": {
      "image/png": "[encoded data removed]",
      "text/plain": [
       "<Figure size 720x360 with 1 Axes>"
      ]
     },
     "metadata": {
      "needs_background": "light"
     },
     "output_type": "display_data"
    }
   ],
   "source": [
    "_ = plot_acf(JFKridershipDaily.passenger_count, alpha=0.1)"
   ]
  },
  {
   "cell_type": "markdown",
   "metadata": {},
   "source": [
    "### 3.3 Trend, seasonality, noise decomposition (using additive model) on 2017 data, . (3 pts, 1 pts if freq is wrong)"
   ]
  },
  {
   "cell_type": "code",
   "execution_count": 85,
   "metadata": {},
   "outputs": [
    {
     "data": {
      "image/png": "[encoded data removed]",
      "text/plain": [
       "<Figure size 720x360 with 4 Axes>"
      ]
     },
     "metadata": {
      "needs_background": "light"
     },
     "output_type": "display_data"
    }
   ],
   "source": [
    "res = sm.tsa.seasonal_decompose(JFKridershipDaily[:365],model='additive',freq=7)\n",
    "res.plot()\n",
    "plt.show()"
   ]
  },
  {
   "cell_type": "markdown",
   "metadata": {},
   "source": [
    "## 4. Predict the total daily ridership from JFK using ARIMA.\n",
    "ARIMA is a common method to predict taxi ridership. Before we predict taxi zone level hourly ridership, let's try to predict the aggregated daily ridership using ARIMA."
   ]
  },
  {
   "cell_type": "markdown",
   "metadata": {},
   "source": [
    "### 4.1 Using adfuller test to test the stability of the aggregated dataset. If not stable, apply differencing method until the p-value from adfuller test is smaller than 0.05. (3pts)"
   ]
  },
  {
   "cell_type": "code",
   "execution_count": 60,
   "metadata": {},
   "outputs": [
    {
     "name": "stdout",
     "output_type": "stream",
     "text": [
      "p-value: 0.223642\n",
      "p-value: 0.000000\n"
     ]
    }
   ],
   "source": [
    "result = adfuller(JFKridershipDaily.values)\n",
    "print('p-value: %f' % result[1])\n",
    "\n",
    "result = adfuller(JFKridershipDaily.diff().dropna().values)\n",
    "print('p-value: %f' % result[1])"
   ]
  },
  {
   "cell_type": "markdown",
   "metadata": {},
   "source": [
    "### 4.2 Find out proper AR and MA terms in an ARIMA model using pacf and acf plots. (4 pts, 2 for each plot)\n",
    "Hint: positive autocorrelation is usually best treated by adding an AR term to the model and negative autocorrelation is usually best treated by adding an MA term. In general, differencing reduces positive autocorrelation and may even cause a switch from positive to negative autocorrelation. \n",
    "\n",
    "Identifying the numbers of AR and MA terms:\n",
    "1. if the pacf plot shows a sharp cutoff and/or the lag-1 autocorrelation is positive then consider adding one or more AR terms to the model. The lag beyond which the PACF cuts off is the indicated number of AR terms.\n",
    "\n",
    "2. if the acf plot displays a sharp cutoff and/or the lag-1 autocorrelation is negative then consider adding an MA term to the model. The lag beyond which the ACF cuts off is the indicated number of MA terms.\n",
    "\n",
    "3. It is generally advisable to stick to models in which at least one of p and q is no larger than 1, i.e., do not try to fit a model such as ARIMA(2,1,2)."
   ]
  },
  {
   "cell_type": "code",
   "execution_count": 49,
   "metadata": {},
   "outputs": [
    {
     "data": {
      "image/png": "[encoded data removed]",
      "text/plain": [
       "<Figure size 432x288 with 1 Axes>"
      ]
     },
     "metadata": {
      "needs_background": "light"
     },
     "output_type": "display_data"
    }
   ],
   "source": [
    "_ = plot_pacf(JFKridershipDaily.passenger_count.diff().dropna(), alpha=0.1)"
   ]
  },
  {
   "cell_type": "code",
   "execution_count": 50,
   "metadata": {},
   "outputs": [
    {
     "data": {
      "image/png": "[encoded data removed]",
      "text/plain": [
       "<Figure size 432x288 with 1 Axes>"
      ]
     },
     "metadata": {
      "needs_background": "light"
     },
     "output_type": "display_data"
    }
   ],
   "source": [
    "_ = plot_acf(JFKridershipDaily.passenger_count.diff().dropna(), alpha=0.1)"
   ]
  },
  {
   "cell_type": "markdown",
   "metadata": {},
   "source": [
    "### 4.3 build an ARIMA model using terms from 4.2, training on the first 700 days, forecast on the last 31 days. Print ARIMA model results and plot in-sample and out-of-sample prediction in different colors. (8 pts, 3 for correct terms, 3 for training and summary, 2pts for the plot)"
   ]
  },
  {
   "cell_type": "code",
   "execution_count": 105,
   "metadata": {},
   "outputs": [
    {
     "name": "stdout",
     "output_type": "stream",
     "text": [
      "                             ARIMA Model Results                              \n",
      "==============================================================================\n",
      "Dep. Variable:      D.passenger_count   No. Observations:                  700\n",
      "Model:                 ARIMA(0, 1, 1)   Log Likelihood               -6148.804\n",
      "Method:                       css-mle   S.D. of innovations           1578.121\n",
      "Date:                Mon, 22 Mar 2021   AIC                          12303.607\n",
      "Time:                        21:41:24   BIC                          12317.260\n",
      "Sample:                    01-02-2017   HQIC                         12308.885\n",
      "                         - 12-02-2018                                         \n",
      "===========================================================================================\n",
      "                              coef    std err          z      P>|z|      [0.025      0.975]\n",
      "-------------------------------------------------------------------------------------------\n",
      "const                      -3.7667      7.103     -0.530      0.596     -17.688      10.154\n",
      "ma.L1.D.passenger_count    -0.8823      0.020    -45.220      0.000      -0.921      -0.844\n",
      "                                    Roots                                    \n",
      "=============================================================================\n",
      "                  Real          Imaginary           Modulus         Frequency\n",
      "-----------------------------------------------------------------------------\n",
      "MA.1            1.1334           +0.0000j            1.1334            0.0000\n",
      "-----------------------------------------------------------------------------\n"
     ]
    }
   ],
   "source": [
    "P=0\n",
    "D=1\n",
    "Q=1\n",
    "\n",
    "# fit model\n",
    "N = 700   \n",
    "series = JFKridershipDaily.passenger_count\n",
    "model = ARIMA(series[:N+1], order=(P,D,Q))\n",
    "model_fit = model.fit(disp = 0)\n",
    "print(model_fit.summary())"
   ]
  },
  {
   "cell_type": "code",
   "execution_count": 106,
   "metadata": {},
   "outputs": [
    {
     "data": {
      "text/plain": [
       "<matplotlib.legend.Legend at 0x7f96509c1490>"
      ]
     },
     "execution_count": 106,
     "metadata": {},
     "output_type": "execute_result"
    },
    {
     "data": {
      "image/png": "[encoded data removed]",
      "text/plain": [
       "<Figure size 720x360 with 1 Axes>"
      ]
     },
     "metadata": {
      "needs_background": "light"
     },
     "output_type": "display_data"
    }
   ],
   "source": [
    "forecast = model_fit.forecast(steps=len(series)-N, alpha=0.05)[0]  # 95% conf\n",
    "# Forecast\n",
    "fc, se, conf = model_fit.forecast(steps=len(series)-N, alpha=0.05)  # 95% conf\n",
    "\n",
    "fc_series = pd.Series(fc, index=range(N,len(series)))\n",
    "lower_series = pd.Series(conf[:, 0], index=range(N,len(series)))\n",
    "upper_series = pd.Series(conf[:, 1], index=range(N,len(series)))\n",
    "\n",
    "plt.rcParams.update({'figure.figsize':(10,5)})\n",
    "# plt.plot(series)\n",
    "\n",
    "# plt.plot(series)\n",
    "plt.plot(pd.to_datetime(JFKridershipDaily.index)[:N+1],series[:N+1],label='train_label')\n",
    "plt.plot(pd.to_datetime(JFKridershipDaily.index)[N:],series[N:],color='green',label='test_label')\n",
    "plt.plot(pd.to_datetime(JFKridershipDaily.index)[1:N+1],model_fit.predict(start=1,end=N,dynamic=False,typ='levels'),color='orange',label='in sample predict')\n",
    "plt.plot(pd.to_datetime(JFKridershipDaily.index)[N:],fc_series.tolist(), label='forecast', color='red')\n",
    "plt.fill_between(pd.to_datetime(JFKridershipDaily.index)[N:], lower_series, upper_series, \n",
    "                 color='k', alpha=.15)\n",
    "plt.legend(loc='lower right')\n",
    "\n"
   ]
  },
  {
   "cell_type": "markdown",
   "metadata": {},
   "source": [
    "# Taxi zone level prediction\n",
    "\n",
    "This project aims to predict hourly yellow taxi ridership volume from JFK to each taxi zone. The ARIMA experiment in section 3 forecasts the total ridership amount from JFK. However, based on the reported $R^2$, this model is not a good fit. ARIMA model has four main shortcomings: 1) they rely heavily on stationarity assumption which does not hold in real-world traffic systems 2) they do not consider spatial and structural dependencies that traffic networks exhibit and forecast each sensor as an individual time series 3) they are unable to model non-linear temporal dynamics 4) they suffer from the curse of dimensionality. Due to the limitation of ARIMA, we need to apply another method to predict taxi zone level ridership."
   ]
  },
  {
   "cell_type": "markdown",
   "metadata": {},
   "source": [
    "## 5. Feature engineering\n",
    "\n",
    "Our workflow is first standardizing the dataset, then using PCA to compress the dataset. As we predict future ridership, PCA should be learned from historical data (2017) then apply to the following year (2018). Next, add lag features (PCA components) from the past 12 hours and apply a Random Forest regressor to predict each PCA component's values in the next hour. After we had the PCA component prediction, inverse PCA, and inverse standardization to retrieve taxi ridership prediction in its original scale and dimension, in other words, we are predicting the PCA components instead of taxi zone level ridership and then using the inverse PCA method to reconstruct "
   ]
  },
  {
   "cell_type": "code",
   "execution_count": 71,
   "metadata": {},
   "outputs": [],
   "source": [
    "# standardization\n",
    "def standardize(matrix):\n",
    "    m = matrix.copy()\n",
    "    scaler = StandardScaler()\n",
    "    scaler.fit(m)\n",
    "    t = scaler.transform(m)\n",
    "    return scaler, t\n",
    "# inverse stantdardization for prediction to compare with the raw dataset\n",
    "def inverse_standardize(matrix, scaler):\n",
    "    t = matrix.copy()\n",
    "    return scaler.inverse_transform(t)"
   ]
  },
  {
   "cell_type": "code",
   "execution_count": 72,
   "metadata": {},
   "outputs": [],
   "source": [
    "# dimension reduction\n",
    "def getPCAFeatures(transformer, matrix):\n",
    "    reducedMatrixPCA = transformer.transform(matrix)\n",
    "    reducedDict = {str(i+1):reducedMatrixPCA[:,i] for i in range(reducedMatrixPCA.shape[1])}\n",
    "    reducedDf = pd.DataFrame(reducedDict)\n",
    "    return reducedDf\n",
    "# reconverse the PCA component back to raw dataset's dimentsion\n",
    "def inversePCA(matrix,pca):\n",
    "    m = matrix.copy()\n",
    "    return pca.inverse_transform(m)"
   ]
  },
  {
   "cell_type": "markdown",
   "metadata": {},
   "source": [
    "### 5.1. standardization. (3 pts)\n",
    "The standardscaler stores information of this standardization process, including the mean and standard deviation values required when converting the prediction back to the raw scale. Split the whole dataset into two parts: 2017 and 2018, standardize each separately."
   ]
  },
  {
   "cell_type": "code",
   "execution_count": 78,
   "metadata": {},
   "outputs": [],
   "source": [
    "JFKridership2017 = JFKridership.iloc[:365*24]\n",
    "JFKridership2018 = JFKridership.iloc[365*24:]"
   ]
  },
  {
   "cell_type": "code",
   "execution_count": 79,
   "metadata": {},
   "outputs": [
    {
     "data": {
      "text/html": [
       "<div>\n",
       "<style scoped>\n",
       "    .dataframe tbody tr th:only-of-type {\n",
       "        vertical-align: middle;\n",
       "    }\n",
       "\n",
       "    .dataframe tbody tr th {\n",
       "        vertical-align: top;\n",
       "    }\n",
       "\n",
       "    .dataframe thead th {\n",
       "        text-align: right;\n",
       "    }\n",
       "</style>\n",
       "<table border=\"1\" class=\"dataframe\">\n",
       "  <thead>\n",
       "    <tr style=\"text-align: right;\">\n",
       "      <th></th>\n",
       "      <th>date</th>\n",
       "      <th>hour</th>\n",
       "      <th>1.0</th>\n",
       "      <th>2.0</th>\n",
       "      <th>3.0</th>\n",
       "      <th>4.0</th>\n",
       "      <th>5.0</th>\n",
       "      <th>6.0</th>\n",
       "      <th>7.0</th>\n",
       "      <th>8.0</th>\n",
       "      <th>...</th>\n",
       "      <th>256.0</th>\n",
       "      <th>257.0</th>\n",
       "      <th>258.0</th>\n",
       "      <th>259.0</th>\n",
       "      <th>260.0</th>\n",
       "      <th>261.0</th>\n",
       "      <th>262.0</th>\n",
       "      <th>263.0</th>\n",
       "      <th>264.0</th>\n",
       "      <th>265.0</th>\n",
       "    </tr>\n",
       "  </thead>\n",
       "  <tbody>\n",
       "    <tr>\n",
       "      <th>0</th>\n",
       "      <td>2017-01-01</td>\n",
       "      <td>00</td>\n",
       "      <td>0.0</td>\n",
       "      <td>0.0</td>\n",
       "      <td>0.0</td>\n",
       "      <td>1.0</td>\n",
       "      <td>0.0</td>\n",
       "      <td>0.0</td>\n",
       "      <td>2.0</td>\n",
       "      <td>0.0</td>\n",
       "      <td>...</td>\n",
       "      <td>0.0</td>\n",
       "      <td>3.0</td>\n",
       "      <td>0.0</td>\n",
       "      <td>0.0</td>\n",
       "      <td>1.0</td>\n",
       "      <td>0.0</td>\n",
       "      <td>3.0</td>\n",
       "      <td>0.0</td>\n",
       "      <td>3.0</td>\n",
       "      <td>27.0</td>\n",
       "    </tr>\n",
       "    <tr>\n",
       "      <th>1</th>\n",
       "      <td>2017-01-01</td>\n",
       "      <td>01</td>\n",
       "      <td>0.0</td>\n",
       "      <td>0.0</td>\n",
       "      <td>0.0</td>\n",
       "      <td>2.0</td>\n",
       "      <td>0.0</td>\n",
       "      <td>0.0</td>\n",
       "      <td>5.0</td>\n",
       "      <td>0.0</td>\n",
       "      <td>...</td>\n",
       "      <td>6.0</td>\n",
       "      <td>0.0</td>\n",
       "      <td>0.0</td>\n",
       "      <td>0.0</td>\n",
       "      <td>0.0</td>\n",
       "      <td>5.0</td>\n",
       "      <td>7.0</td>\n",
       "      <td>6.0</td>\n",
       "      <td>1.0</td>\n",
       "      <td>12.0</td>\n",
       "    </tr>\n",
       "    <tr>\n",
       "      <th>2</th>\n",
       "      <td>2017-01-01</td>\n",
       "      <td>02</td>\n",
       "      <td>0.0</td>\n",
       "      <td>0.0</td>\n",
       "      <td>0.0</td>\n",
       "      <td>0.0</td>\n",
       "      <td>0.0</td>\n",
       "      <td>0.0</td>\n",
       "      <td>0.0</td>\n",
       "      <td>0.0</td>\n",
       "      <td>...</td>\n",
       "      <td>0.0</td>\n",
       "      <td>0.0</td>\n",
       "      <td>2.0</td>\n",
       "      <td>0.0</td>\n",
       "      <td>0.0</td>\n",
       "      <td>0.0</td>\n",
       "      <td>0.0</td>\n",
       "      <td>0.0</td>\n",
       "      <td>0.0</td>\n",
       "      <td>10.0</td>\n",
       "    </tr>\n",
       "    <tr>\n",
       "      <th>3</th>\n",
       "      <td>2017-01-01</td>\n",
       "      <td>03</td>\n",
       "      <td>0.0</td>\n",
       "      <td>0.0</td>\n",
       "      <td>0.0</td>\n",
       "      <td>0.0</td>\n",
       "      <td>0.0</td>\n",
       "      <td>0.0</td>\n",
       "      <td>1.0</td>\n",
       "      <td>0.0</td>\n",
       "      <td>...</td>\n",
       "      <td>1.0</td>\n",
       "      <td>0.0</td>\n",
       "      <td>2.0</td>\n",
       "      <td>0.0</td>\n",
       "      <td>0.0</td>\n",
       "      <td>0.0</td>\n",
       "      <td>0.0</td>\n",
       "      <td>0.0</td>\n",
       "      <td>0.0</td>\n",
       "      <td>4.0</td>\n",
       "    </tr>\n",
       "    <tr>\n",
       "      <th>4</th>\n",
       "      <td>2017-01-01</td>\n",
       "      <td>04</td>\n",
       "      <td>0.0</td>\n",
       "      <td>0.0</td>\n",
       "      <td>0.0</td>\n",
       "      <td>0.0</td>\n",
       "      <td>0.0</td>\n",
       "      <td>0.0</td>\n",
       "      <td>0.0</td>\n",
       "      <td>0.0</td>\n",
       "      <td>...</td>\n",
       "      <td>0.0</td>\n",
       "      <td>0.0</td>\n",
       "      <td>0.0</td>\n",
       "      <td>0.0</td>\n",
       "      <td>0.0</td>\n",
       "      <td>0.0</td>\n",
       "      <td>0.0</td>\n",
       "      <td>0.0</td>\n",
       "      <td>0.0</td>\n",
       "      <td>3.0</td>\n",
       "    </tr>\n",
       "    <tr>\n",
       "      <th>...</th>\n",
       "      <td>...</td>\n",
       "      <td>...</td>\n",
       "      <td>...</td>\n",
       "      <td>...</td>\n",
       "      <td>...</td>\n",
       "      <td>...</td>\n",
       "      <td>...</td>\n",
       "      <td>...</td>\n",
       "      <td>...</td>\n",
       "      <td>...</td>\n",
       "      <td>...</td>\n",
       "      <td>...</td>\n",
       "      <td>...</td>\n",
       "      <td>...</td>\n",
       "      <td>...</td>\n",
       "      <td>...</td>\n",
       "      <td>...</td>\n",
       "      <td>...</td>\n",
       "      <td>...</td>\n",
       "      <td>...</td>\n",
       "      <td>...</td>\n",
       "    </tr>\n",
       "    <tr>\n",
       "      <th>8754</th>\n",
       "      <td>2017-12-31</td>\n",
       "      <td>19</td>\n",
       "      <td>1.0</td>\n",
       "      <td>0.0</td>\n",
       "      <td>1.0</td>\n",
       "      <td>0.0</td>\n",
       "      <td>0.0</td>\n",
       "      <td>0.0</td>\n",
       "      <td>3.0</td>\n",
       "      <td>0.0</td>\n",
       "      <td>...</td>\n",
       "      <td>6.0</td>\n",
       "      <td>2.0</td>\n",
       "      <td>0.0</td>\n",
       "      <td>0.0</td>\n",
       "      <td>1.0</td>\n",
       "      <td>5.0</td>\n",
       "      <td>3.0</td>\n",
       "      <td>2.0</td>\n",
       "      <td>0.0</td>\n",
       "      <td>17.0</td>\n",
       "    </tr>\n",
       "    <tr>\n",
       "      <th>8755</th>\n",
       "      <td>2017-12-31</td>\n",
       "      <td>20</td>\n",
       "      <td>0.0</td>\n",
       "      <td>0.0</td>\n",
       "      <td>4.0</td>\n",
       "      <td>2.0</td>\n",
       "      <td>0.0</td>\n",
       "      <td>0.0</td>\n",
       "      <td>14.0</td>\n",
       "      <td>0.0</td>\n",
       "      <td>...</td>\n",
       "      <td>5.0</td>\n",
       "      <td>4.0</td>\n",
       "      <td>3.0</td>\n",
       "      <td>0.0</td>\n",
       "      <td>9.0</td>\n",
       "      <td>1.0</td>\n",
       "      <td>5.0</td>\n",
       "      <td>20.0</td>\n",
       "      <td>0.0</td>\n",
       "      <td>8.0</td>\n",
       "    </tr>\n",
       "    <tr>\n",
       "      <th>8756</th>\n",
       "      <td>2017-12-31</td>\n",
       "      <td>21</td>\n",
       "      <td>1.0</td>\n",
       "      <td>0.0</td>\n",
       "      <td>0.0</td>\n",
       "      <td>1.0</td>\n",
       "      <td>1.0</td>\n",
       "      <td>0.0</td>\n",
       "      <td>2.0</td>\n",
       "      <td>0.0</td>\n",
       "      <td>...</td>\n",
       "      <td>3.0</td>\n",
       "      <td>2.0</td>\n",
       "      <td>3.0</td>\n",
       "      <td>0.0</td>\n",
       "      <td>0.0</td>\n",
       "      <td>4.0</td>\n",
       "      <td>17.0</td>\n",
       "      <td>7.0</td>\n",
       "      <td>1.0</td>\n",
       "      <td>35.0</td>\n",
       "    </tr>\n",
       "    <tr>\n",
       "      <th>8757</th>\n",
       "      <td>2017-12-31</td>\n",
       "      <td>22</td>\n",
       "      <td>1.0</td>\n",
       "      <td>0.0</td>\n",
       "      <td>0.0</td>\n",
       "      <td>1.0</td>\n",
       "      <td>0.0</td>\n",
       "      <td>0.0</td>\n",
       "      <td>7.0</td>\n",
       "      <td>0.0</td>\n",
       "      <td>...</td>\n",
       "      <td>2.0</td>\n",
       "      <td>0.0</td>\n",
       "      <td>0.0</td>\n",
       "      <td>0.0</td>\n",
       "      <td>0.0</td>\n",
       "      <td>2.0</td>\n",
       "      <td>11.0</td>\n",
       "      <td>13.0</td>\n",
       "      <td>1.0</td>\n",
       "      <td>12.0</td>\n",
       "    </tr>\n",
       "    <tr>\n",
       "      <th>8758</th>\n",
       "      <td>2017-12-31</td>\n",
       "      <td>23</td>\n",
       "      <td>0.0</td>\n",
       "      <td>0.0</td>\n",
       "      <td>1.0</td>\n",
       "      <td>1.0</td>\n",
       "      <td>0.0</td>\n",
       "      <td>0.0</td>\n",
       "      <td>6.0</td>\n",
       "      <td>0.0</td>\n",
       "      <td>...</td>\n",
       "      <td>3.0</td>\n",
       "      <td>9.0</td>\n",
       "      <td>0.0</td>\n",
       "      <td>0.0</td>\n",
       "      <td>3.0</td>\n",
       "      <td>2.0</td>\n",
       "      <td>6.0</td>\n",
       "      <td>20.0</td>\n",
       "      <td>5.0</td>\n",
       "      <td>27.0</td>\n",
       "    </tr>\n",
       "  </tbody>\n",
       "</table>\n",
       "<p>8760 rows × 265 columns</p>\n",
       "</div>"
      ],
      "text/plain": [
       "            date hour  1.0  2.0  3.0  4.0  5.0  6.0   7.0  8.0  ...  256.0  \\\n",
       "0     2017-01-01   00  0.0  0.0  0.0  1.0  0.0  0.0   2.0  0.0  ...    0.0   \n",
       "1     2017-01-01   01  0.0  0.0  0.0  2.0  0.0  0.0   5.0  0.0  ...    6.0   \n",
       "2     2017-01-01   02  0.0  0.0  0.0  0.0  0.0  0.0   0.0  0.0  ...    0.0   \n",
       "3     2017-01-01   03  0.0  0.0  0.0  0.0  0.0  0.0   1.0  0.0  ...    1.0   \n",
       "4     2017-01-01   04  0.0  0.0  0.0  0.0  0.0  0.0   0.0  0.0  ...    0.0   \n",
       "...          ...  ...  ...  ...  ...  ...  ...  ...   ...  ...  ...    ...   \n",
       "8754  2017-12-31   19  1.0  0.0  1.0  0.0  0.0  0.0   3.0  0.0  ...    6.0   \n",
       "8755  2017-12-31   20  0.0  0.0  4.0  2.0  0.0  0.0  14.0  0.0  ...    5.0   \n",
       "8756  2017-12-31   21  1.0  0.0  0.0  1.0  1.0  0.0   2.0  0.0  ...    3.0   \n",
       "8757  2017-12-31   22  1.0  0.0  0.0  1.0  0.0  0.0   7.0  0.0  ...    2.0   \n",
       "8758  2017-12-31   23  0.0  0.0  1.0  1.0  0.0  0.0   6.0  0.0  ...    3.0   \n",
       "\n",
       "      257.0  258.0  259.0  260.0  261.0  262.0  263.0  264.0  265.0  \n",
       "0       3.0    0.0    0.0    1.0    0.0    3.0    0.0    3.0   27.0  \n",
       "1       0.0    0.0    0.0    0.0    5.0    7.0    6.0    1.0   12.0  \n",
       "2       0.0    2.0    0.0    0.0    0.0    0.0    0.0    0.0   10.0  \n",
       "3       0.0    2.0    0.0    0.0    0.0    0.0    0.0    0.0    4.0  \n",
       "4       0.0    0.0    0.0    0.0    0.0    0.0    0.0    0.0    3.0  \n",
       "...     ...    ...    ...    ...    ...    ...    ...    ...    ...  \n",
       "8754    2.0    0.0    0.0    1.0    5.0    3.0    2.0    0.0   17.0  \n",
       "8755    4.0    3.0    0.0    9.0    1.0    5.0   20.0    0.0    8.0  \n",
       "8756    2.0    3.0    0.0    0.0    4.0   17.0    7.0    1.0   35.0  \n",
       "8757    0.0    0.0    0.0    0.0    2.0   11.0   13.0    1.0   12.0  \n",
       "8758    9.0    0.0    0.0    3.0    2.0    6.0   20.0    5.0   27.0  \n",
       "\n",
       "[8760 rows x 265 columns]"
      ]
     },
     "execution_count": 79,
     "metadata": {},
     "output_type": "execute_result"
    }
   ],
   "source": [
    "JFKridership2017"
   ]
  },
  {
   "cell_type": "code",
   "execution_count": 80,
   "metadata": {},
   "outputs": [],
   "source": [
    "standardscaler2017, matrix2017 = standardize(JFKridership2017.drop(columns=['date','hour']))\n",
    "standardscaler2018, matrix2018 = standardize(JFKridership2018.drop(columns=['date','hour']))"
   ]
  },
  {
   "cell_type": "markdown",
   "metadata": {},
   "source": [
    "### 5.2. PCA\n",
    "\n",
    "#### 5.2.1 train PCA on 2017 data. Let's arbitrarily set PCA components as 5, and gamma is None, try kernel ‘linear’, ‘poly’, ‘rbf’, and ‘sigmoid’. Select the transformer which has the lowest mean squared error in data reconstruction (inverse transform). (5 pts)"
   ]
  },
  {
   "cell_type": "code",
   "execution_count": 81,
   "metadata": {},
   "outputs": [],
   "source": [
    "pca_comps = 5"
   ]
  },
  {
   "cell_type": "code",
   "execution_count": 82,
   "metadata": {},
   "outputs": [],
   "source": [
    "mse_result = {}\n",
    "for kernel in ['linear','sigmoid','poly','rbf']:\n",
    "    pca = KernelPCA(n_components=pca_comps,kernel=kernel,gamma=None,fit_inverse_transform=True)\n",
    "    X_reduced = pca.fit_transform(matrix2017)\n",
    "    X_reverse = pca.inverse_transform(X_reduced)\n",
    "    mse = mean_squared_error(matrix2017, X_reverse)\n",
    "    mse_result[kernel] = mse"
   ]
  },
  {
   "cell_type": "code",
   "execution_count": 83,
   "metadata": {},
   "outputs": [
    {
     "data": {
      "text/plain": [
       "[('linear', 0.8172867273782234),\n",
       " ('sigmoid', 0.8238738787530594),\n",
       " ('rbf', 0.835464172886209),\n",
       " ('poly', 0.8378384386480983)]"
      ]
     },
     "execution_count": 83,
     "metadata": {},
     "output_type": "execute_result"
    }
   ],
   "source": [
    "sorted(mse_result.items(), key=lambda item: item[1], reverse=False)"
   ]
  },
  {
   "cell_type": "markdown",
   "metadata": {},
   "source": [
    "#### 5.2.2 Apply the selected transformer from 4.2.1 to the standardized 2018 dataset and report the mean squared error between the standardized data and reconstructed data. Hint: fit the PCA on 2017 data and apply it to transform 2018 data.(5pts)"
   ]
  },
  {
   "cell_type": "code",
   "execution_count": 84,
   "metadata": {},
   "outputs": [
    {
     "name": "stdout",
     "output_type": "stream",
     "text": [
      "0.8248590348748092\n"
     ]
    }
   ],
   "source": [
    "pca = KernelPCA(n_components=pca_comps,kernel='linear',gamma=None,fit_inverse_transform=True)\n",
    "reduced2018 = pca.fit_transform(matrix2018)\n",
    "print(mean_squared_error(matrix2018,pca.inverse_transform(reduced2018)))"
   ]
  },
  {
   "cell_type": "markdown",
   "metadata": {},
   "source": [
    "### 5.3 Add lag (5pts)\n",
    "add 12 lags of each component from 4.2.2 (compressed 2018 data only). The expected output should have 65 dimensions. In the further modeling step, we will apply the 60 lag variables to predict the 5 components."
   ]
  },
  {
   "cell_type": "code",
   "execution_count": 85,
   "metadata": {},
   "outputs": [],
   "source": [
    "# add 12 lag value for each PCA component\n",
    "def addLag(dataset, maxlag, lagColumns):\n",
    "    dataset_list = [dataset]\n",
    "\n",
    "    for l in range(1, maxlag+1):\n",
    "        df = dataset.shift(l)\n",
    "        df = df[lagColumns]\n",
    "        df.columns = [c+'_lag_'+str(l) for c in df.columns]\n",
    "        dataset_list.append(df)\n",
    "\n",
    "    dataset = pd.concat(dataset_list, axis=1).dropna()\n",
    "    return dataset"
   ]
  },
  {
   "cell_type": "code",
   "execution_count": 86,
   "metadata": {},
   "outputs": [],
   "source": [
    "reduced2018 = pd.DataFrame(reduced2018, columns=range(1,pca_comps+1))\n",
    "reduced2018.columns = [str(i) for i in reduced2018.columns]"
   ]
  },
  {
   "cell_type": "code",
   "execution_count": 123,
   "metadata": {},
   "outputs": [],
   "source": [
    "lagColumns = [str(i) for i in range(1,pca_comps+1)]\n",
    "targetColumns = [str(i) for i in range(1,pca_comps+1)]\n",
    "reduced2018_lag = addLag(reduced2018, 12, lagColumns)\n"
   ]
  },
  {
   "cell_type": "code",
   "execution_count": 124,
   "metadata": {},
   "outputs": [
    {
     "data": {
      "text/html": [
       "<div>\n",
       "<style scoped>\n",
       "    .dataframe tbody tr th:only-of-type {\n",
       "        vertical-align: middle;\n",
       "    }\n",
       "\n",
       "    .dataframe tbody tr th {\n",
       "        vertical-align: top;\n",
       "    }\n",
       "\n",
       "    .dataframe thead th {\n",
       "        text-align: right;\n",
       "    }\n",
       "</style>\n",
       "<table border=\"1\" class=\"dataframe\">\n",
       "  <thead>\n",
       "    <tr style=\"text-align: right;\">\n",
       "      <th></th>\n",
       "      <th>1</th>\n",
       "      <th>2</th>\n",
       "      <th>3</th>\n",
       "      <th>4</th>\n",
       "      <th>5</th>\n",
       "      <th>1_lag_1</th>\n",
       "      <th>2_lag_1</th>\n",
       "      <th>3_lag_1</th>\n",
       "      <th>4_lag_1</th>\n",
       "      <th>5_lag_1</th>\n",
       "      <th>...</th>\n",
       "      <th>1_lag_11</th>\n",
       "      <th>2_lag_11</th>\n",
       "      <th>3_lag_11</th>\n",
       "      <th>4_lag_11</th>\n",
       "      <th>5_lag_11</th>\n",
       "      <th>1_lag_12</th>\n",
       "      <th>2_lag_12</th>\n",
       "      <th>3_lag_12</th>\n",
       "      <th>4_lag_12</th>\n",
       "      <th>5_lag_12</th>\n",
       "    </tr>\n",
       "  </thead>\n",
       "  <tbody>\n",
       "    <tr>\n",
       "      <th>12</th>\n",
       "      <td>1.040523</td>\n",
       "      <td>0.363840</td>\n",
       "      <td>3.465837</td>\n",
       "      <td>-1.104718</td>\n",
       "      <td>1.931564</td>\n",
       "      <td>-2.664478</td>\n",
       "      <td>1.495311</td>\n",
       "      <td>-0.499059</td>\n",
       "      <td>-0.502654</td>\n",
       "      <td>-0.144161</td>\n",
       "      <td>...</td>\n",
       "      <td>-4.802427</td>\n",
       "      <td>3.689195</td>\n",
       "      <td>-1.423831</td>\n",
       "      <td>0.595256</td>\n",
       "      <td>-1.742917</td>\n",
       "      <td>-2.777510</td>\n",
       "      <td>4.482268</td>\n",
       "      <td>-0.766998</td>\n",
       "      <td>0.032220</td>\n",
       "      <td>1.976579</td>\n",
       "    </tr>\n",
       "    <tr>\n",
       "      <th>13</th>\n",
       "      <td>1.683809</td>\n",
       "      <td>-1.019307</td>\n",
       "      <td>1.948915</td>\n",
       "      <td>1.279656</td>\n",
       "      <td>1.428750</td>\n",
       "      <td>1.040523</td>\n",
       "      <td>0.363840</td>\n",
       "      <td>3.465837</td>\n",
       "      <td>-1.104718</td>\n",
       "      <td>1.931564</td>\n",
       "      <td>...</td>\n",
       "      <td>-8.778063</td>\n",
       "      <td>0.704671</td>\n",
       "      <td>0.769271</td>\n",
       "      <td>-0.386922</td>\n",
       "      <td>-0.083721</td>\n",
       "      <td>-4.802427</td>\n",
       "      <td>3.689195</td>\n",
       "      <td>-1.423831</td>\n",
       "      <td>0.595256</td>\n",
       "      <td>-1.742917</td>\n",
       "    </tr>\n",
       "    <tr>\n",
       "      <th>14</th>\n",
       "      <td>9.100059</td>\n",
       "      <td>0.791366</td>\n",
       "      <td>2.758701</td>\n",
       "      <td>-0.000728</td>\n",
       "      <td>3.544482</td>\n",
       "      <td>1.683809</td>\n",
       "      <td>-1.019307</td>\n",
       "      <td>1.948915</td>\n",
       "      <td>1.279656</td>\n",
       "      <td>1.428750</td>\n",
       "      <td>...</td>\n",
       "      <td>-8.611176</td>\n",
       "      <td>0.912489</td>\n",
       "      <td>0.697618</td>\n",
       "      <td>0.339413</td>\n",
       "      <td>1.203692</td>\n",
       "      <td>-8.778063</td>\n",
       "      <td>0.704671</td>\n",
       "      <td>0.769271</td>\n",
       "      <td>-0.386922</td>\n",
       "      <td>-0.083721</td>\n",
       "    </tr>\n",
       "    <tr>\n",
       "      <th>15</th>\n",
       "      <td>10.990321</td>\n",
       "      <td>-0.007905</td>\n",
       "      <td>6.035496</td>\n",
       "      <td>1.386558</td>\n",
       "      <td>1.699737</td>\n",
       "      <td>9.100059</td>\n",
       "      <td>0.791366</td>\n",
       "      <td>2.758701</td>\n",
       "      <td>-0.000728</td>\n",
       "      <td>3.544482</td>\n",
       "      <td>...</td>\n",
       "      <td>-7.915599</td>\n",
       "      <td>1.612142</td>\n",
       "      <td>-0.809723</td>\n",
       "      <td>-1.050294</td>\n",
       "      <td>-0.669355</td>\n",
       "      <td>-8.611176</td>\n",
       "      <td>0.912489</td>\n",
       "      <td>0.697618</td>\n",
       "      <td>0.339413</td>\n",
       "      <td>1.203692</td>\n",
       "    </tr>\n",
       "    <tr>\n",
       "      <th>16</th>\n",
       "      <td>8.322779</td>\n",
       "      <td>0.566146</td>\n",
       "      <td>4.583486</td>\n",
       "      <td>-0.645068</td>\n",
       "      <td>1.533844</td>\n",
       "      <td>10.990321</td>\n",
       "      <td>-0.007905</td>\n",
       "      <td>6.035496</td>\n",
       "      <td>1.386558</td>\n",
       "      <td>1.699737</td>\n",
       "      <td>...</td>\n",
       "      <td>-2.785730</td>\n",
       "      <td>2.859016</td>\n",
       "      <td>0.342471</td>\n",
       "      <td>1.308911</td>\n",
       "      <td>2.200759</td>\n",
       "      <td>-7.915599</td>\n",
       "      <td>1.612142</td>\n",
       "      <td>-0.809723</td>\n",
       "      <td>-1.050294</td>\n",
       "      <td>-0.669355</td>\n",
       "    </tr>\n",
       "    <tr>\n",
       "      <th>...</th>\n",
       "      <td>...</td>\n",
       "      <td>...</td>\n",
       "      <td>...</td>\n",
       "      <td>...</td>\n",
       "      <td>...</td>\n",
       "      <td>...</td>\n",
       "      <td>...</td>\n",
       "      <td>...</td>\n",
       "      <td>...</td>\n",
       "      <td>...</td>\n",
       "      <td>...</td>\n",
       "      <td>...</td>\n",
       "      <td>...</td>\n",
       "      <td>...</td>\n",
       "      <td>...</td>\n",
       "      <td>...</td>\n",
       "      <td>...</td>\n",
       "      <td>...</td>\n",
       "      <td>...</td>\n",
       "      <td>...</td>\n",
       "      <td>...</td>\n",
       "    </tr>\n",
       "    <tr>\n",
       "      <th>8754</th>\n",
       "      <td>7.372910</td>\n",
       "      <td>4.596384</td>\n",
       "      <td>1.091831</td>\n",
       "      <td>1.369456</td>\n",
       "      <td>2.035088</td>\n",
       "      <td>-1.329147</td>\n",
       "      <td>1.358542</td>\n",
       "      <td>1.688122</td>\n",
       "      <td>-1.316288</td>\n",
       "      <td>0.783688</td>\n",
       "      <td>...</td>\n",
       "      <td>1.229897</td>\n",
       "      <td>1.056167</td>\n",
       "      <td>0.010036</td>\n",
       "      <td>2.879663</td>\n",
       "      <td>0.964169</td>\n",
       "      <td>-0.778202</td>\n",
       "      <td>1.043450</td>\n",
       "      <td>2.438404</td>\n",
       "      <td>0.301327</td>\n",
       "      <td>1.097359</td>\n",
       "    </tr>\n",
       "    <tr>\n",
       "      <th>8755</th>\n",
       "      <td>5.986419</td>\n",
       "      <td>5.793787</td>\n",
       "      <td>3.798710</td>\n",
       "      <td>0.342779</td>\n",
       "      <td>1.974064</td>\n",
       "      <td>7.372910</td>\n",
       "      <td>4.596384</td>\n",
       "      <td>1.091831</td>\n",
       "      <td>1.369456</td>\n",
       "      <td>2.035088</td>\n",
       "      <td>...</td>\n",
       "      <td>-2.859364</td>\n",
       "      <td>0.661745</td>\n",
       "      <td>0.204809</td>\n",
       "      <td>0.229377</td>\n",
       "      <td>1.312831</td>\n",
       "      <td>1.229897</td>\n",
       "      <td>1.056167</td>\n",
       "      <td>0.010036</td>\n",
       "      <td>2.879663</td>\n",
       "      <td>0.964169</td>\n",
       "    </tr>\n",
       "    <tr>\n",
       "      <th>8756</th>\n",
       "      <td>8.531819</td>\n",
       "      <td>8.159513</td>\n",
       "      <td>4.069247</td>\n",
       "      <td>0.133768</td>\n",
       "      <td>1.419359</td>\n",
       "      <td>5.986419</td>\n",
       "      <td>5.793787</td>\n",
       "      <td>3.798710</td>\n",
       "      <td>0.342779</td>\n",
       "      <td>1.974064</td>\n",
       "      <td>...</td>\n",
       "      <td>-2.947173</td>\n",
       "      <td>1.902483</td>\n",
       "      <td>0.462128</td>\n",
       "      <td>0.103190</td>\n",
       "      <td>-1.065838</td>\n",
       "      <td>-2.859364</td>\n",
       "      <td>0.661745</td>\n",
       "      <td>0.204809</td>\n",
       "      <td>0.229377</td>\n",
       "      <td>1.312831</td>\n",
       "    </tr>\n",
       "    <tr>\n",
       "      <th>8757</th>\n",
       "      <td>7.970936</td>\n",
       "      <td>7.467378</td>\n",
       "      <td>1.358999</td>\n",
       "      <td>3.846159</td>\n",
       "      <td>-0.408936</td>\n",
       "      <td>8.531819</td>\n",
       "      <td>8.159513</td>\n",
       "      <td>4.069247</td>\n",
       "      <td>0.133768</td>\n",
       "      <td>1.419359</td>\n",
       "      <td>...</td>\n",
       "      <td>-3.468488</td>\n",
       "      <td>0.564814</td>\n",
       "      <td>0.202308</td>\n",
       "      <td>0.057022</td>\n",
       "      <td>-0.000998</td>\n",
       "      <td>-2.947173</td>\n",
       "      <td>1.902483</td>\n",
       "      <td>0.462128</td>\n",
       "      <td>0.103190</td>\n",
       "      <td>-1.065838</td>\n",
       "    </tr>\n",
       "    <tr>\n",
       "      <th>8758</th>\n",
       "      <td>3.213754</td>\n",
       "      <td>6.759724</td>\n",
       "      <td>-1.485609</td>\n",
       "      <td>2.300390</td>\n",
       "      <td>0.187180</td>\n",
       "      <td>7.970936</td>\n",
       "      <td>7.467378</td>\n",
       "      <td>1.358999</td>\n",
       "      <td>3.846159</td>\n",
       "      <td>-0.408936</td>\n",
       "      <td>...</td>\n",
       "      <td>0.598583</td>\n",
       "      <td>1.544688</td>\n",
       "      <td>2.546990</td>\n",
       "      <td>-0.053161</td>\n",
       "      <td>0.821271</td>\n",
       "      <td>-3.468488</td>\n",
       "      <td>0.564814</td>\n",
       "      <td>0.202308</td>\n",
       "      <td>0.057022</td>\n",
       "      <td>-0.000998</td>\n",
       "    </tr>\n",
       "  </tbody>\n",
       "</table>\n",
       "<p>8747 rows × 65 columns</p>\n",
       "</div>"
      ],
      "text/plain": [
       "              1         2         3         4         5    1_lag_1   2_lag_1  \\\n",
       "12     1.040523  0.363840  3.465837 -1.104718  1.931564  -2.664478  1.495311   \n",
       "13     1.683809 -1.019307  1.948915  1.279656  1.428750   1.040523  0.363840   \n",
       "14     9.100059  0.791366  2.758701 -0.000728  3.544482   1.683809 -1.019307   \n",
       "15    10.990321 -0.007905  6.035496  1.386558  1.699737   9.100059  0.791366   \n",
       "16     8.322779  0.566146  4.583486 -0.645068  1.533844  10.990321 -0.007905   \n",
       "...         ...       ...       ...       ...       ...        ...       ...   \n",
       "8754   7.372910  4.596384  1.091831  1.369456  2.035088  -1.329147  1.358542   \n",
       "8755   5.986419  5.793787  3.798710  0.342779  1.974064   7.372910  4.596384   \n",
       "8756   8.531819  8.159513  4.069247  0.133768  1.419359   5.986419  5.793787   \n",
       "8757   7.970936  7.467378  1.358999  3.846159 -0.408936   8.531819  8.159513   \n",
       "8758   3.213754  6.759724 -1.485609  2.300390  0.187180   7.970936  7.467378   \n",
       "\n",
       "       3_lag_1   4_lag_1   5_lag_1  ...  1_lag_11  2_lag_11  3_lag_11  \\\n",
       "12   -0.499059 -0.502654 -0.144161  ... -4.802427  3.689195 -1.423831   \n",
       "13    3.465837 -1.104718  1.931564  ... -8.778063  0.704671  0.769271   \n",
       "14    1.948915  1.279656  1.428750  ... -8.611176  0.912489  0.697618   \n",
       "15    2.758701 -0.000728  3.544482  ... -7.915599  1.612142 -0.809723   \n",
       "16    6.035496  1.386558  1.699737  ... -2.785730  2.859016  0.342471   \n",
       "...        ...       ...       ...  ...       ...       ...       ...   \n",
       "8754  1.688122 -1.316288  0.783688  ...  1.229897  1.056167  0.010036   \n",
       "8755  1.091831  1.369456  2.035088  ... -2.859364  0.661745  0.204809   \n",
       "8756  3.798710  0.342779  1.974064  ... -2.947173  1.902483  0.462128   \n",
       "8757  4.069247  0.133768  1.419359  ... -3.468488  0.564814  0.202308   \n",
       "8758  1.358999  3.846159 -0.408936  ...  0.598583  1.544688  2.546990   \n",
       "\n",
       "      4_lag_11  5_lag_11  1_lag_12  2_lag_12  3_lag_12  4_lag_12  5_lag_12  \n",
       "12    0.595256 -1.742917 -2.777510  4.482268 -0.766998  0.032220  1.976579  \n",
       "13   -0.386922 -0.083721 -4.802427  3.689195 -1.423831  0.595256 -1.742917  \n",
       "14    0.339413  1.203692 -8.778063  0.704671  0.769271 -0.386922 -0.083721  \n",
       "15   -1.050294 -0.669355 -8.611176  0.912489  0.697618  0.339413  1.203692  \n",
       "16    1.308911  2.200759 -7.915599  1.612142 -0.809723 -1.050294 -0.669355  \n",
       "...        ...       ...       ...       ...       ...       ...       ...  \n",
       "8754  2.879663  0.964169 -0.778202  1.043450  2.438404  0.301327  1.097359  \n",
       "8755  0.229377  1.312831  1.229897  1.056167  0.010036  2.879663  0.964169  \n",
       "8756  0.103190 -1.065838 -2.859364  0.661745  0.204809  0.229377  1.312831  \n",
       "8757  0.057022 -0.000998 -2.947173  1.902483  0.462128  0.103190 -1.065838  \n",
       "8758 -0.053161  0.821271 -3.468488  0.564814  0.202308  0.057022 -0.000998  \n",
       "\n",
       "[8747 rows x 65 columns]"
      ]
     },
     "execution_count": 124,
     "metadata": {},
     "output_type": "execute_result"
    }
   ],
   "source": [
    "reduced2018_lag"
   ]
  },
  {
   "cell_type": "markdown",
   "metadata": {},
   "source": [
    "## 6. RandomForest modeling (23pts)\n",
    "\n",
    "We aim at predicting compressed daily ridership (5 PCA components values) from 12-hour lag variables. Parameter tuning is required in this section, including min_samples_split, min_samples_leaf, and n_estimators. First 80% days for training, test on the rest 20%. And in the training dataset, validate the model on the bottom 20%. \n",
    "\n",
    "\n",
    "### Extra credit: \n",
    "\n",
    "Using grid_search function in sklearn instead of a for-loop when tuning parameters in a RandomForest. The train, validation, and test datasets should be split in the same way as described above. Hint: To fix train and validation in a grid search, you might need the PredefinedSplit function from sklearn."
   ]
  },
  {
   "cell_type": "markdown",
   "metadata": {},
   "source": [
    "### 6.1 train test split (3pts)\n",
    "Please keep in mind that random train test split is not applicable in this case."
   ]
  },
  {
   "cell_type": "code",
   "execution_count": 125,
   "metadata": {},
   "outputs": [],
   "source": [
    "train_size = int(reduced2018_lag.shape[0]*0.8)\n",
    "val_size = int(train_size*0.2)\n",
    "train_data, test_data = reduced2018_lag[:train_size], reduced2018_lag[train_size:]"
   ]
  },
  {
   "cell_type": "code",
   "execution_count": 126,
   "metadata": {},
   "outputs": [],
   "source": [
    "X_train,y_train = train_data.drop(columns=lagColumns), train_data[lagColumns]\n",
    "X_test,y_test = test_data.drop(columns=lagColumns), test_data[lagColumns]\n",
    "\n",
    "X_val,y_val = X_train[:val_size],y_train[:val_size]\n",
    "X_train,y_train = X_train[val_size:],y_train[val_size:]"
   ]
  },
  {
   "cell_type": "markdown",
   "metadata": {},
   "source": [
    "### 6.2 parameter tuning (10pts)\n",
    "Please search the best parameter set in the following range:\n",
    "min_samples_split: 2 to 10,\n",
    "min_samples_leaf: 2 to 10,\n",
    "and n_estimators equal to 50.\n"
   ]
  },
  {
   "cell_type": "markdown",
   "metadata": {},
   "source": [
    "#### for-loop solution"
   ]
  },
  {
   "cell_type": "code",
   "execution_count": 127,
   "metadata": {},
   "outputs": [],
   "source": [
    "validation_r2 = 0\n",
    "parameter_set = []\n",
    "n_estimators = 50\n",
    "for min_samples_split in np.arange(2, 10, 5):\n",
    "    for min_samples_leaf in np.arange(2, 10, 5):\n",
    "        rf = RandomForestRegressor(n_estimators=n_estimators,\n",
    "                                   min_samples_split=min_samples_split,\n",
    "                                   min_samples_leaf=min_samples_leaf,\n",
    "                                   random_state = 2019) \n",
    "        rf.fit(X_train,y_train)\n",
    "        r2 = r2_score(y_val,rf.predict(X_val))\n",
    "        if r2 > validation_r2:\n",
    "            validation_r2 = r2\n",
    "            parameter_set = [n_estimators,min_samples_split,min_samples_leaf,max_depth]"
   ]
  },
  {
   "cell_type": "code",
   "execution_count": 129,
   "metadata": {},
   "outputs": [],
   "source": [
    "best_rf = RandomForestRegressor(n_estimators=n_estimators,\n",
    "                                   min_samples_split=parameter_set[1],\n",
    "                                   min_samples_leaf=parameter_set[2],\n",
    "                                   random_state = 2019) "
   ]
  },
  {
   "cell_type": "markdown",
   "metadata": {},
   "source": [
    "#### grid search solution"
   ]
  },
  {
   "cell_type": "code",
   "execution_count": 130,
   "metadata": {},
   "outputs": [
    {
     "data": {
      "text/plain": [
       "GridSearchCV(cv=PredefinedSplit(test_fold=array([-1, -1, ...,  0,  0])),\n",
       "             error_score=nan,\n",
       "             estimator=RandomForestRegressor(bootstrap=True, ccp_alpha=0.0,\n",
       "                                             criterion='mse', max_depth=None,\n",
       "                                             max_features='auto',\n",
       "                                             max_leaf_nodes=None,\n",
       "                                             max_samples=None,\n",
       "                                             min_impurity_decrease=0.0,\n",
       "                                             min_impurity_split=None,\n",
       "                                             min_samples_leaf=1,\n",
       "                                             min_samples_split=2,\n",
       "                                             min_weight_fraction_leaf=0.0,\n",
       "                                             n_estimators=100, n_jobs=None,\n",
       "                                             oob_score=False, random_state=2019,\n",
       "                                             verbose=0, warm_start=False),\n",
       "             iid='deprecated', n_jobs=None,\n",
       "             param_grid=[{'min_samples_leaf': array([2, 7]),\n",
       "                          'min_samples_split': array([2, 7]),\n",
       "                          'n_estimators': [150]}],\n",
       "             pre_dispatch='2*n_jobs', refit=True, return_train_score=False,\n",
       "             scoring='r2', verbose=0)"
      ]
     },
     "execution_count": 130,
     "metadata": {},
     "output_type": "execute_result"
    }
   ],
   "source": [
    "X_train,y_train = train_data.drop(columns=lagColumns), train_data[lagColumns]\n",
    "X_test,y_test = test_data.drop(columns=lagColumns), test_data[lagColumns]\n",
    "\n",
    "val_size = int(train_size*0.8)\n",
    "val_fold = list(-1*np.ones(X_train.shape[0]-val_size)) + list(np.zeros(val_size))\n",
    "ps = PredefinedSplit(val_fold)\n",
    "param_grid = [{\n",
    "    \"n_estimators\": [150],\n",
    "    \"min_samples_split\": np.arange(2, 10, 5),\n",
    "    'min_samples_leaf': np.arange(2, 10, 5), \n",
    "}]\n",
    "\n",
    "rf = RandomForestRegressor(random_state = 2019) \n",
    "rf_grid_search = GridSearchCV(rf, param_grid, cv=ps, scoring='r2')\n",
    "rf_grid_search.fit(X_train, y_train)"
   ]
  },
  {
   "cell_type": "code",
   "execution_count": 131,
   "metadata": {},
   "outputs": [
    {
     "data": {
      "text/plain": [
       "RandomForestRegressor(bootstrap=True, ccp_alpha=0.0, criterion='mse',\n",
       "                      max_depth=None, max_features='auto', max_leaf_nodes=None,\n",
       "                      max_samples=None, min_impurity_decrease=0.0,\n",
       "                      min_impurity_split=None, min_samples_leaf=2,\n",
       "                      min_samples_split=2, min_weight_fraction_leaf=0.0,\n",
       "                      n_estimators=150, n_jobs=None, oob_score=False,\n",
       "                      random_state=2019, verbose=0, warm_start=False)"
      ]
     },
     "execution_count": 131,
     "metadata": {},
     "output_type": "execute_result"
    }
   ],
   "source": [
    "rf_grid_search.best_estimator_"
   ]
  },
  {
   "cell_type": "code",
   "execution_count": null,
   "metadata": {},
   "outputs": [],
   "source": [
    "best_rf = rf_grid_search.best_estimator_"
   ]
  },
  {
   "cell_type": "markdown",
   "metadata": {},
   "source": [
    "### 6.3 model performance measurement (10pts)\n",
    "Prediction results are PCA components instead of taxi zone level ridership. To reconstruct the data back to its original size and scale, we need to inverse PCA and inverse standardization. Report the taxi zone level $R^2$ value."
   ]
  },
  {
   "cell_type": "code",
   "execution_count": 133,
   "metadata": {},
   "outputs": [
    {
     "name": "stdout",
     "output_type": "stream",
     "text": [
      "Train R2:  0.9385958850152278\n",
      "Test R2:  0.7407588310368609\n",
      "Taxi zone leve test R2:  0.418214915998188\n"
     ]
    }
   ],
   "source": [
    "best_rf.fit(X_train,y_train)\n",
    "print(\"Train R2: \",best_rf.score(X_train,y_train))\n",
    "test_r2 = best_rf.score(X_test,y_test)\n",
    "print(\"Test R2: \",test_r2)\n",
    "# component prediction\n",
    "pca_prediction = best_rf.predict(X_test)\n",
    "# inverse PCA to get taxizone prediction\n",
    "taxizone_prediction = inversePCA(pca_prediction,pca)\n",
    "taxizone_prediction = inverse_standardize(taxizone_prediction, standardscaler2018)\n",
    "# r2 score is an average of each taxi zone prediction's r2 score weighted by variance of each output\n",
    "print(\"Taxi zone leve test R2: \", r2_score(JFKridership2018.drop(columns=['date','hour']).iloc[train_size+12:], taxizone_prediction, multioutput='variance_weighted'))"
   ]
  }
 ],
 "metadata": {
  "kernelspec": {
   "display_name": "py39",
   "language": "python",
   "name": "py39"
  },
  "language_info": {
   "codemirror_mode": {
    "name": "ipython",
    "version": 3
   },
   "file_extension": ".py",
   "mimetype": "text/x-python",
   "name": "python",
   "nbconvert_exporter": "python",
   "pygments_lexer": "ipython3",
   "version": "3.9.7"
  }
 },
 "nbformat": 4,
 "nbformat_minor": 4
}
