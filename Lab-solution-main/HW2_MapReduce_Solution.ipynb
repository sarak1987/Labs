{
 "cells": [
  {
   "cell_type": "markdown",
   "metadata": {},
   "source": [
    "### Task 1. \n",
    "\n",
    "#### MapReduce\n",
    "\n",
    "Use MapReduce to calculate the average housing price in each zip code and filter out records in which gross sqft is less than 500 and sale price is less than 100000. Round the average housing price to 2 decimals, and sort the output by housing price ascending."
   ]
  },
  {
   "cell_type": "code",
   "execution_count": 1,
   "metadata": {
    "scrolled": true
   },
   "outputs": [
    {
     "name": "stdout",
     "output_type": "stream",
     "text": [
      "--2021-03-07 21:50:25--  https://github.com/CUSP2021ADS/Data/raw/main/housingSalseSample.csv\n",
      "Resolving github.com (github.com)... 140.82.112.3\n",
      "Connecting to github.com (github.com)|140.82.112.3|:443... connected.\n",
      "HTTP request sent, awaiting response... 302 Found\n",
      "Location: https://raw.githubusercontent.com/CUSP2021ADS/Data/main/housingSalseSample.csv [following]\n",
      "--2021-03-07 21:50:25--  https://raw.githubusercontent.com/CUSP2021ADS/Data/main/housingSalseSample.csv\n",
      "Resolving raw.githubusercontent.com (raw.githubusercontent.com)... 185.199.111.133, 185.199.109.133, 185.199.110.133, ...\n",
      "Connecting to raw.githubusercontent.com (raw.githubusercontent.com)|185.199.111.133|:443... connected.\n",
      "HTTP request sent, awaiting response... 200 OK\n",
      "Length: 6167298 (5.9M) [text/plain]\n",
      "Saving to: ‘housingSalseSample.csv’\n",
      "\n",
      "housingSalseSample. 100%[===================>]   5.88M  7.56MB/s    in 0.8s    \n",
      "\n",
      "2021-03-07 21:50:26 (7.56 MB/s) - ‘housingSalseSample.csv’ saved [6167298/6167298]\n",
      "\n"
     ]
    }
   ],
   "source": [
    "!wget -O housingSalseSample.csv https://github.com/CUSP2021ADS/Data/raw/main/housingSalseSample.csv"
   ]
  },
  {
   "cell_type": "code",
   "execution_count": 2,
   "metadata": {},
   "outputs": [],
   "source": [
    "from functools import reduce\n",
    "import csv\n",
    "\n",
    "def returnInfo(record):\n",
    "    return(record['ZIP CODE'],record['GROSS SQUARE FEET'],record['SALE PRICE'])\n",
    "\n",
    "def sum_sqft_price(result,record):\n",
    "    zipcode, sqft, price = record[0], record[1], record[2]\n",
    "    if zipcode not in result:\n",
    "        result[zipcode] = (float(sqft),float(price))\n",
    "    else:\n",
    "        result[zipcode] = (result[zipcode][0]+float(sqft),result[zipcode][1]+float(price))\n",
    "    return result"
   ]
  },
  {
   "cell_type": "code",
   "execution_count": 3,
   "metadata": {},
   "outputs": [],
   "source": [
    "with open('housingSalseSample.csv', 'r') as fi:\n",
    "    reader = csv.DictReader(fi)\n",
    "\n",
    "    output = sorted(map(lambda x: [int(float(x[0])),round(x[1],2)],\n",
    "                 map(lambda x: (x[0],x[1][1]/x[1][0]),\n",
    "                 list(reduce(sum_sqft_price,\n",
    "                             filter(lambda x: float(x[1])>500 and float(x[2])>100000,\n",
    "                                    filter(lambda x: len(x[0])*len(x[1])*len(x[2])>0, \n",
    "                                           list(map(returnInfo,reader)))),{}).items()))), key = lambda x: x[1])"
   ]
  },
  {
   "cell_type": "code",
   "execution_count": 4,
   "metadata": {},
   "outputs": [],
   "source": [
    "'''grading function\n",
    "please pass your output into this function and upload the generated csv file \n",
    "together with your notebook to your GitHub repo'''\n",
    "\n",
    "def grading(output):\n",
    "    import pandas as pd\n",
    "    pd.DataFrame(output,columns=['zipcode','price']).to_csv('output1.csv',index=False)\n",
    "\n",
    "grading(output)"
   ]
  },
  {
   "cell_type": "markdown",
   "metadata": {},
   "source": [
    "### Task 2. \n",
    "#### multiprocessing and Chunk"
   ]
  },
  {
   "cell_type": "code",
   "execution_count": 5,
   "metadata": {},
   "outputs": [
    {
     "name": "stdout",
     "output_type": "stream",
     "text": [
      "--2021-03-07 21:50:27--  https://raw.githubusercontent.com/CUSP2021ADS/Data/main/ADSSession6Task2Data.csv\n",
      "Resolving raw.githubusercontent.com (raw.githubusercontent.com)... 185.199.111.133, 185.199.109.133, 185.199.110.133, ...\n",
      "Connecting to raw.githubusercontent.com (raw.githubusercontent.com)|185.199.111.133|:443... connected.\n",
      "HTTP request sent, awaiting response... 200 OK\n",
      "Length: 279369 (273K) [text/plain]\n",
      "Saving to: ‘ADSSession6Task2Data.csv’\n",
      "\n",
      "ADSSession6Task2Dat 100%[===================>] 272.82K  --.-KB/s    in 0.1s    \n",
      "\n",
      "2021-03-07 21:50:27 (2.34 MB/s) - ‘ADSSession6Task2Data.csv’ saved [279369/279369]\n",
      "\n"
     ]
    }
   ],
   "source": [
    "!wget -O ADSSession6Task2Data.csv https://raw.githubusercontent.com/CUSP2021ADS/Data/main/ADSSession6Task2Data.csv"
   ]
  },
  {
   "cell_type": "markdown",
   "metadata": {},
   "source": [
    "Apply the chunk and MapReduce method to sum up each type's value in the synthetic dataset—only keep records which $Select$ value is 1, and read 1000 lines in each chunk. Use multiprocessing package to deploy the task to multi-cores. The output should only have two columns: type and total value.\n",
    "\n",
    "Hint: filter function is not available in multiprocessing, implement an if-else function in the map or reduce step."
   ]
  },
  {
   "cell_type": "code",
   "execution_count": 6,
   "metadata": {},
   "outputs": [],
   "source": [
    "from multiprocessing import Pool\n",
    "\n",
    "def returnValue(record):\n",
    "    return (record['Type'],record['Value'],record['Select'])\n",
    "\n",
    "    \n",
    "def sumValue(result,record): #add rides from a new record to the dictionary accumilating type-origin-destination-time ridership\n",
    "    if str(record[2]) == '1':\n",
    "        result[record[0]] = result.get(record[0],0) + float(record[1])\n",
    "\n",
    "    return result"
   ]
  },
  {
   "cell_type": "code",
   "execution_count": 7,
   "metadata": {},
   "outputs": [],
   "source": [
    "with open('ADSSession6Task2Data.csv', 'r') as fi:\n",
    "    reader = csv.DictReader(fi)\n",
    "    chunk = []\n",
    "    result = []\n",
    "    # read 100000 rows in each chunk\n",
    "    chunksize = 1000\n",
    "    pool = Pool(8)\n",
    "    for i, line in enumerate(reader):\n",
    "        if (i % chunksize == 0 and i > 0):\n",
    "            chunkOutput = reduce(sumValue,\n",
    "                        pool.map(returnValue,chunk),\n",
    "                        {}).items()\n",
    "            result += chunkOutput\n",
    "            chunk = []\n",
    "            \n",
    "        chunk.append(line)\n",
    "        \n",
    "    chunkOutput = reduce(sumValue,\n",
    "            pool.map(returnValue,chunk),\n",
    "            {}).items()\n",
    "    result += chunkOutput\n",
    "    pool.close()"
   ]
  },
  {
   "cell_type": "code",
   "execution_count": 8,
   "metadata": {},
   "outputs": [
    {
     "data": {
      "text/plain": [
       "[('3', 294.32549925839936),\n",
       " ('0', 306.7099300824752),\n",
       " ('1', 316.7932728146583),\n",
       " ('9', 291.68146927692595),\n",
       " ('6', 302.75696574193273),\n",
       " ('7', 280.6029945361827),\n",
       " ('8', 274.5970828385255),\n",
       " ('5', 302.4264220421208),\n",
       " ('4', 320.753814015207),\n",
       " ('2', 286.0854868555854)]"
      ]
     },
     "execution_count": 8,
     "metadata": {},
     "output_type": "execute_result"
    }
   ],
   "source": [
    "def lastReducer(finalRecord,record):\n",
    "    finalRecord[record[0]] = finalRecord.get(record[0],0) + float(record[1])\n",
    "    return finalRecord\n",
    "\n",
    "output = list(reduce(lastReducer,result,{}).items())\n",
    "output"
   ]
  },
  {
   "cell_type": "code",
   "execution_count": 9,
   "metadata": {},
   "outputs": [],
   "source": [
    "'''grading function\n",
    "please pass your output into this function and upload the generated csv file \n",
    "together with your notebook to your GitHub repo'''\n",
    "\n",
    "def grading(output):\n",
    "    import pandas as pd\n",
    "    pd.DataFrame(output,columns=['Type','Value']).to_csv('output2.csv',index=False)\n",
    "\n",
    "grading(output)"
   ]
  }
 ],
 "metadata": {
  "kernelspec": {
   "display_name": "Python 3",
   "language": "python",
   "name": "python3"
  },
  "language_info": {
   "codemirror_mode": {
    "name": "ipython",
    "version": 3
   },
   "file_extension": ".py",
   "mimetype": "text/x-python",
   "name": "python",
   "nbconvert_exporter": "python",
   "pygments_lexer": "ipython3",
   "version": "3.7.6"
  }
 },
 "nbformat": 4,
 "nbformat_minor": 4
}
