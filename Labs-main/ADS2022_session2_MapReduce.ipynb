{
 "cells": [
  {
   "cell_type": "markdown",
   "metadata": {},
   "source": [
    "# MapReduce\n",
    "MapReduce is a programming paradigm and an associated implementation for processing and generating big data sets with a parallel, distributed algorithm (often run on a cluster but not necessarily).\n",
    "\n",
    "A MapReduce program is composed of a map procedure, which performs necessary computations on different data records, and a reduce method, which performs a summary operation (such as aggregating the computed quantities). \n",
    "\n",
    "The key contributions of the MapReduce framework are not the actual map and reduce functions but the scalability achieved for a variety of applications by optimizing the execution engine. As such, a single-threaded implementation of MapReduce is usually not much faster than a traditional (non-MapReduce) implementation; significant gains are usually only seen with multi-threaded implementations on multi-processor hardware.[[1]](#1)\n",
    "\n",
    "In most cases, MapReduce framework is deployed on a cluster or cloud. You might have heard of MapReduce in the context of Hadoop or Spark. But actually, it could work locally as well and the parallel computing on multiple cores could be implemented using a multiprocessing module.\n",
    "\n",
    "The general idea works as following: \n",
    "- the map computes a relevant feature of the data records to be processed \n",
    "- then the reduce summarizes those computed features into a target quantity of interest or selects the data based on their values\n",
    "\n",
    "E.g. in the example below where we select the longest string by using map to compute the length of all the given strings and using reduce to pick the longest string. \n",
    "\n",
    "The key feature of reduce is that it collapses multiple data records into a single one and performs it iteratively; so that reducing a long list composed of a number of parts can be done by reducing each part first and then reducing the list of results for the parts into a single output.\n",
    "\n",
    "This way both - map and reduce steps could be easily parallelized. Map for different records could be done separately in any order and the reduce could be performed in parallel for different parts of the list and then the results could be combined together. This way the code implemented using a MapReduce paradigm is suitable for parallel processing.\n",
    "\n",
    "#### References\n",
    "<a id=\"1\">[1]</a> \n",
    "https://en.wikipedia.org/wiki/MapReduce#cite_note-1\n",
    "\n"
   ]
  },
  {
   "cell_type": "code",
   "execution_count": 1,
   "metadata": {},
   "outputs": [
    {
     "data": {
      "image/jpeg": "[encoded data removed]",
      "text/plain": [
       "<IPython.core.display.Image object>"
      ]
     },
     "execution_count": 1,
     "metadata": {},
     "output_type": "execute_result"
    }
   ],
   "source": [
    "import urllib\n",
    "from IPython.display import Image\n",
    "from io import BytesIO\n",
    "url = 'https://raw.githubusercontent.com/CUSP2022ADS/Data/main/labs_images/map_reduce_algorithm.jpg'\n",
    "Image(urllib.request.urlopen(url).read())"
   ]
  },
  {
   "cell_type": "markdown",
   "metadata": {},
   "source": [
    "# Map, Filter and Reduce functions in Python\n",
    "The map(), filter(), and reduce() functions bring a bit of functional programming to Python. All three of these are convenience functions that can be replaced with List Comprehensions or loops, but provide a more elegant and short-hand approach to some problems. Besides, together they allow implementing a MapReduce paradigm in Python. BTW, Dask  also uses MapReduce technology in the backend. Although it does not require users to code the MapReduce part themselves, it runs on the backend, letting the users focus on the data analytics."
   ]
  },
  {
   "cell_type": "code",
   "execution_count": 2,
   "metadata": {},
   "outputs": [],
   "source": [
    "## A toy example: find the longest string\n",
    "words = ['hadoop', 'mapreduce', 'spark', 'jupyter notebook', 'anaconda', 'python'] + ['a'] * 10 + ['bb'] * 10 + ['ccc'] * 10 "
   ]
  },
  {
   "cell_type": "code",
   "execution_count": 3,
   "metadata": {},
   "outputs": [
    {
     "name": "stdout",
     "output_type": "stream",
     "text": [
      "CPU times: user 18 µs, sys: 2 µs, total: 20 µs\n",
      "Wall time: 22.2 µs\n"
     ]
    },
    {
     "data": {
      "text/plain": [
       "'jupyter notebook'"
      ]
     },
     "execution_count": 3,
     "metadata": {},
     "output_type": "execute_result"
    }
   ],
   "source": [
    "%%time\n",
    "# in a for loop way\n",
    "length = [len(i) for i in words]\n",
    "words[length.index(max(length))]"
   ]
  },
  {
   "cell_type": "code",
   "execution_count": 4,
   "metadata": {},
   "outputs": [],
   "source": [
    "# in a MapReduce way\n",
    "from functools import reduce\n",
    "def findLongest(p, c):\n",
    "    if p[0] > c[0]:\n",
    "        return p\n",
    "    return c"
   ]
  },
  {
   "cell_type": "code",
   "execution_count": 5,
   "metadata": {},
   "outputs": [
    {
     "name": "stdout",
     "output_type": "stream",
     "text": [
      "CPU times: user 8 µs, sys: 1e+03 ns, total: 9 µs\n",
      "Wall time: 10.7 µs\n"
     ]
    },
    {
     "data": {
      "text/plain": [
       "[16, 'jupyter notebook']"
      ]
     },
     "execution_count": 5,
     "metadata": {},
     "output_type": "execute_result"
    }
   ],
   "source": [
    "%%time\n",
    "reduce(findLongest,map(lambda x: [len(x),x], words))"
   ]
  },
  {
   "cell_type": "markdown",
   "metadata": {},
   "source": [
    "MapReduce runs faster compared to the list comprehension approach. Although as mentioned to see the real performance gain we'll need to use multiprocessing as introduced below. "
   ]
  },
  {
   "cell_type": "markdown",
   "metadata": {},
   "source": [
    "## Map\n",
    "The map() function iterates through all items in the given iterable and executes the function we passed as an argument on each of them to produce a new iterable. Items in the new iterable are produced by calling the transformation function on each item in the original iterable."
   ]
  },
  {
   "cell_type": "code",
   "execution_count": 6,
   "metadata": {},
   "outputs": [],
   "source": [
    "def square(x):\n",
    "    return x**2"
   ]
  },
  {
   "cell_type": "code",
   "execution_count": 7,
   "metadata": {},
   "outputs": [
    {
     "name": "stdout",
     "output_type": "stream",
     "text": [
      "CPU times: user 1.75 s, sys: 34.9 ms, total: 1.79 s\n",
      "Wall time: 1.79 s\n"
     ]
    }
   ],
   "source": [
    "%%time\n",
    "_ = [square(i) for i in range(10000000)]"
   ]
  },
  {
   "cell_type": "code",
   "execution_count": 8,
   "metadata": {},
   "outputs": [
    {
     "name": "stdout",
     "output_type": "stream",
     "text": [
      "CPU times: user 1.63 s, sys: 48 ms, total: 1.67 s\n",
      "Wall time: 1.67 s\n"
     ]
    }
   ],
   "source": [
    "%%time\n",
    "_ = list(map(square,range(10000000)))"
   ]
  },
  {
   "cell_type": "markdown",
   "metadata": {},
   "source": [
    "## Filter\n",
    "Similar to map(), filter() takes a function object and an iterable and creates a new list.\n",
    "\n",
    "Filter function applies a predicate or Boolean-valued function to an iterable to generate a new iterable. Items in the new iterable are produced by filtering out any items in the original iterable that make the predicate function return false."
   ]
  },
  {
   "cell_type": "code",
   "execution_count": 9,
   "metadata": {},
   "outputs": [
    {
     "data": {
      "text/plain": [
       "[0, 5, 10, 15, 20, 25, 30, 35, 40, 45, 50, 55, 60, 65, 70, 75, 80, 85, 90, 95]"
      ]
     },
     "execution_count": 9,
     "metadata": {},
     "output_type": "execute_result"
    }
   ],
   "source": [
    "list(filter(lambda x:x%5==0, range(100)))"
   ]
  },
  {
   "cell_type": "markdown",
   "metadata": {},
   "source": [
    "## Reduce\n",
    "applies a reduction function (transforming two inputs into one single output) to an iterable to produce a single cumulative value. The reduce() function gets a function and a sequence as inputs and returns a single reduced value as an output. It works as follows:\n",
    "- At the first step, the function is applied to the first two items from the sequence, returning the result; if an initial value is provided it is used instead without running the first step;\n",
    "- At each of the following steps, the function is called with the result obtained on the previous step 1 and the next value in the sequence;\n",
    "- This process runs until there are no more items in the sequence to process.\n",
    "\n",
    "The syntax of the reduce() function is as follows: reduce(function, sequence[, initial]) -> value"
   ]
  },
  {
   "cell_type": "code",
   "execution_count": 10,
   "metadata": {},
   "outputs": [],
   "source": [
    "from functools import reduce"
   ]
  },
  {
   "cell_type": "code",
   "execution_count": 11,
   "metadata": {},
   "outputs": [
    {
     "name": "stdout",
     "output_type": "stream",
     "text": [
      "CPU times: user 50.8 ms, sys: 0 ns, total: 50.8 ms\n",
      "Wall time: 50.6 ms\n"
     ]
    },
    {
     "data": {
      "text/plain": [
       "499998500001"
      ]
     },
     "execution_count": 11,
     "metadata": {},
     "output_type": "execute_result"
    }
   ],
   "source": [
    "%%time\n",
    "# sum of range 999999\n",
    "reduce(lambda x,y: x+y, range(999999))"
   ]
  },
  {
   "cell_type": "code",
   "execution_count": 12,
   "metadata": {},
   "outputs": [
    {
     "data": {
      "text/plain": [
       "0"
      ]
     },
     "execution_count": 12,
     "metadata": {},
     "output_type": "execute_result"
    }
   ],
   "source": [
    "# get function in dictionary\n",
    "testDict = {}\n",
    "# if we are trying to retrieve a value by a key which is not exsit in the dictionary, \n",
    "# using get to define is the key is not exsit, what value we want to return\n",
    "testDict.get('unknown',0)"
   ]
  },
  {
   "cell_type": "markdown",
   "metadata": {},
   "source": [
    "Here is a list of names and grades, we want to first aggregate all the records from one person into one list, for example [['Tom'],[90,67,62]]. Then we want to compute an average grade for Tom."
   ]
  },
  {
   "cell_type": "code",
   "execution_count": 13,
   "metadata": {},
   "outputs": [],
   "source": [
    "grades = [\n",
    "    ['Tom',90],\n",
    "    ['Sam',88],\n",
    "    ['Amy',78],\n",
    "    ['Lucy',92],\n",
    "    ['Tom',67],\n",
    "    ['Sam',73],\n",
    "    ['Amy',89],\n",
    "    ['Lucy',98],\n",
    "    ['Tom',62],\n",
    "]"
   ]
  },
  {
   "cell_type": "code",
   "execution_count": 14,
   "metadata": {},
   "outputs": [],
   "source": [
    "def gradeList(result,record):\n",
    "    name, grade = record[0],record[1]\n",
    "    result[name] = result.get(name,[]) + [grade]\n",
    "    return result"
   ]
  },
  {
   "cell_type": "code",
   "execution_count": 15,
   "metadata": {},
   "outputs": [
    {
     "data": {
      "text/plain": [
       "{'Tom': [90, 67, 62], 'Sam': [88, 73], 'Amy': [78, 89], 'Lucy': [92, 98]}"
      ]
     },
     "execution_count": 15,
     "metadata": {},
     "output_type": "execute_result"
    }
   ],
   "source": [
    "'''\n",
    "reduce(fuction, sequence, initial)\n",
    "function is the function we defined before, gradeList\n",
    "sequence is the list of names and grades\n",
    "initial is the initial of result in the gradeList function, we initiate is as an empty dictionary\n",
    "'''\n",
    "reduce(gradeList,grades,{})"
   ]
  },
  {
   "cell_type": "code",
   "execution_count": 16,
   "metadata": {},
   "outputs": [],
   "source": [
    "# use map and reduce together to calculate the average grade for each student\n",
    "def averageGrade(record):\n",
    "    name, grades = record[0], record[1]\n",
    "    return [name, sum(grades)/len(grades)]"
   ]
  },
  {
   "cell_type": "code",
   "execution_count": 17,
   "metadata": {},
   "outputs": [
    {
     "data": {
      "text/plain": [
       "[['Tom', 73.0], ['Sam', 80.5], ['Amy', 83.5], ['Lucy', 95.0]]"
      ]
     },
     "execution_count": 17,
     "metadata": {},
     "output_type": "execute_result"
    }
   ],
   "source": [
    "# we need to convert result from reduce to a list as only iterative series are acceptable in the map function\n",
    "list(map(averageGrade,list(reduce(gradeList,grades,{}).items())))"
   ]
  },
  {
   "cell_type": "markdown",
   "metadata": {},
   "source": [
    "## Multiprocessing\n",
    "\n",
    "multiprocessing is a package that supports spawning processes using an API similar to the threading module. The multiprocessing module also introduces APIs which do not have analogs in the threading module. A prime example of this is the Pool object which offers a convenient means of parallelizing the execution of a function across multiple input values, distributing the input data across processes (data parallelism).\n",
    "\n",
    "The pool allows you to do multiple jobs per process, which may make it easier to parallelize your program. If you have a million tasks to execute in parallel, you can create a Pool with a number of processes as many as CPU cores and then pass the list of the million tasks to pool.map. The pool will distribute those tasks to the worker processes(typically the same in number as available cores) and collects the return values in the form of a list and pass it to the parent process. "
   ]
  },
  {
   "cell_type": "code",
   "execution_count": 18,
   "metadata": {},
   "outputs": [],
   "source": [
    "from multiprocessing import Pool"
   ]
  },
  {
   "cell_type": "code",
   "execution_count": 19,
   "metadata": {},
   "outputs": [
    {
     "name": "stdout",
     "output_type": "stream",
     "text": [
      "CPU times: user 1.58 s, sys: 108 ms, total: 1.69 s\n",
      "Wall time: 1.69 s\n"
     ]
    }
   ],
   "source": [
    "%%time\n",
    "_ = list(map(square,range(10000000)))"
   ]
  },
  {
   "cell_type": "code",
   "execution_count": 20,
   "metadata": {},
   "outputs": [
    {
     "name": "stdout",
     "output_type": "stream",
     "text": [
      "CPU times: user 698 ms, sys: 264 ms, total: 963 ms\n",
      "Wall time: 1.07 s\n"
     ]
    }
   ],
   "source": [
    "%%time\n",
    "# using 8 cores in CPU\n",
    "with Pool(8) as p:\n",
    "    result = list(p.map(square,range(10000000)))\n",
    "    p.close()"
   ]
  },
  {
   "cell_type": "markdown",
   "metadata": {},
   "source": [
    "## A real world data example\n",
    "Map, filter, reduce could generate a pipeline of data engineering, especially for a big dataset that cannot be manipulated in Pandas. But instead of using the built-in map function in Python, we will use package multiprocessing to distribute our task to multiple cores in the CPU to achieve a faster computation. Besides, another important method, chunk,  will be applied as well. The chunk method is available in Pandas as well. It slices data into multi partitions and uses for loop to deal with only a part of the data in one iteration. "
   ]
  },
  {
   "cell_type": "code",
   "execution_count": 21,
   "metadata": {},
   "outputs": [],
   "source": [
    "import pandas as pd\n",
    "import csv\n",
    "from functools import reduce\n",
    "from multiprocessing import Pool"
   ]
  },
  {
   "cell_type": "markdown",
   "metadata": {},
   "source": [
    "Below an example of aggregating a sample of 2019 taxi data is provided. The dataset includes four variables: Type (yellow taxi, green taxi, for-hire-vehicle, and high volume for-hire-vehicle), time, pick up location, drop off location, and passenger count.\n",
    "\n",
    "Objective: Aggregate the ridership of each type between each pair of taxi zones within each of the 30-minute intervals."
   ]
  },
  {
   "cell_type": "code",
   "execution_count": 22,
   "metadata": {},
   "outputs": [
    {
     "name": "stdout",
     "output_type": "stream",
     "text": [
      "--2021-03-07 21:16:56--  https://github.com/CUSP2021ADS/Data/raw/main/2019TaxiTest.csv\n",
      "Resolving github.com (github.com)... 140.82.114.3\n",
      "Connecting to github.com (github.com)|140.82.114.3|:443... connected.\n",
      "HTTP request sent, awaiting response... 302 Found\n",
      "Location: https://raw.githubusercontent.com/CUSP2021ADS/Data/main/2019TaxiTest.csv [following]\n",
      "--2021-03-07 21:16:56--  https://raw.githubusercontent.com/CUSP2021ADS/Data/main/2019TaxiTest.csv\n",
      "Resolving raw.githubusercontent.com (raw.githubusercontent.com)... 185.199.111.133, 185.199.110.133, 185.199.109.133, ...\n",
      "Connecting to raw.githubusercontent.com (raw.githubusercontent.com)|185.199.111.133|:443... connected.\n",
      "HTTP request sent, awaiting response... 200 OK\n",
      "Length: 17590719 (17M) [text/plain]\n",
      "Saving to: ‘2019TaxiTest.csv’\n",
      "\n",
      "2019TaxiTest.csv    100%[===================>]  16.78M  7.44MB/s    in 2.3s    \n",
      "\n",
      "2021-03-07 21:16:59 (7.44 MB/s) - ‘2019TaxiTest.csv’ saved [17590719/17590719]\n",
      "\n"
     ]
    },
    {
     "data": {
      "text/html": [
       "<div>\n",
       "<style scoped>\n",
       "    .dataframe tbody tr th:only-of-type {\n",
       "        vertical-align: middle;\n",
       "    }\n",
       "\n",
       "    .dataframe tbody tr th {\n",
       "        vertical-align: top;\n",
       "    }\n",
       "\n",
       "    .dataframe thead th {\n",
       "        text-align: right;\n",
       "    }\n",
       "</style>\n",
       "<table border=\"1\" class=\"dataframe\">\n",
       "  <thead>\n",
       "    <tr style=\"text-align: right;\">\n",
       "      <th></th>\n",
       "      <th>Type</th>\n",
       "      <th>Time</th>\n",
       "      <th>PULocation</th>\n",
       "      <th>DOLocation</th>\n",
       "      <th>Count</th>\n",
       "    </tr>\n",
       "  </thead>\n",
       "  <tbody>\n",
       "    <tr>\n",
       "      <th>0</th>\n",
       "      <td>FHVHV</td>\n",
       "      <td>2019-09-01 00:10:02</td>\n",
       "      <td>136</td>\n",
       "      <td>169</td>\n",
       "      <td>1</td>\n",
       "    </tr>\n",
       "    <tr>\n",
       "      <th>1</th>\n",
       "      <td>FHVHV</td>\n",
       "      <td>2019-09-01 00:22:37</td>\n",
       "      <td>169</td>\n",
       "      <td>18</td>\n",
       "      <td>1</td>\n",
       "    </tr>\n",
       "    <tr>\n",
       "      <th>2</th>\n",
       "      <td>FHVHV</td>\n",
       "      <td>2019-09-01 00:36:03</td>\n",
       "      <td>94</td>\n",
       "      <td>198</td>\n",
       "      <td>1</td>\n",
       "    </tr>\n",
       "    <tr>\n",
       "      <th>3</th>\n",
       "      <td>FHVHV</td>\n",
       "      <td>2019-09-01 00:04:04</td>\n",
       "      <td>114</td>\n",
       "      <td>112</td>\n",
       "      <td>1</td>\n",
       "    </tr>\n",
       "    <tr>\n",
       "      <th>4</th>\n",
       "      <td>FHVHV</td>\n",
       "      <td>2019-09-01 00:33:15</td>\n",
       "      <td>112</td>\n",
       "      <td>112</td>\n",
       "      <td>1</td>\n",
       "    </tr>\n",
       "  </tbody>\n",
       "</table>\n",
       "</div>"
      ],
      "text/plain": [
       "    Type                 Time  PULocation  DOLocation  Count\n",
       "0  FHVHV  2019-09-01 00:10:02         136         169      1\n",
       "1  FHVHV  2019-09-01 00:22:37         169          18      1\n",
       "2  FHVHV  2019-09-01 00:36:03          94         198      1\n",
       "3  FHVHV  2019-09-01 00:04:04         114         112      1\n",
       "4  FHVHV  2019-09-01 00:33:15         112         112      1"
      ]
     },
     "execution_count": 22,
     "metadata": {},
     "output_type": "execute_result"
    }
   ],
   "source": [
    "!wget -O 2019TaxiTest.csv https://github.com/CUSP2022ADS/Data/raw/main/2019TaxiTest.csv\n",
    "taxi = pd.read_csv('2019TaxiTest.csv',nrows=5)\n",
    "taxi"
   ]
  },
  {
   "cell_type": "code",
   "execution_count": 23,
   "metadata": {},
   "outputs": [],
   "source": [
    "def returnInfo(record): #extract necessary fields from a data record (raw)\n",
    "    return(record['Type'],record['Time'],record['PULocation'],record['DOLocation'],record['Count'])\n",
    "\n",
    "def filterYear(record): #filter the records to keep only the year 2019\n",
    "    # filter function must return True or False\n",
    "    time = record[1]\n",
    "    year = time.split(' ')[0].split('-')[0]\n",
    "    if year == '2019':\n",
    "        return True\n",
    "    else:\n",
    "        return False\n",
    "\n",
    "def convert30min(record): #coarsen time into 30min intervals\n",
    "    time = record[1]\n",
    "    minute = time.split(' ')[1].split(':')[1]\n",
    "    minute = int(int(minute)/30)*30\n",
    "    time = time[:-5] + str(minute).zfill(2) + ':00'\n",
    "    return (record[0],time ,record[2],record[3],record[4])\n",
    "\n",
    "def sumPassenger(result,record): #add rides from a new record to the dictionary accumilating type-origin-destination-time ridership\n",
    "    taxi, time, PU, DO, count = record[0], record[1], record[2], record[3], record[4]\n",
    "\n",
    "    result[(taxi, time, PU, DO)] = result.get((taxi, time, PU, DO),0) + int(count)\n",
    "\n",
    "    return result\n"
   ]
  },
  {
   "cell_type": "code",
   "execution_count": 24,
   "metadata": {},
   "outputs": [],
   "source": [
    "with open('2019TaxiTest.csv', 'r') as fi: #with a given dataset\n",
    "    reader = csv.DictReader(fi) #line-by-line data reader \n",
    "    output = list(map(lambda x: (x[0][0],x[0][1],x[0][2],x[0][3],x[1]), #convert to tuples\n",
    "                      reduce(sumPassenger, #reduce records into an aggregated type-origin-destination-time-ridership dictionary\n",
    "                             map(convert30min, #coarsen the time\n",
    "                                 filter(filterYear, #keep only the records for 2019\n",
    "                                 map(returnInfo,reader) #extract necessary fields from the records\n",
    "                                 ),\n",
    "                                ),\n",
    "                             {}).items())) #initial value for the dictionary - {}"
   ]
  },
  {
   "cell_type": "code",
   "execution_count": 25,
   "metadata": {},
   "outputs": [
    {
     "data": {
      "text/html": [
       "<div>\n",
       "<style scoped>\n",
       "    .dataframe tbody tr th:only-of-type {\n",
       "        vertical-align: middle;\n",
       "    }\n",
       "\n",
       "    .dataframe tbody tr th {\n",
       "        vertical-align: top;\n",
       "    }\n",
       "\n",
       "    .dataframe thead th {\n",
       "        text-align: right;\n",
       "    }\n",
       "</style>\n",
       "<table border=\"1\" class=\"dataframe\">\n",
       "  <thead>\n",
       "    <tr style=\"text-align: right;\">\n",
       "      <th></th>\n",
       "      <th>Taxi</th>\n",
       "      <th>Time</th>\n",
       "      <th>PULocation</th>\n",
       "      <th>DOLocation</th>\n",
       "      <th>Passenger</th>\n",
       "    </tr>\n",
       "  </thead>\n",
       "  <tbody>\n",
       "    <tr>\n",
       "      <th>0</th>\n",
       "      <td>FHVHV</td>\n",
       "      <td>2019-09-01 00:00:00</td>\n",
       "      <td>136</td>\n",
       "      <td>169</td>\n",
       "      <td>7</td>\n",
       "    </tr>\n",
       "    <tr>\n",
       "      <th>1</th>\n",
       "      <td>FHVHV</td>\n",
       "      <td>2019-09-01 00:00:00</td>\n",
       "      <td>169</td>\n",
       "      <td>18</td>\n",
       "      <td>1</td>\n",
       "    </tr>\n",
       "    <tr>\n",
       "      <th>2</th>\n",
       "      <td>FHVHV</td>\n",
       "      <td>2019-09-01 00:30:00</td>\n",
       "      <td>94</td>\n",
       "      <td>198</td>\n",
       "      <td>1</td>\n",
       "    </tr>\n",
       "    <tr>\n",
       "      <th>3</th>\n",
       "      <td>FHVHV</td>\n",
       "      <td>2019-09-01 00:00:00</td>\n",
       "      <td>114</td>\n",
       "      <td>112</td>\n",
       "      <td>1</td>\n",
       "    </tr>\n",
       "    <tr>\n",
       "      <th>4</th>\n",
       "      <td>FHVHV</td>\n",
       "      <td>2019-09-01 00:30:00</td>\n",
       "      <td>112</td>\n",
       "      <td>112</td>\n",
       "      <td>13</td>\n",
       "    </tr>\n",
       "    <tr>\n",
       "      <th>...</th>\n",
       "      <td>...</td>\n",
       "      <td>...</td>\n",
       "      <td>...</td>\n",
       "      <td>...</td>\n",
       "      <td>...</td>\n",
       "    </tr>\n",
       "    <tr>\n",
       "      <th>252200</th>\n",
       "      <td>FHVHV</td>\n",
       "      <td>2019-09-01 19:00:00</td>\n",
       "      <td>39</td>\n",
       "      <td>72</td>\n",
       "      <td>1</td>\n",
       "    </tr>\n",
       "    <tr>\n",
       "      <th>252201</th>\n",
       "      <td>FHVHV</td>\n",
       "      <td>2019-09-01 19:30:00</td>\n",
       "      <td>72</td>\n",
       "      <td>76</td>\n",
       "      <td>1</td>\n",
       "    </tr>\n",
       "    <tr>\n",
       "      <th>252202</th>\n",
       "      <td>FHVHV</td>\n",
       "      <td>2019-09-01 19:00:00</td>\n",
       "      <td>82</td>\n",
       "      <td>173</td>\n",
       "      <td>1</td>\n",
       "    </tr>\n",
       "    <tr>\n",
       "      <th>252203</th>\n",
       "      <td>FHVHV</td>\n",
       "      <td>2019-09-01 19:30:00</td>\n",
       "      <td>173</td>\n",
       "      <td>160</td>\n",
       "      <td>1</td>\n",
       "    </tr>\n",
       "    <tr>\n",
       "      <th>252204</th>\n",
       "      <td>FHVHV</td>\n",
       "      <td>2019-09-01 19:30:00</td>\n",
       "      <td>85</td>\n",
       "      <td>89</td>\n",
       "      <td>1</td>\n",
       "    </tr>\n",
       "  </tbody>\n",
       "</table>\n",
       "<p>252205 rows × 5 columns</p>\n",
       "</div>"
      ],
      "text/plain": [
       "         Taxi                 Time PULocation DOLocation  Passenger\n",
       "0       FHVHV  2019-09-01 00:00:00        136        169          7\n",
       "1       FHVHV  2019-09-01 00:00:00        169         18          1\n",
       "2       FHVHV  2019-09-01 00:30:00         94        198          1\n",
       "3       FHVHV  2019-09-01 00:00:00        114        112          1\n",
       "4       FHVHV  2019-09-01 00:30:00        112        112         13\n",
       "...       ...                  ...        ...        ...        ...\n",
       "252200  FHVHV  2019-09-01 19:00:00         39         72          1\n",
       "252201  FHVHV  2019-09-01 19:30:00         72         76          1\n",
       "252202  FHVHV  2019-09-01 19:00:00         82        173          1\n",
       "252203  FHVHV  2019-09-01 19:30:00        173        160          1\n",
       "252204  FHVHV  2019-09-01 19:30:00         85         89          1\n",
       "\n",
       "[252205 rows x 5 columns]"
      ]
     },
     "execution_count": 25,
     "metadata": {},
     "output_type": "execute_result"
    }
   ],
   "source": [
    "import pandas\n",
    "pd.DataFrame(output, columns=['Taxi','Time','PULocation','DOLocation','Passenger'])"
   ]
  },
  {
   "cell_type": "markdown",
   "metadata": {},
   "source": [
    "### break down\n",
    "The first (most inner) function is a map function\n",
    "```python\n",
    "map(returnInfo,reader)\n",
    "```\n",
    "it is simply return selected values from the csv file. Let's check the output from the first function "
   ]
  },
  {
   "cell_type": "code",
   "execution_count": 26,
   "metadata": {},
   "outputs": [
    {
     "data": {
      "text/plain": [
       "[('FHVHV', '2019-09-01 00:10:02', '136', '169', '1'),\n",
       " ('FHVHV', '2019-09-01 00:22:37', '169', '18', '1'),\n",
       " ('FHVHV', '2019-09-01 00:36:03', '94', '198', '1')]"
      ]
     },
     "execution_count": 26,
     "metadata": {},
     "output_type": "execute_result"
    }
   ],
   "source": [
    "with open('2019TaxiTest.csv', 'r') as fi:\n",
    "    reader = csv.DictReader(fi)\n",
    "    output1 = list(map(returnInfo,reader))\n",
    "output1[:3]"
   ]
  },
  {
   "cell_type": "markdown",
   "metadata": {},
   "source": [
    "The second function is a filter\n",
    "```python\n",
    "filter(filterYear, output1)\n",
    "```\n",
    "It is selecting output from the function, and the requirement is the year in date has to be 2019"
   ]
  },
  {
   "cell_type": "code",
   "execution_count": 27,
   "metadata": {},
   "outputs": [
    {
     "data": {
      "text/plain": [
       "[('FHVHV', '2019-09-01 00:10:02', '136', '169', '1'),\n",
       " ('FHVHV', '2019-09-01 00:22:37', '169', '18', '1'),\n",
       " ('FHVHV', '2019-09-01 00:36:03', '94', '198', '1')]"
      ]
     },
     "execution_count": 27,
     "metadata": {},
     "output_type": "execute_result"
    }
   ],
   "source": [
    "\n",
    "output2 = list(filter(filterYear, output1))\n",
    "output2[:3]"
   ]
  },
  {
   "cell_type": "markdown",
   "metadata": {},
   "source": [
    "The third function is a filter as well\n",
    "```python\n",
    "map(convert30min, output2)\n",
    "```\n",
    "\n",
    "Aggregate timestamp to 30 min interval. For example, 10:23 will be convert to 10:00, 11:59 will be convert to 11:30."
   ]
  },
  {
   "cell_type": "code",
   "execution_count": 28,
   "metadata": {},
   "outputs": [
    {
     "data": {
      "text/plain": [
       "[('FHVHV', '2019-09-01 00:00:00', '136', '169', '1'),\n",
       " ('FHVHV', '2019-09-01 00:00:00', '169', '18', '1'),\n",
       " ('FHVHV', '2019-09-01 00:30:00', '94', '198', '1')]"
      ]
     },
     "execution_count": 28,
     "metadata": {},
     "output_type": "execute_result"
    }
   ],
   "source": [
    "output3 = list(map(convert30min, output2))\n",
    "output3[:3]"
   ]
  },
  {
   "cell_type": "markdown",
   "metadata": {},
   "source": [
    "The fourth function sum up passengers from the same type of taxi in the same temporal interval.\n",
    "```python\n",
    "reduce(sumPassenger,output3,{})\n",
    "```"
   ]
  },
  {
   "cell_type": "code",
   "execution_count": 29,
   "metadata": {},
   "outputs": [
    {
     "data": {
      "text/plain": [
       "[(('FHVHV', '2019-09-01 00:00:00', '136', '169'), 7),\n",
       " (('FHVHV', '2019-09-01 00:00:00', '169', '18'), 1),\n",
       " (('FHVHV', '2019-09-01 00:30:00', '94', '198'), 1)]"
      ]
     },
     "execution_count": 29,
     "metadata": {},
     "output_type": "execute_result"
    }
   ],
   "source": [
    "output4 = list(reduce(sumPassenger,output3,{}).items())\n",
    "output4[:3]"
   ]
  },
  {
   "cell_type": "markdown",
   "metadata": {},
   "source": [
    "The last step is another map function: reorganize output.\n",
    "\n",
    "```python\n",
    "map(lambda x: (x[0],x[1][1]/x[1][0]),output4)\n",
    "```"
   ]
  },
  {
   "cell_type": "code",
   "execution_count": 30,
   "metadata": {},
   "outputs": [
    {
     "data": {
      "text/plain": [
       "[('FHVHV', '2019-09-01 00:00:00', '136', '169', 7),\n",
       " ('FHVHV', '2019-09-01 00:00:00', '169', '18', 1),\n",
       " ('FHVHV', '2019-09-01 00:30:00', '94', '198', 1)]"
      ]
     },
     "execution_count": 30,
     "metadata": {},
     "output_type": "execute_result"
    }
   ],
   "source": [
    "final = list(map(lambda x: (x[0][0],x[0][1],x[0][2],x[0][3],x[1]),output4))\n",
    "final[:3]"
   ]
  },
  {
   "cell_type": "markdown",
   "metadata": {},
   "source": [
    "## Parallel computing\n",
    "Parallel computing is a type of computation where many calculations or the execution of processes are carried out simultaneously. Large problems can often be divided into smaller ones, which can then be solved at the same time. Take the taxi data case as an example. In parallel computing, we should divide the dataset into multiple chunks and assign one chunk to each CPU core to do conduct map and filter functions. Results from map and filter will be aggregated to one core to do reduce. In this way, our computing works much faster.\n",
    "\n",
    "To implement a parallel computing MapReduce workflow, we need a package, multiprocessing, to achieve it."
   ]
  },
  {
   "cell_type": "code",
   "execution_count": 31,
   "metadata": {},
   "outputs": [
    {
     "data": {
      "image/jpeg": "[encoded data removed]",
      "text/plain": [
       "<IPython.core.display.Image object>"
      ]
     },
     "execution_count": 31,
     "metadata": {},
     "output_type": "execute_result"
    }
   ],
   "source": [
    "url = 'https://raw.githubusercontent.com/CUSP2022ADS/Data/main/labs_images/map_reduce_algorithm.jpg'\n",
    "Image(urllib.request.urlopen(url).read())"
   ]
  },
  {
   "cell_type": "code",
   "execution_count": 32,
   "metadata": {},
   "outputs": [],
   "source": [
    "import multiprocessing\n",
    "# use 6 cores\n",
    "pool = multiprocessing.Pool(6)\n",
    "# instead of calling the built-im map function in Python\n",
    "# we are using map from multiprocessing pool\n",
    "with open('2019TaxiTest.csv', 'r') as fi:\n",
    "    reader = csv.DictReader(fi)\n",
    "    output = list(reduce(sumPassenger,\n",
    "                             pool.map(convert30min,\n",
    "                                 pool.map(returnInfo,reader)      \n",
    "                                ),\n",
    "                             {}).items())\n",
    "    pool.close()"
   ]
  },
  {
   "cell_type": "code",
   "execution_count": 33,
   "metadata": {},
   "outputs": [
    {
     "data": {
      "image/png": "[encoded data removed]",
      "text/plain": [
       "<IPython.core.display.Image object>"
      ]
     },
     "execution_count": 33,
     "metadata": {},
     "output_type": "execute_result"
    }
   ],
   "source": [
    "# be checking the CPU utilization, \n",
    "# it is clear that more cores are working togeter when the parallel computing is runing\n",
    "url = 'https://raw.githubusercontent.com/CUSP2022ADS/Data/main/labs_images/multi.png'\n",
    "Image(urllib.request.urlopen(url).read())"
   ]
  },
  {
   "cell_type": "code",
   "execution_count": 34,
   "metadata": {},
   "outputs": [
    {
     "data": {
      "image/png": "[encoded data removed]",
      "text/plain": [
       "<IPython.core.display.Image object>"
      ]
     },
     "execution_count": 34,
     "metadata": {},
     "output_type": "execute_result"
    }
   ],
   "source": [
    "url = 'https://raw.githubusercontent.com/CUSP2022ADS/Data/main/labs_images/single.png'\n",
    "Image(urllib.request.urlopen(url).read())"
   ]
  },
  {
   "cell_type": "markdown",
   "metadata": {},
   "source": [
    "## Chunk\n",
    "\n",
    "Besides computing speed, another issue bothering us the most is the memory size. Usually, a laptop's memory is 8GB which means we cannot manipulate an 8GB dataset. We can slice the whole dataset into multiple chunks and conducting only one chunk in one iteration. Chunk function is available in pandas as well."
   ]
  },
  {
   "cell_type": "code",
   "execution_count": 35,
   "metadata": {},
   "outputs": [
    {
     "name": "stdout",
     "output_type": "stream",
     "text": [
      "--2021-03-07 21:17:07--  https://raw.githubusercontent.com/CUSP2021ADS/Data/main/2019TaxiTest1.csv\n",
      "Resolving raw.githubusercontent.com (raw.githubusercontent.com)... 185.199.108.133, 185.199.109.133, 185.199.110.133, ...\n",
      "Connecting to raw.githubusercontent.com (raw.githubusercontent.com)|185.199.108.133|:443... connected.\n",
      "HTTP request sent, awaiting response... 200 OK\n",
      "Length: 1797 (1.8K) [text/plain]\n",
      "Saving to: ‘2019TaxiTest1.csv’\n",
      "\n",
      "2019TaxiTest1.csv   100%[===================>]   1.75K  --.-KB/s    in 0s      \n",
      "\n",
      "2021-03-07 21:17:07 (14.2 MB/s) - ‘2019TaxiTest1.csv’ saved [1797/1797]\n",
      "\n",
      "----------------------\n",
      "10 [OrderedDict([('Type', 'FHVHV'), ('Time', '2019-09-01 00:10:02'), ('PULocation', '136'), ('DOLocation', '169'), ('Count', '1')]), OrderedDict([('Type', 'FHVHV'), ('Time', '2019-09-01 00:22:37'), ('PULocation', '169'), ('DOLocation', '18'), ('Count', '1')]), OrderedDict([('Type', 'FHVHV'), ('Time', '2019-09-01 00:36:03'), ('PULocation', '94'), ('DOLocation', '198'), ('Count', '1')]), OrderedDict([('Type', 'FHVHV'), ('Time', '2019-09-01 00:04:04'), ('PULocation', '114'), ('DOLocation', '112'), ('Count', '1')]), OrderedDict([('Type', 'FHVHV'), ('Time', '2019-09-01 00:33:15'), ('PULocation', '112'), ('DOLocation', '112'), ('Count', '1')]), OrderedDict([('Type', 'FHVHV'), ('Time', '2019-09-01 00:45:03'), ('PULocation', '80'), ('DOLocation', '112'), ('Count', '1')]), OrderedDict([('Type', 'FHVHV'), ('Time', '2019-09-01 00:52:17'), ('PULocation', '112'), ('DOLocation', '107'), ('Count', '1')]), OrderedDict([('Type', 'FHVHV'), ('Time', '2019-09-01 00:06:19'), ('PULocation', '50'), ('DOLocation', '42'), ('Count', '1')]), OrderedDict([('Type', 'FHVHV'), ('Time', '2019-09-01 00:33:30'), ('PULocation', '42'), ('DOLocation', '97'), ('Count', '1')]), OrderedDict([('Type', 'FHVHV'), ('Time', '2019-09-01 00:07:03'), ('PULocation', '137'), ('DOLocation', '79'), ('Count', '1')])]\n",
      "----------------------\n",
      "20 [OrderedDict([('Type', 'FHVHV'), ('Time', '2019-09-01 00:16:49'), ('PULocation', '79'), ('DOLocation', '265'), ('Count', '1')]), OrderedDict([('Type', 'FHVHV'), ('Time', '2019-09-01 00:01:24'), ('PULocation', '170'), ('DOLocation', '166'), ('Count', '1')]), OrderedDict([('Type', 'FHVHV'), ('Time', '2019-09-01 00:22:54'), ('PULocation', '166'), ('DOLocation', '41'), ('Count', '1')]), OrderedDict([('Type', 'FHVHV'), ('Time', '2019-09-01 00:43:34'), ('PULocation', '74'), ('DOLocation', '159'), ('Count', '1')]), OrderedDict([('Type', 'FHVHV'), ('Time', '2019-09-01 00:10:24'), ('PULocation', '63'), ('DOLocation', '217'), ('Count', '1')]), OrderedDict([('Type', 'FHVHV'), ('Time', '2019-09-01 00:37:06'), ('PULocation', '256'), ('DOLocation', '263'), ('Count', '1')]), OrderedDict([('Type', 'FHVHV'), ('Time', '2019-09-01 00:17:40'), ('PULocation', '249'), ('DOLocation', '243'), ('Count', '1')]), OrderedDict([('Type', 'FHVHV'), ('Time', '2019-09-01 00:47:30'), ('PULocation', '244'), ('DOLocation', '116'), ('Count', '1')]), OrderedDict([('Type', 'FHVHV'), ('Time', '2019-09-01 00:02:20'), ('PULocation', '35'), ('DOLocation', '188'), ('Count', '1')]), OrderedDict([('Type', 'FHVHV'), ('Time', '2019-09-01 00:18:44'), ('PULocation', '72'), ('DOLocation', '246'), ('Count', '1')])]\n",
      "----------------------\n",
      "30 [OrderedDict([('Type', 'FHVHV'), ('Time', '2019-09-01 00:04:35'), ('PULocation', '91'), ('DOLocation', '39'), ('Count', '1')]), OrderedDict([('Type', 'FHVHV'), ('Time', '2019-09-01 00:14:20'), ('PULocation', '39'), ('DOLocation', '14'), ('Count', '1')]), OrderedDict([('Type', 'FHVHV'), ('Time', '2019-09-01 00:07:04'), ('PULocation', '168'), ('DOLocation', '37'), ('Count', '1')]), OrderedDict([('Type', 'FHVHV'), ('Time', '2019-09-01 00:42:51'), ('PULocation', '80'), ('DOLocation', '198'), ('Count', '1')]), OrderedDict([('Type', 'FHVHV'), ('Time', '2019-09-01 00:47:34'), ('PULocation', '80'), ('DOLocation', '37'), ('Count', '1')]), OrderedDict([('Type', 'FHVHV'), ('Time', '2019-09-01 00:10:28'), ('PULocation', '114'), ('DOLocation', '237'), ('Count', '1')]), OrderedDict([('Type', 'FHVHV'), ('Time', '2019-09-01 00:33:57'), ('PULocation', '237'), ('DOLocation', '238'), ('Count', '1')]), OrderedDict([('Type', 'FHVHV'), ('Time', '2019-09-01 00:52:34'), ('PULocation', '41'), ('DOLocation', '163'), ('Count', '1')]), OrderedDict([('Type', 'FHVHV'), ('Time', '2019-09-01 00:30:33'), ('PULocation', '155'), ('DOLocation', '228'), ('Count', '1')]), OrderedDict([('Type', 'FHVHV'), ('Time', '2019-09-01 00:11:04'), ('PULocation', '90'), ('DOLocation', '114'), ('Count', '1')])]\n",
      "----------------------\n",
      "40 [OrderedDict([('Type', 'FHVHV'), ('Time', '2019-09-01 00:39:26'), ('PULocation', '148'), ('DOLocation', '100'), ('Count', '1')]), OrderedDict([('Type', 'FHVHV'), ('Time', '2019-09-01 00:21:39'), ('PULocation', '72'), ('DOLocation', '71'), ('Count', '1')]), OrderedDict([('Type', 'FHVHV'), ('Time', '2019-09-01 00:35:11'), ('PULocation', '85'), ('DOLocation', '62'), ('Count', '1')]), OrderedDict([('Type', 'FHVHV'), ('Time', '2019-09-01 00:43:53'), ('PULocation', '62'), ('DOLocation', '188'), ('Count', '1')]), OrderedDict([('Type', 'FHVHV'), ('Time', '2019-09-01 00:19:48'), ('PULocation', '129'), ('DOLocation', '189'), ('Count', '1')]), OrderedDict([('Type', 'FHVHV'), ('Time', '2019-09-01 00:56:24'), ('PULocation', '97'), ('DOLocation', '17'), ('Count', '1')]), OrderedDict([('Type', 'FHVHV'), ('Time', '2019-09-01 00:31:11'), ('PULocation', '179'), ('DOLocation', '179'), ('Count', '1')]), OrderedDict([('Type', 'FHVHV'), ('Time', '2019-09-01 00:42:10'), ('PULocation', '7'), ('DOLocation', '80'), ('Count', '1')]), OrderedDict([('Type', 'FHVHV'), ('Time', '2019-09-01 00:45:37'), ('PULocation', '130'), ('DOLocation', '216'), ('Count', '1')]), OrderedDict([('Type', 'FHVHV'), ('Time', '2019-09-01 00:26:52'), ('PULocation', '203'), ('DOLocation', '197'), ('Count', '1')])]\n",
      "----------------------\n",
      "49 [OrderedDict([('Type', 'FHVHV'), ('Time', '2019-09-01 00:01:48'), ('PULocation', '80'), ('DOLocation', '145'), ('Count', '1')]), OrderedDict([('Type', 'FHVHV'), ('Time', '2019-09-01 00:25:09'), ('PULocation', '145'), ('DOLocation', '148'), ('Count', '1')]), OrderedDict([('Type', 'FHVHV'), ('Time', '2019-09-01 00:32:40'), ('PULocation', '112'), ('DOLocation', '224'), ('Count', '1')]), OrderedDict([('Type', 'FHVHV'), ('Time', '2019-09-01 00:25:17'), ('PULocation', '95'), ('DOLocation', '203'), ('Count', '1')]), OrderedDict([('Type', 'FHVHV'), ('Time', '2019-09-01 00:43:55'), ('PULocation', '203'), ('DOLocation', '139'), ('Count', '1')]), OrderedDict([('Type', 'FHVHV'), ('Time', '2019-09-01 00:34:48'), ('PULocation', '95'), ('DOLocation', '145'), ('Count', '1')]), OrderedDict([('Type', 'FHVHV'), ('Time', '2019-09-01 00:43:59'), ('PULocation', '137'), ('DOLocation', '173'), ('Count', '1')]), OrderedDict([('Type', 'FHVHV'), ('Time', '2019-09-01 00:16:47'), ('PULocation', '228'), ('DOLocation', '68'), ('Count', '1')]), OrderedDict([('Type', 'FHVHV'), ('Time', '2019-09-01 00:38:23'), ('PULocation', '66'), ('DOLocation', '158'), ('Count', '1')]), OrderedDict([('Type', 'FHVHV'), ('Time', '2019-09-01 00:59:49'), ('PULocation', '68'), ('DOLocation', '17'), ('Count', '1')])]\n"
     ]
    }
   ],
   "source": [
    "# take an only 50 lines csv file as an example\n",
    "# 10 lines in each chunk\n",
    "chunksize = 10\n",
    "!wget -O 2019TaxiTest1.csv https://raw.githubusercontent.com/CUSP2021ADS/Data/main/2019TaxiTest1.csv\n",
    "    \n",
    "with open('2019TaxiTest1.csv', 'r') as fi:\n",
    "    reader = csv.DictReader(fi)\n",
    "    chunk = []\n",
    "    for i, line in enumerate(reader):\n",
    "        if (i % chunksize == 0 and i > 0):\n",
    "            print('----------------------')\n",
    "            print(i,chunk)\n",
    "            del chunk[:]  # or: chunk = []\n",
    "        chunk.append(line)\n",
    "    print('----------------------')\n",
    "    print(i,chunk)"
   ]
  },
  {
   "cell_type": "markdown",
   "metadata": {},
   "source": [
    "### Combine chunk together with MapReduce"
   ]
  },
  {
   "cell_type": "code",
   "execution_count": 36,
   "metadata": {},
   "outputs": [],
   "source": [
    "with open('2019TaxiTest.csv', 'r') as fi:\n",
    "    reader = csv.DictReader(fi)\n",
    "    chunk = []\n",
    "    result = []\n",
    "    # read 100000 rows in each chunk\n",
    "    chunksize = 100000\n",
    "    pool = Pool(8)\n",
    "    for i, line in enumerate(reader):\n",
    "        \n",
    "        if (i % chunksize == 0 and i > 0):\n",
    "            # MapReduce function for rows in one chunk\n",
    "            output = list(reduce(sumPassenger,\n",
    "                         pool.map(convert30min,\n",
    "                             pool.map(returnInfo,chunk)\n",
    "                            ),\n",
    "                         {}).items())\n",
    "            result += output\n",
    "            chunk = []\n",
    "            \n",
    "        \n",
    "        # add lines to chunk, and when the index\n",
    "        # is 100000, 200000, etc, stop adding new lines\n",
    "        # and start MapReduce functions\n",
    "        chunk.append(line)\n",
    "        \n",
    "    # MapReduce function for the last chunk\n",
    "    output = list(reduce(sumPassenger,\n",
    "                         pool.map(convert30min,\n",
    "                             pool.map(returnInfo,chunk)\n",
    "                            ),\n",
    "                         {}).items())\n",
    "    result += output\n",
    "    pool.close()"
   ]
  },
  {
   "cell_type": "code",
   "execution_count": 37,
   "metadata": {},
   "outputs": [
    {
     "data": {
      "text/plain": [
       "[(('FHVHV', '2019-09-01 00:00:00', '136', '169'), 7),\n",
       " (('FHVHV', '2019-09-01 00:00:00', '169', '18'), 1),\n",
       " (('FHVHV', '2019-09-01 00:30:00', '94', '198'), 1)]"
      ]
     },
     "execution_count": 37,
     "metadata": {},
     "output_type": "execute_result"
    }
   ],
   "source": [
    "result[:3]"
   ]
  },
  {
   "cell_type": "markdown",
   "metadata": {},
   "source": [
    "#### reduce results from different reducer\n",
    "as different chunks may have overlapping type, type, origin, destination values introduce one final reducer to aggregate the ridership between the results of different chunks. ch final aggregation is often needed when using MapReduce over different chunks of data and in general the MapReduce architecture often organizes reductions in a hierarchical manner, which is possible whenever the order of reduction operations does not matter"
   ]
  },
  {
   "cell_type": "code",
   "execution_count": 38,
   "metadata": {},
   "outputs": [],
   "source": [
    "def reduceResults(result,record): #add rides from a new record to the dictionary accumilating type-origin-destination-time ridership\n",
    "    taxi, time, PU, DO, count = record[0][0], record[0][1], record[0][2], record[0][3], record[1]\n",
    "\n",
    "    result[(taxi, time, PU, DO)] = result.get((taxi, time, PU, DO),0) + int(count)\n",
    "\n",
    "    return result"
   ]
  },
  {
   "cell_type": "code",
   "execution_count": 51,
   "metadata": {
    "scrolled": true
   },
   "outputs": [
    {
     "data": {
      "text/plain": [
       "[(('FHVHV', '2019-09-01 00:00:00', '136', '169'), 7),\n",
       " (('FHVHV', '2019-09-01 00:00:00', '169', '18'), 1),\n",
       " (('FHVHV', '2019-09-01 00:30:00', '94', '198'), 1)]"
      ]
     },
     "execution_count": 51,
     "metadata": {},
     "output_type": "execute_result"
    }
   ],
   "source": [
    "list(reduce(reduceResults,result,{}).items())[:3]"
   ]
  },
  {
   "cell_type": "markdown",
   "metadata": {},
   "source": [
    "This is the basic concept of how to process big data in a Pythonic and scalable way. But in practice we often don't apply built-in map and reduce functions to deal with datasets directly. As even we could use the multiprocessing and chunk iteration to implement parallel and scalable computing, it is still unable to employ all resources of a computer into one task.\n",
    "\n",
    "Instead, the best choice for big data processing in Python is PySpark. PySpark is the Python API written in Python to support Apache Spark. Apache Spark is a distributed framework that can handle Big Data analysis. Apache Spark is written in Scala and can be integrated with Python, Scala, Java, R, SQL languages. Spark is basically a computational engine, that works with huge sets of data by processing them in parallel and batch systems.\n",
    "\n",
    "The basic logistic of PySpark is quite similar to the workflow we introduced before, but it is faster. And as it provides pre-defined APIs, it also needs less coding work."
   ]
  },
  {
   "cell_type": "code",
   "execution_count": 40,
   "metadata": {},
   "outputs": [
    {
     "data": {
      "image/png": "[encoded data removed]",
      "text/plain": [
       "<IPython.core.display.Image object>"
      ]
     },
     "execution_count": 40,
     "metadata": {},
     "output_type": "execute_result"
    }
   ],
   "source": [
    "url = 'https://raw.githubusercontent.com/CUSP2022ADS/Data/main/labs_images/multi.png'\n",
    "Image(urllib.request.urlopen(url).read())"
   ]
  },
  {
   "cell_type": "code",
   "execution_count": 41,
   "metadata": {},
   "outputs": [
    {
     "data": {
      "image/png": "[encoded data removed]",
      "text/plain": [
       "<IPython.core.display.Image object>"
      ]
     },
     "execution_count": 41,
     "metadata": {},
     "output_type": "execute_result"
    }
   ],
   "source": [
    "url = 'https://raw.githubusercontent.com/CUSP2022ADS/Data/main/labs_images/pyspark.png'\n",
    "Image(urllib.request.urlopen(url).read())"
   ]
  },
  {
   "cell_type": "markdown",
   "metadata": {},
   "source": [
    "This is a screenshot of CPU utilization when a PySpark program is running. It is clear that all threads are working, and all of them are almost 100\\% used. Comparing with the CPU utilization of a hand-coded multi-process MarReduce, the utilization increased significantly. In other words, PySpark program could employ more power from the CPU."
   ]
  },
  {
   "cell_type": "markdown",
   "metadata": {},
   "source": [
    "## Parallel computing with Multiprocessing\n",
    "\n",
    "Parallel computing is a useful enchancement to improve efficiency of your code. However sometimes it does require some computation design to be run properly, especially when the processes are not fully independent and share resources. Let's illustrate the process and associated challenges/solutions on the following example"
   ]
  },
  {
   "cell_type": "code",
   "execution_count": 42,
   "metadata": {},
   "outputs": [
    {
     "name": "stdout",
     "output_type": "stream",
     "text": [
      "Computing for 10000000 finalized with result 49999995000000; finalized in 0.287832 sec\n",
      "Computing for 100000 finalized with result 4999950000; finalized in 0.002744 sec\n",
      "Computing for 1 finalized with result 0; finalized in 0.000001 sec\n",
      "Computing for 100 finalized with result 4950; finalized in 0.000003 sec\n"
     ]
    }
   ],
   "source": [
    "#define a function implementing a computation process (summing up numbers from 1 to n-1)\n",
    "import time\n",
    "def processFunction(n):\n",
    "    starttime=time.time() #measure execution time\n",
    "    S=0\n",
    "    for i in range(n):\n",
    "        S+=i\n",
    "    stoptime=time.time() \n",
    "    #S=sum([i for i in range(n)])\n",
    "    print ('Computing for %d finalized with result %d; finalized in %.6f sec'%(n,S,stoptime-starttime))\n",
    "    return S\n",
    "\n",
    "args = [10000000,100000,1,100] #arguments to pass to the computation processes\n",
    "\n",
    "for a in args: #launch all processes\n",
    "     processFunction(a) "
   ]
  },
  {
   "cell_type": "markdown",
   "metadata": {},
   "source": [
    "Now try running them as processes to be executed in parallel"
   ]
  },
  {
   "cell_type": "code",
   "execution_count": 43,
   "metadata": {},
   "outputs": [
    {
     "name": "stdout",
     "output_type": "stream",
     "text": [
      "Computing for 100000 finalized with result 4999950000; finalized in 0.003070 sec\n",
      "Computing for 1 finalized with result 0; finalized in 0.000001 sec\n",
      "Computing for 100 finalized with result 4950; finalized in 0.000005 sec\n",
      "Computing for 10000000 finalized with result 49999995000000; finalized in 0.299209 sec\n"
     ]
    }
   ],
   "source": [
    "#define a function implementing a computation process (summing up numbers from 1 to n-1)\n",
    "import multiprocessing\n",
    "def processFunction(n):\n",
    "    starttime=time.time()\n",
    "    S=0\n",
    "    for i in range(n):\n",
    "        S+=i\n",
    "    stoptime=time.time() \n",
    "    #S=sum([i for i in range(n)])\n",
    "    print ('Computing for %d finalized with result %d; finalized in %.6f sec'%(n,S,stoptime-starttime))\n",
    "    return S\n",
    "\n",
    "args = [10000000,100000,1,100] #arguments to pass to the computation processes\n",
    "\n",
    "for a in args: #launch all processes\n",
    "    p = multiprocessing.Process(target=processFunction, args=(a,)) #create a process\n",
    "    p.start() #start a process"
   ]
  },
  {
   "cell_type": "markdown",
   "metadata": {},
   "source": [
    "As we can see the processes do not finalize in the order they were launched. Instead the fastest ones finalize first. So they were indeed launched in parallel, not sequencially.\n",
    "\n",
    "However processes often do not run in isolation, like in the example above. It is often useful to share resources between them. Consider processes incrementing a certain common value for a certain number of times"
   ]
  },
  {
   "cell_type": "code",
   "execution_count": 44,
   "metadata": {},
   "outputs": [
    {
     "name": "stdout",
     "output_type": "stream",
     "text": [
      "Computing for 1 finalized with result 28802; finalized in 0.000024 sec\n"
     ]
    },
    {
     "data": {
      "text/plain": [
       "35830"
      ]
     },
     "execution_count": 44,
     "metadata": {},
     "output_type": "execute_result"
    },
    {
     "name": "stdout",
     "output_type": "stream",
     "text": [
      "Computing for 100 finalized with result 36424; finalized in 0.000190 sec\n",
      "Computing for 100000 finalized with result 77929; finalized in 0.131448 sec\n",
      "Computing for 1000000 finalized with result 988607; finalized in 0.590338 sec\n"
     ]
    }
   ],
   "source": [
    "def processFunction(n,S):\n",
    "    starttime=time.time()\n",
    "    for i in range(n):\n",
    "        S.value+=1\n",
    "    stoptime=time.time() \n",
    "    print ('Computing for %d finalized with result %d; finalized in %.6f sec'%(n,S.value,stoptime-starttime))\n",
    "    return S.value\n",
    "    \n",
    "\n",
    "args = [1000000,100000,1,100] #arguments to pass to the computation processes\n",
    "\n",
    "\n",
    "S=multiprocessing.Value('i', 0)\n",
    "\n",
    "for a in args: #launch all processes\n",
    "    p = multiprocessing.Process(target=processFunction, args=(a,S))\n",
    "    p.start()\n",
    "\n",
    "S.value"
   ]
  },
  {
   "cell_type": "code",
   "execution_count": 45,
   "metadata": {},
   "outputs": [
    {
     "name": "stdout",
     "output_type": "stream",
     "text": [
      "Computing for 1 finalized with result 24457; finalized in 0.000031 sec\n",
      "Computing for 100 finalized with result 31291; finalized in 0.000344 sec\n"
     ]
    },
    {
     "data": {
      "text/plain": [
       "30562"
      ]
     },
     "execution_count": 45,
     "metadata": {},
     "output_type": "execute_result"
    },
    {
     "name": "stdout",
     "output_type": "stream",
     "text": [
      "Computing for 100000 finalized with result 220611; finalized in 0.282865 sec\n",
      "Computing for 1000000 finalized with result 1100101; finalized in 0.849188 sec\n"
     ]
    }
   ],
   "source": [
    "def processFunction(n,S,l):\n",
    "    starttime=time.time()\n",
    "    for i in range(n):\n",
    "        l.acquire()\n",
    "        S.value+=1\n",
    "        l.release()\n",
    "    stoptime=time.time() \n",
    "    print ('Computing for %d finalized with result %d; finalized in %.6f sec'%(n,S.value,stoptime-starttime))\n",
    "    return S.value\n",
    "    \n",
    "\n",
    "args = [1000000,100000,1,100] #arguments to pass to the computation processes\n",
    "\n",
    "lock = multiprocessing.Lock()\n",
    "\n",
    "S=multiprocessing.Value('i', 0)\n",
    "\n",
    "for a in args: #launch all processes\n",
    "    p = multiprocessing.Process(target=processFunction, args=(a,S,lock))\n",
    "    p.start()\n",
    "\n",
    "S.value"
   ]
  },
  {
   "cell_type": "code",
   "execution_count": 46,
   "metadata": {},
   "outputs": [
    {
     "data": {
      "text/plain": [
       "52186"
      ]
     },
     "execution_count": 46,
     "metadata": {},
     "output_type": "execute_result"
    },
    {
     "name": "stdout",
     "output_type": "stream",
     "text": [
      "Computing for 1000000 finalized with result 996240; finalized in 0.496983 sec\n",
      "Computing for 100000 finalized with result 1096240; finalized in 0.094587 sec\n",
      "Computing for 1 finalized with result 1096241; finalized in 0.000032 sec\n",
      "Computing for 100 finalized with result 1096341; finalized in 0.000069 sec\n"
     ]
    }
   ],
   "source": [
    "#can also lock the entire process to prevent any interruption. Then they will run one by one, rather than in parallel\n",
    "def processFunction(n,S,l):\n",
    "    l.acquire()\n",
    "    starttime=time.time()\n",
    "    for i in range(n):\n",
    "        S.value+=1\n",
    "    stoptime=time.time() \n",
    "    print ('Computing for %d finalized with result %d; finalized in %.6f sec'%(n,S.value,stoptime-starttime))\n",
    "    l.release()\n",
    "    return S.value\n",
    "    \n",
    "\n",
    "args = [1000000,100000,1,100] #arguments to pass to the computation processes\n",
    "\n",
    "lock = multiprocessing.Lock()\n",
    "\n",
    "S=multiprocessing.Value('i', 0)\n",
    "\n",
    "for a in args: #launch all processes\n",
    "    p = multiprocessing.Process(target=processFunction, args=(a,S,lock))\n",
    "    p.start()\n",
    "\n",
    "S.value"
   ]
  },
  {
   "cell_type": "markdown",
   "metadata": {},
   "source": [
    "# Joblib\n",
    "Joblib is another package for multi-processing computing, it provides a simple helper class to implement parallel computing for loops. It is has a lighter syntax and is perhaps even more common that the multiprocessing package we introduced before, but is not designed for MapReduce."
   ]
  },
  {
   "cell_type": "markdown",
   "metadata": {},
   "source": [
    "### a simple example shows how joblib works"
   ]
  },
  {
   "cell_type": "code",
   "execution_count": 47,
   "metadata": {
    "scrolled": true
   },
   "outputs": [
    {
     "name": "stdout",
     "output_type": "stream",
     "text": [
      "CPU times: user 99.7 ms, sys: 37.2 ms, total: 137 ms\n",
      "Wall time: 10.2 s\n"
     ]
    }
   ],
   "source": [
    "%%time\n",
    "import time\n",
    "def f(x):\n",
    "    time.sleep(0.01)\n",
    "    return x\n",
    "\n",
    "_ = [f(i) for i in range(999)]"
   ]
  },
  {
   "cell_type": "markdown",
   "metadata": {},
   "source": [
    "joblib.Parallel starts separate Python worker processes to execute tasks concurrently on separate CPUs. The delayed function is a simple trick to be able to create a tuple (function, args, kwargs) with a function-call syntax."
   ]
  },
  {
   "cell_type": "code",
   "execution_count": 48,
   "metadata": {},
   "outputs": [
    {
     "name": "stdout",
     "output_type": "stream",
     "text": [
      "CPU times: user 518 ms, sys: 82.4 ms, total: 600 ms\n",
      "Wall time: 2.62 s\n"
     ]
    }
   ],
   "source": [
    "%%time\n",
    "from joblib import Parallel, delayed\n",
    "_ = Parallel(n_jobs=4, backend=\"threading\")(delayed(f)(i) for i in range(999))"
   ]
  },
  {
   "cell_type": "markdown",
   "metadata": {},
   "source": [
    "delayed is aiming at tell Python the function we want to call without executing it. For example, without delayed, our script will be\n",
    "```python\n",
    "Parallel(n_jobs=4, backend=\"threading\")(f(i) for i in range(999))\n",
    "```\n",
    "As a result, function f will be executed immediately, before deploying it into multi-core parallel computing.\n"
   ]
  },
  {
   "cell_type": "markdown",
   "metadata": {},
   "source": [
    "### A real world example. In this case, we want to separate the 2019 taxi file into four different files based on taxi types."
   ]
  },
  {
   "cell_type": "code",
   "execution_count": 49,
   "metadata": {},
   "outputs": [],
   "source": [
    "def processCSV(row):\n",
    "    taxi  = row['Type']\n",
    "    count = row['Count']\n",
    "    with open('%s.csv'%taxi, 'a+') as f:\n",
    "        f.write(row['Type']+','+row['Time']+','+row['PULocation']+','+row['DOLocation']+','+row['Count'])"
   ]
  },
  {
   "cell_type": "code",
   "execution_count": 50,
   "metadata": {},
   "outputs": [],
   "source": [
    "with open('2019TaxiTest.csv', 'r') as fi:\n",
    "    reader = csv.DictReader(fi)\n",
    "    Parallel(n_jobs=8)(delayed(processCSV)(row) for row in reader)"
   ]
  }
 ],
 "metadata": {
  "kernelspec": {
   "display_name": "Python 3",
   "language": "python",
   "name": "python3"
  },
  "language_info": {
   "codemirror_mode": {
    "name": "ipython",
    "version": 3
   },
   "file_extension": ".py",
   "mimetype": "text/x-python",
   "name": "python",
   "nbconvert_exporter": "python",
   "pygments_lexer": "ipython3",
   "version": "3.7.6"
  }
 },
 "nbformat": 4,
 "nbformat_minor": 4
}
