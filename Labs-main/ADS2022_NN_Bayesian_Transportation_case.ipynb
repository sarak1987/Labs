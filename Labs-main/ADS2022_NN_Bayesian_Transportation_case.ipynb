{
 "cells": [
  {
   "cell_type": "markdown",
   "metadata": {
    "id": "QdU1oyxgOP-h"
   },
   "source": [
    "## Transporation mode choice modeling\n",
    "\n",
    "Transportation planning and assessments are important aspects of modeling urban systems and are critical in making key decisions and shaping/estimating the commute behavior of urban populace. Some of the key impact assessments from the model could be evaluating change in net commute time savings, change in pollution emissions, traffic volumes etc. across an urban area of interest.\n",
    "\n",
    "Here we demonstrate a framework for transporation mode choice modeling using Bayesian inference. Essentially, we want to model ridership across multiple modes by estimating mode choice between origin-destination taxi zone pairs in New York City among 4 available mode choices - transit, taxi, walking and driving. "
   ]
  },
  {
   "cell_type": "code",
   "execution_count": 1,
   "metadata": {
    "colab": {
     "base_uri": "https://localhost:8080/"
    },
    "id": "0OV3_FRIORXK",
    "outputId": "41760dba-847f-45a2-f479-f1d1322cf173"
   },
   "outputs": [
    {
     "name": "stdout",
     "output_type": "stream",
     "text": [
      "Requirement already satisfied: arviz==0.6.1 in /usr/local/lib/python3.7/dist-packages (0.6.1)\n",
      "Requirement already satisfied: xarray>=0.11 in /usr/local/lib/python3.7/dist-packages (from arviz==0.6.1) (0.15.1)\n",
      "Requirement already satisfied: packaging in /usr/local/lib/python3.7/dist-packages (from arviz==0.6.1) (20.9)\n",
      "Requirement already satisfied: numpy>=1.12 in /usr/local/lib/python3.7/dist-packages (from arviz==0.6.1) (1.19.5)\n",
      "Requirement already satisfied: pandas>=0.23 in /usr/local/lib/python3.7/dist-packages (from arviz==0.6.1) (1.1.5)\n",
      "Requirement already satisfied: netcdf4 in /usr/local/lib/python3.7/dist-packages (from arviz==0.6.1) (1.5.6)\n",
      "Requirement already satisfied: scipy>=0.19 in /usr/local/lib/python3.7/dist-packages (from arviz==0.6.1) (1.4.1)\n",
      "Requirement already satisfied: matplotlib>=3.0 in /usr/local/lib/python3.7/dist-packages (from arviz==0.6.1) (3.2.2)\n",
      "Requirement already satisfied: setuptools>=41.2 in /usr/local/lib/python3.7/dist-packages (from xarray>=0.11->arviz==0.6.1) (54.1.2)\n",
      "Requirement already satisfied: pyparsing>=2.0.2 in /usr/local/lib/python3.7/dist-packages (from packaging->arviz==0.6.1) (2.4.7)\n",
      "Requirement already satisfied: pytz>=2017.2 in /usr/local/lib/python3.7/dist-packages (from pandas>=0.23->arviz==0.6.1) (2018.9)\n",
      "Requirement already satisfied: python-dateutil>=2.7.3 in /usr/local/lib/python3.7/dist-packages (from pandas>=0.23->arviz==0.6.1) (2.8.1)\n",
      "Requirement already satisfied: cftime in /usr/local/lib/python3.7/dist-packages (from netcdf4->arviz==0.6.1) (1.4.1)\n",
      "Requirement already satisfied: cycler>=0.10 in /usr/local/lib/python3.7/dist-packages (from matplotlib>=3.0->arviz==0.6.1) (0.10.0)\n",
      "Requirement already satisfied: kiwisolver>=1.0.1 in /usr/local/lib/python3.7/dist-packages (from matplotlib>=3.0->arviz==0.6.1) (1.3.1)\n",
      "Requirement already satisfied: six>=1.5 in /usr/local/lib/python3.7/dist-packages (from python-dateutil>=2.7.3->pandas>=0.23->arviz==0.6.1) (1.15.0)\n",
      "Requirement already satisfied: pymc3==3.5 in /usr/local/lib/python3.7/dist-packages (3.5)\n",
      "Requirement already satisfied: h5py>=2.7.0 in /usr/local/lib/python3.7/dist-packages (from pymc3==3.5) (2.10.0)\n",
      "Requirement already satisfied: numpy>=1.13.0 in /usr/local/lib/python3.7/dist-packages (from pymc3==3.5) (1.19.5)\n",
      "Requirement already satisfied: patsy>=0.4.0 in /usr/local/lib/python3.7/dist-packages (from pymc3==3.5) (0.5.1)\n",
      "Requirement already satisfied: pandas>=0.18.0 in /usr/local/lib/python3.7/dist-packages (from pymc3==3.5) (1.1.5)\n",
      "Requirement already satisfied: six>=1.10.0 in /usr/local/lib/python3.7/dist-packages (from pymc3==3.5) (1.15.0)\n",
      "Requirement already satisfied: theano>=1.0.0 in /usr/local/lib/python3.7/dist-packages (from pymc3==3.5) (1.0.4)\n",
      "Requirement already satisfied: tqdm>=4.8.4 in /usr/local/lib/python3.7/dist-packages (from pymc3==3.5) (4.41.1)\n",
      "Requirement already satisfied: joblib>=0.9 in /usr/local/lib/python3.7/dist-packages (from pymc3==3.5) (1.0.1)\n",
      "Requirement already satisfied: pytz>=2017.2 in /usr/local/lib/python3.7/dist-packages (from pandas>=0.18.0->pymc3==3.5) (2018.9)\n",
      "Requirement already satisfied: python-dateutil>=2.7.3 in /usr/local/lib/python3.7/dist-packages (from pandas>=0.18.0->pymc3==3.5) (2.8.1)\n",
      "Requirement already satisfied: scipy>=0.14 in /usr/local/lib/python3.7/dist-packages (from theano>=1.0.0->pymc3==3.5) (1.4.1)\n",
      "Requirement already satisfied: Theano==1.0.4 in /usr/local/lib/python3.7/dist-packages (1.0.4)\n",
      "Requirement already satisfied: six>=1.9.0 in /usr/local/lib/python3.7/dist-packages (from Theano==1.0.4) (1.15.0)\n",
      "Requirement already satisfied: scipy>=0.14 in /usr/local/lib/python3.7/dist-packages (from Theano==1.0.4) (1.4.1)\n",
      "Requirement already satisfied: numpy>=1.9.1 in /usr/local/lib/python3.7/dist-packages (from Theano==1.0.4) (1.19.5)\n"
     ]
    }
   ],
   "source": [
    "!pip install arviz==0.6.1\n",
    "!pip install pymc3==3.5\n",
    "!pip install Theano==1.0.4"
   ]
  },
  {
   "cell_type": "code",
   "execution_count": 187,
   "metadata": {
    "id": "qraS57-mOP-j"
   },
   "outputs": [],
   "source": [
    "import pandas as pd\n",
    "import numpy as np\n",
    "from numpy import inf\n",
    "import seaborn as sns\n",
    "from scipy.stats import norm\n",
    "import itertools\n",
    "import theano\n",
    "from theano import tensor as tt\n",
    "import pymc3 as pm\n",
    "import arviz\n",
    "from matplotlib import pyplot as plt\n",
    "import warnings\n",
    "warnings.filterwarnings(\"ignore\")\n",
    "%matplotlib inline"
   ]
  },
  {
   "cell_type": "markdown",
   "metadata": {
    "id": "DP8qC8UXOP-m"
   },
   "source": [
    "We use data from primarily two sources: \n",
    "- the travel duration and fare cost for taxi, transit and driving modes are extracted from Google Maps API for each of the origin-destination taxi zone pairs. Cost for walking is kept as 0.\n",
    "- the mobility information and aggregated income information is retrieved from LEHD data along with ACS for origin-destination commute choice information, further aggregated on taxi zone levels.\n",
    "\n",
    "\n",
    "The combined data thus contains travel time, travel cost and aggregated commuter information corresponding to each of O-D pairs and 4 travel modes.\n",
    "\n",
    "The travel modes (column 'tmode') contains codes for each mode referenced as- 2: transit, 3: taxi, 5: walking, 8: driving\n"
   ]
  },
  {
   "cell_type": "code",
   "execution_count": 3,
   "metadata": {
    "colab": {
     "base_uri": "https://localhost:8080/",
     "height": 204
    },
    "id": "6GLZ2ATNOP-m",
    "outputId": "29f372bd-c3dd-472d-b00c-5e7a1b98a879"
   },
   "outputs": [
    {
     "data": {
      "text/html": [
       "<div>\n",
       "<style scoped>\n",
       "    .dataframe tbody tr th:only-of-type {\n",
       "        vertical-align: middle;\n",
       "    }\n",
       "\n",
       "    .dataframe tbody tr th {\n",
       "        vertical-align: top;\n",
       "    }\n",
       "\n",
       "    .dataframe thead th {\n",
       "        text-align: right;\n",
       "    }\n",
       "</style>\n",
       "<table border=\"1\" class=\"dataframe\">\n",
       "  <thead>\n",
       "    <tr style=\"text-align: right;\">\n",
       "      <th></th>\n",
       "      <th>pulocationid</th>\n",
       "      <th>dolocationid</th>\n",
       "      <th>tmode</th>\n",
       "      <th>duration</th>\n",
       "      <th>price</th>\n",
       "      <th>ridership</th>\n",
       "    </tr>\n",
       "  </thead>\n",
       "  <tbody>\n",
       "    <tr>\n",
       "      <th>0</th>\n",
       "      <td>3</td>\n",
       "      <td>7</td>\n",
       "      <td>8</td>\n",
       "      <td>0.653356</td>\n",
       "      <td>12.721600</td>\n",
       "      <td>736</td>\n",
       "    </tr>\n",
       "    <tr>\n",
       "      <th>1</th>\n",
       "      <td>3</td>\n",
       "      <td>7</td>\n",
       "      <td>3</td>\n",
       "      <td>0.798016</td>\n",
       "      <td>43.157143</td>\n",
       "      <td>0</td>\n",
       "    </tr>\n",
       "    <tr>\n",
       "      <th>2</th>\n",
       "      <td>3</td>\n",
       "      <td>18</td>\n",
       "      <td>3</td>\n",
       "      <td>0.254000</td>\n",
       "      <td>12.900000</td>\n",
       "      <td>1748</td>\n",
       "    </tr>\n",
       "    <tr>\n",
       "      <th>3</th>\n",
       "      <td>3</td>\n",
       "      <td>18</td>\n",
       "      <td>5</td>\n",
       "      <td>1.084444</td>\n",
       "      <td>0.000000</td>\n",
       "      <td>3174</td>\n",
       "    </tr>\n",
       "    <tr>\n",
       "      <th>4</th>\n",
       "      <td>3</td>\n",
       "      <td>18</td>\n",
       "      <td>8</td>\n",
       "      <td>0.268923</td>\n",
       "      <td>7.432000</td>\n",
       "      <td>10879</td>\n",
       "    </tr>\n",
       "  </tbody>\n",
       "</table>\n",
       "</div>"
      ],
      "text/plain": [
       "   pulocationid  dolocationid  tmode  duration      price  ridership\n",
       "0             3             7      8  0.653356  12.721600        736\n",
       "1             3             7      3  0.798016  43.157143          0\n",
       "2             3            18      3  0.254000  12.900000       1748\n",
       "3             3            18      5  1.084444   0.000000       3174\n",
       "4             3            18      8  0.268923   7.432000      10879"
      ]
     },
     "execution_count": 3,
     "metadata": {
      "tags": []
     },
     "output_type": "execute_result"
    }
   ],
   "source": [
    "# read the data\n",
    "\n",
    "data = pd.read_csv('LEHD_commute.csv')\n",
    "data['duration'] = data['duration']/60  # convert time to hours\n",
    "data['ridership'] = data.iloc[:, 5:].sum(axis=1)  ## aggregate the ridership across income groups\n",
    "data = data[['pulocationid', 'dolocationid', 'tmode', 'duration', 'price', 'ridership']]\n",
    "data.head()"
   ]
  },
  {
   "cell_type": "code",
   "execution_count": 4,
   "metadata": {
    "colab": {
     "base_uri": "https://localhost:8080/"
    },
    "id": "zUnj4ncQhTPB",
    "outputId": "fff19e4d-59ee-4e9b-f8a7-246bfc946422"
   },
   "outputs": [
    {
     "data": {
      "text/plain": [
       "191552556"
      ]
     },
     "execution_count": 4,
     "metadata": {
      "tags": []
     },
     "output_type": "execute_result"
    }
   ],
   "source": [
    "data.ridership.sum()"
   ]
  },
  {
   "cell_type": "code",
   "execution_count": 5,
   "metadata": {
    "colab": {
     "base_uri": "https://localhost:8080/"
    },
    "id": "5c2L8g-wOP-n",
    "outputId": "f118ce89-9abb-412d-b8e9-2fe81000374b"
   },
   "outputs": [
    {
     "data": {
      "text/plain": [
       "19152"
      ]
     },
     "execution_count": 5,
     "metadata": {
      "tags": []
     },
     "output_type": "execute_result"
    }
   ],
   "source": [
    "# number of unique O-D pairs\n",
    "\n",
    "len(data[['pulocationid', 'dolocationid']].drop_duplicates())"
   ]
  },
  {
   "cell_type": "code",
   "execution_count": 6,
   "metadata": {
    "colab": {
     "base_uri": "https://localhost:8080/"
    },
    "id": "6ZJUgB-tOP-n",
    "outputId": "e12584cb-dc3a-44e0-f76a-2a4d81bc1f69"
   },
   "outputs": [
    {
     "data": {
      "text/plain": [
       "array([8, 3, 5, 2])"
      ]
     },
     "execution_count": 6,
     "metadata": {
      "tags": []
     },
     "output_type": "execute_result"
    }
   ],
   "source": [
    "# unique modes\n",
    "\n",
    "data.tmode.unique()"
   ]
  },
  {
   "cell_type": "code",
   "execution_count": 7,
   "metadata": {
    "colab": {
     "base_uri": "https://localhost:8080/",
     "height": 415
    },
    "id": "rwPC5iPbW8GT",
    "outputId": "8a2c658e-fa49-43df-feb1-97843566db47"
   },
   "outputs": [
    {
     "data": {
      "text/plain": [
       "([<matplotlib.axis.XTick at 0x7fa482ddda10>,\n",
       "  <matplotlib.axis.XTick at 0x7fa482d8f150>,\n",
       "  <matplotlib.axis.XTick at 0x7fa482d86cd0>,\n",
       "  <matplotlib.axis.XTick at 0x7fa482d5d3d0>],\n",
       " [Text(0, 0, 'Transit'),\n",
       "  Text(0, 0, 'Taxi'),\n",
       "  Text(0, 0, 'Walking'),\n",
       "  Text(0, 0, 'Driving')])"
      ]
     },
     "execution_count": 7,
     "metadata": {
      "tags": []
     },
     "output_type": "execute_result"
    },
    {
     "data": {
      "image/png": "[encoded data removed]",
      "text/plain": [
       "<Figure size 432x288 with 1 Axes>"
      ]
     },
     "metadata": {
      "needs_background": "light",
      "tags": []
     },
     "output_type": "display_data"
    }
   ],
   "source": [
    "## ridership by mode\n",
    "byMode = data.groupby(by='tmode', as_index=False).sum()[['tmode', 'ridership']]\n",
    "plt.bar(np.arange(len(byMode)), list(byMode.ridership), edgecolor = 'black')\n",
    "plt.xticks([r  for r in range(len(byMode))], ['Transit', 'Taxi',\n",
    "                                                      'Walking', 'Driving'], fontsize=12)"
   ]
  },
  {
   "cell_type": "markdown",
   "metadata": {
    "id": "t7gbqSVdOP-n"
   },
   "source": [
    "We use the Multinomial Logit (MNL) as the modeling framework for estimating the mode choice probabilities. MNL is broadly used in transportation choice modeling. It offers an advantage of estimating the mode-choice probabilities using closed-form formulas representing the aggregate-level choices.\n",
    "\n",
    "the probabilities for each of the four major transportation modes to be chosen as having the highest utility is defined as\n",
    "$$\n",
    "\\begin{equation}\n",
    "    P_{mode} = \\frac{e^{\\lambda U_{mode}}}{e^{\\lambda U_{taxi}} + e^{\\lambda U_{transit}} + e^{\\lambda U_{walk}} + e^{\\lambda U_{drive}}}\n",
    "\\end{equation}\n",
    "$$\n",
    "\n",
    "$\\lambda$ being subject to fit.\n",
    "\n",
    "Additionally, we define the utilily below.\n",
    "\n",
    "Mathematically, the utility score $U_j$ for alternative ${j}$ depends on the time taken $T_j$ between the O-D pair in consideration and the monetary cost $P_j$ for choosing the alternative, and a random component of error $\\epsilon_j$ , yielding a base utility function\n",
    "$$\n",
    "\\begin{equation}\n",
    "    U_j = -(CT_j + P_j)\n",
    "\\end{equation}$$\n",
    "\n",
    "where C is kept as a constant.\n",
    "\n",
    "The utility can be interpreted as perceived total 'value' of commuting between a o-d pair by the commuter, incorporating possible irrationality of individual decisions while combining it with the direct monetary cost to assess the overall utility. An additional random error term $\\epsilon$ can be added to the utility term following a particular distribution. This could be either an additive term or multiplicative term based on our preferences.\n",
    "Here we will proceed with the additive case, so the utility being defined as $\\begin{equation}\n",
    "    U_j = -(CT_j + P_j) + \\epsilon\n",
    "\\end{equation}$\n",
    "\n",
    "\n",
    "#### Likelihood estimation\n",
    "\n",
    "From the estimated probabilities $P_m$, we compute the likelihood of the observed LEHD data give the model for each set of $\\beta, \\sigma$ parameters. For mode choice probabilities $P_m(o,d,\\sigma,\\beta)$ for each set of origin(o) and destination(d), the log-likelihood for four modes given the observed LEHD ridership $R_m(o,d)$ is calculated as\n",
    "$$\n",
    "\\begin{equation}\n",
    "    L(\\sigma, \\beta) = \\sum_{o,d}\\sum_m R_m(o,d)\\ln P_m(o,d,\\sigma,\\beta)\n",
    "\\end{equation}\n",
    "$$\n",
    "\n",
    "\n",
    "One can simulate the results just for the max-likelihood parameters, however comprehensive parameter sampling provides assessment with respect to the model uncertainty.\n",
    "\n"
   ]
  },
  {
   "cell_type": "code",
   "execution_count": 8,
   "metadata": {
    "colab": {
     "base_uri": "https://localhost:8080/"
    },
    "id": "mk_1nzU_OP-p",
    "outputId": "7a7f9810-e235-450f-9d94-0e6bbdbe66a9"
   },
   "outputs": [
    {
     "data": {
      "text/plain": [
       "3.8449074074074074"
      ]
     },
     "execution_count": 8,
     "metadata": {
      "tags": []
     },
     "output_type": "execute_result"
    }
   ],
   "source": [
    "# choice for constant C - put as median hourly NYC income\n",
    "# NYC median income is ~ $33,220 per year\n",
    "\n",
    "C = 33220/(12*30*24)\n",
    "C"
   ]
  },
  {
   "cell_type": "markdown",
   "metadata": {
    "id": "w7pOdOBqX6kZ"
   },
   "source": [
    "As defined in the utility function, the coefficient C can be interpreted as a parameter incorporating irrationality of decisions based on time and cost. \n",
    "\n",
    "We use the total number of hours in a day instead of number of working hours to assess the cost of time as people often underestimate the value of time.  So we try a lower bound value (which apparently also provides a better fit to the data). It could be a good idea to fit C as another parameter of the model, but we keep it fixed to make fitting easier for the illustration purposes."
   ]
  },
  {
   "cell_type": "markdown",
   "metadata": {
    "id": "xl7TPF5LwNdF"
   },
   "source": [
    "Modeling:  We'll use Bayesian inference for fitting the model. There is just one parameter $\\lambda$ in our model specifications. We will estimate it's posterior distribution from MCMC sampling."
   ]
  },
  {
   "cell_type": "code",
   "execution_count": 9,
   "metadata": {
    "colab": {
     "base_uri": "https://localhost:8080/",
     "height": 265
    },
    "id": "VAN57Z5Ot0dU",
    "outputId": "0ceef45d-a19a-4db4-c062-81ffc1afd67e"
   },
   "outputs": [
    {
     "data": {
      "image/png": "[encoded data removed]",
      "text/plain": [
       "<Figure size 432x288 with 1 Axes>"
      ]
     },
     "metadata": {
      "needs_background": "light",
      "tags": []
     },
     "output_type": "display_data"
    }
   ],
   "source": [
    "# prior for lambda \n",
    "\n",
    "fig, ax = plt.subplots()\n",
    "x= np.arange(-1,3,0.001)\n",
    "ax.plot(x, norm.pdf(x, loc=1, scale=0.5))\n",
    "\n",
    "plt.show()"
   ]
  },
  {
   "cell_type": "code",
   "execution_count": 10,
   "metadata": {
    "id": "CPGg3m1mOP-q"
   },
   "outputs": [],
   "source": [
    "def MNL(lambda_, data):  # multinomial logit probabilities\n",
    "\n",
    "    # compute probabilities from utility defined above\n",
    "    prob_n = np.exp(lambda_*(-(np.random.normal(loc=data['duration'].values, scale=np.sqrt(data['duration'].values))*3.84 + \n",
    "                               np.random.normal(loc=data['price'].values, scale=np.sqrt(data['price'].values))) + np.random.normal(loc=0, scale=10)))\n",
    "    prob_d = np.sum(prob_n)\n",
    "    pred =  prob_n/prob_d\n",
    "    return pred\n",
    "    \n",
    "def like(lambda_, obs=data['ridership'], return_prob=False):   # compute likelihood\n",
    "\n",
    "    pred = []\n",
    "    # scale = 10000**2\n",
    "\n",
    "    # get MNL probabilities for each o-d travel modes\n",
    "    for o, d in zip(data[['pulocationid', 'dolocationid']].drop_duplicates()['pulocationid'], \n",
    "      data[['pulocationid', 'dolocationid']].drop_duplicates()['dolocationid']):   # iterate each o-d\n",
    "        odLoc = data[(data.pulocationid == o) & (data.dolocationid == d)]\n",
    "        pred.append(MNL(lambda_, odLoc))\n",
    "\n",
    "    pred = np.array(list(itertools.chain(*pred)))\n",
    "\n",
    "    pred = pred.astype(float)\n",
    "    pred[pred == 0] = 0.0001\n",
    "\n",
    "    # return_prob argument is for getting numpy array vs tensor (required for MCMC sampling)\n",
    "    if return_prob == True:\n",
    "        return np.sum(np.log(pred)*obs)\n",
    "    else:\n",
    "        return tt.sum(tt.log(pred)*obs)"
   ]
  },
  {
   "cell_type": "markdown",
   "metadata": {
    "id": "QevV_h11v-2D"
   },
   "source": [
    "Let's estimate the posterior distribution of lambda parameter from MCMC simulations."
   ]
  },
  {
   "cell_type": "code",
   "execution_count": 11,
   "metadata": {
    "colab": {
     "base_uri": "https://localhost:8080/"
    },
    "id": "qqXL_vTwX4Bu",
    "outputId": "289c8c98-810a-46a1-f635-eec46a060fe3"
   },
   "outputs": [
    {
     "name": "stderr",
     "output_type": "stream",
     "text": [
      "logp = -3.8037e+08, ||grad|| = 0: 100%|██████████| 2/2 [00:00<00:00, 402.33it/s]\n",
      "Auto-assigning NUTS sampler...\n",
      "Initializing NUTS using jitter+adapt_diag...\n",
      "Sequential sampling (2 chains in 1 job)\n",
      "NUTS: [lambda]\n",
      "100%|██████████| 1500/1500 [00:00<00:00, 2097.74it/s]\n",
      "100%|██████████| 1500/1500 [00:00<00:00, 2158.20it/s]\n"
     ]
    }
   ],
   "source": [
    "with pm.Model() as transport_model:\n",
    "    lambda1 = pm.Normal('lambda', mu=1, sd=0.5) # lambda prior\n",
    "\n",
    "    likelihood = pm.Potential('likelihood', like(lambda1.random(), data['ridership'])) ## likelihood, we call above likelihood function with 'Potential' in pymc3\n",
    "    start = pm.find_MAP()  # find max likelihood\n",
    "    trace = pm.sample(1000, start=start, progressbar=True) # estimate posterior from MCMC sampling"
   ]
  },
  {
   "cell_type": "code",
   "execution_count": 12,
   "metadata": {
    "colab": {
     "base_uri": "https://localhost:8080/",
     "height": 187
    },
    "id": "l8P_f7mShrib",
    "outputId": "b3bada65-0dcf-43f6-c550-0127be7691d0"
   },
   "outputs": [
    {
     "data": {
      "text/plain": [
       "<Figure size 720x720 with 0 Axes>"
      ]
     },
     "execution_count": 12,
     "metadata": {
      "tags": []
     },
     "output_type": "execute_result"
    },
    {
     "data": {
      "image/png": "[encoded data removed]",
      "text/plain": [
       "<Figure size 864x144 with 2 Axes>"
      ]
     },
     "metadata": {
      "needs_background": "light",
      "tags": []
     },
     "output_type": "display_data"
    },
    {
     "data": {
      "text/plain": [
       "<Figure size 720x720 with 0 Axes>"
      ]
     },
     "metadata": {
      "tags": []
     },
     "output_type": "display_data"
    }
   ],
   "source": [
    "fig = pm.traceplot(trace[199:1000])\n",
    "plt.figure(figsize = (10, 10))"
   ]
  },
  {
   "cell_type": "code",
   "execution_count": 13,
   "metadata": {
    "colab": {
     "base_uri": "https://localhost:8080/",
     "height": 441
    },
    "id": "XSRisp_EYe6L",
    "outputId": "02fa4c65-13ea-481b-ecfe-4cba11e38a01"
   },
   "outputs": [
    {
     "data": {
      "image/png": "[encoded data removed]",
      "text/plain": [
       "<Figure size 576x432 with 1 Axes>"
      ]
     },
     "metadata": {
      "needs_background": "light",
      "tags": []
     },
     "output_type": "display_data"
    }
   ],
   "source": [
    "pm.plot_posterior(trace, figsize = (8, 6), text_size = 20);"
   ]
  },
  {
   "cell_type": "code",
   "execution_count": 14,
   "metadata": {
    "colab": {
     "base_uri": "https://localhost:8080/"
    },
    "id": "1una0Y_TZ484",
    "outputId": "1ee71e88-282f-4fc9-d5a6-6fe219730dd6"
   },
   "outputs": [
    {
     "name": "stdout",
     "output_type": "stream",
     "text": [
      "0.77\n"
     ]
    }
   ],
   "source": [
    "# print max-likelihood lambda\n",
    "\n",
    "print(start['lambda'])"
   ]
  },
  {
   "cell_type": "markdown",
   "metadata": {
    "id": "wTL9qq8yOP-q"
   },
   "source": [
    "### Assessing mode-shift in an intervention scenario\n",
    "\n",
    "Now let's use the above model to evaluate the change in mobility across 4 modes when we impose an intervention case - additional surcharge of $3 for taxi rides anywhere in the city. One can expect a decrease in ridership for taxis owing to this intervention but assessing the mode-shift would enable to see how exactly the trips would redistribute across the other modes.\n",
    "\n",
    "We will estimate the mode-shift numbers with respect to uncertainty by calculating the variance in trip numbers across all modes. This can be done by estimating variance of mode-shift numbers for lambdas drawn from posterior distribution, weighted by their likelihood values."
   ]
  },
  {
   "cell_type": "markdown",
   "metadata": {
    "id": "ebUGNowRrBjV"
   },
   "source": [
    "Now let's make another copy of data with the additional $3 surcharge to the taxi trips."
   ]
  },
  {
   "cell_type": "code",
   "execution_count": 15,
   "metadata": {
    "colab": {
     "base_uri": "https://localhost:8080/",
     "height": 204
    },
    "id": "FMEKoF2WmdF4",
    "outputId": "98d3d9b3-8505-4058-a336-a4e7307cfe4f"
   },
   "outputs": [
    {
     "data": {
      "text/html": [
       "<div>\n",
       "<style scoped>\n",
       "    .dataframe tbody tr th:only-of-type {\n",
       "        vertical-align: middle;\n",
       "    }\n",
       "\n",
       "    .dataframe tbody tr th {\n",
       "        vertical-align: top;\n",
       "    }\n",
       "\n",
       "    .dataframe thead th {\n",
       "        text-align: right;\n",
       "    }\n",
       "</style>\n",
       "<table border=\"1\" class=\"dataframe\">\n",
       "  <thead>\n",
       "    <tr style=\"text-align: right;\">\n",
       "      <th></th>\n",
       "      <th>pulocationid</th>\n",
       "      <th>dolocationid</th>\n",
       "      <th>tmode</th>\n",
       "      <th>duration</th>\n",
       "      <th>price</th>\n",
       "      <th>ridership</th>\n",
       "    </tr>\n",
       "  </thead>\n",
       "  <tbody>\n",
       "    <tr>\n",
       "      <th>0</th>\n",
       "      <td>3</td>\n",
       "      <td>7</td>\n",
       "      <td>8</td>\n",
       "      <td>0.653356</td>\n",
       "      <td>12.721600</td>\n",
       "      <td>736</td>\n",
       "    </tr>\n",
       "    <tr>\n",
       "      <th>1</th>\n",
       "      <td>3</td>\n",
       "      <td>7</td>\n",
       "      <td>3</td>\n",
       "      <td>0.798016</td>\n",
       "      <td>46.157143</td>\n",
       "      <td>0</td>\n",
       "    </tr>\n",
       "    <tr>\n",
       "      <th>2</th>\n",
       "      <td>3</td>\n",
       "      <td>18</td>\n",
       "      <td>3</td>\n",
       "      <td>0.254000</td>\n",
       "      <td>15.900000</td>\n",
       "      <td>1748</td>\n",
       "    </tr>\n",
       "    <tr>\n",
       "      <th>3</th>\n",
       "      <td>3</td>\n",
       "      <td>18</td>\n",
       "      <td>5</td>\n",
       "      <td>1.084444</td>\n",
       "      <td>0.000000</td>\n",
       "      <td>3174</td>\n",
       "    </tr>\n",
       "    <tr>\n",
       "      <th>4</th>\n",
       "      <td>3</td>\n",
       "      <td>18</td>\n",
       "      <td>8</td>\n",
       "      <td>0.268923</td>\n",
       "      <td>7.432000</td>\n",
       "      <td>10879</td>\n",
       "    </tr>\n",
       "  </tbody>\n",
       "</table>\n",
       "</div>"
      ],
      "text/plain": [
       "   pulocationid  dolocationid  tmode  duration      price  ridership\n",
       "0             3             7      8  0.653356  12.721600        736\n",
       "1             3             7      3  0.798016  46.157143          0\n",
       "2             3            18      3  0.254000  15.900000       1748\n",
       "3             3            18      5  1.084444   0.000000       3174\n",
       "4             3            18      8  0.268923   7.432000      10879"
      ]
     },
     "execution_count": 15,
     "metadata": {
      "tags": []
     },
     "output_type": "execute_result"
    }
   ],
   "source": [
    "data1 = data.copy()  # make new df\n",
    "data1.loc[data1.tmode == 3, 'price'] = data1.loc[data1.tmode == 3, 'price'] + 3\n",
    "data1.head()"
   ]
  },
  {
   "cell_type": "markdown",
   "metadata": {
    "id": "at2R15lAhJNh"
   },
   "source": [
    "Let's run the model and estimate aggregate mode-shift across modes w.r.t. uncertainty."
   ]
  },
  {
   "cell_type": "code",
   "execution_count": 16,
   "metadata": {
    "id": "tRVeMDGjsFzB"
   },
   "outputs": [],
   "source": [
    "lambdas = np.random.choice(trace['lambda'], 10)  # draw samples from lambda posterior\n",
    "# this step could take ~15 mins for 100 samples, reduce the number of samples for faster\n",
    "\n",
    "likes = []   # likelihood values\n",
    "mobDiff = {2:[], 3:[], 5:[], 8:[]}   # mode-shift numbers\n",
    "\n",
    "# estimate trips for lambdas and corresponding likelihoods\n",
    "for l in lambdas:\n",
    "    tempMob_noInter = {2:0, 3:0, 5:0, 8:0}   \n",
    "    tempMob_Inter = {2:0, 3:0, 5:0, 8:0}\n",
    "    for o, d in zip(data[['pulocationid', 'dolocationid']].drop_duplicates()['pulocationid'], \n",
    "        data[['pulocationid', 'dolocationid']].drop_duplicates()['dolocationid']):\n",
    "    \n",
    "        odLoc_noInter = data[(data.pulocationid == o) & (data.dolocationid == d)]\n",
    "        odLoc_Inter = data1[(data1.pulocationid == o) & (data1.dolocationid == d)]  \n",
    "        modes = odLoc_Inter.tmode.values\n",
    "\n",
    "        # probabilities for pre-intervention and post-intervention\n",
    "        prob_noInter = MNL(l, odLoc_noInter)  \n",
    "        prob_Inter = MNL(l, odLoc_Inter)    \n",
    "\n",
    "        for index, mode in enumerate(modes):\n",
    "            tempMob_Inter[mode] = tempMob_Inter[mode] + prob_Inter[index]*np.sum(odLoc_noInter['ridership'])\n",
    "            tempMob_noInter[mode] = tempMob_noInter[mode] + prob_noInter[index]*np.sum(odLoc_Inter['ridership'])\n",
    "        \n",
    "    lhood = np.exp(like(l, return_prob=True))   # likelihood\n",
    "    for it in mobDiff.keys():\n",
    "        mobDiff[it].append(100.0 * tempMob_Inter[it] / tempMob_noInter[it] - 100.0)\n",
    "    likes.append(lhood)\n",
    "            # tempMob.update((x , y*l)for x, y in tempMob.items())"
   ]
  },
  {
   "cell_type": "code",
   "execution_count": 17,
   "metadata": {
    "colab": {
     "base_uri": "https://localhost:8080/"
    },
    "id": "6SxqcnRtd2C_",
    "outputId": "24ce82f9-718a-430f-b519-360ac0d5b7b1"
   },
   "outputs": [
    {
     "name": "stdout",
     "output_type": "stream",
     "text": [
      "average change for mode 2 : 2.666840071406824 , std: 1.3889803197270518\n",
      "average change for mode 3 : -44.48737254017398 , std: 5.609705449034866\n",
      "average change for mode 5 : 0.572600160672161 , std: 2.331862965937152\n",
      "average change for mode 8 : 3.4864252657548946 , std: 3.8455272046576012\n"
     ]
    }
   ],
   "source": [
    "# calculate average and std of mode-shift numbers\n",
    "\n",
    "for mode in mobDiff.keys():\n",
    "\n",
    "    mean = np.average(mobDiff[mode])\n",
    "    std = abs(np.average((mobDiff[mode] - np.mean(mobDiff[mode]))**2))\n",
    "    print('average change for mode', mode, ':', mean, ', std:', np.sqrt(std))"
   ]
  },
  {
   "cell_type": "code",
   "execution_count": null,
   "metadata": {
    "id": "qdqFbrTA90_Z"
   },
   "outputs": [],
   "source": []
  },
  {
   "cell_type": "markdown",
   "metadata": {},
   "source": [
    "## Custom Neural Network model for mode-choice probabilities\n",
    "\n",
    "Let's introduce a simulation based approach for individual choice probabilities. The Multinomial logit model above is based on having closed form solutions for mode probabilites. However not depending on that allow us to have further flexibility in choosing the modeling framework. \n",
    "\n",
    "Here, for each o-d pair we assess utility based on travel time and cost estimates as well as a random factor, representing individual preferences towards each mode as $U = -(\\beta * T*C + P) + \\epsilon$, where $\\beta$ is the rationality adjustment parameter for cost of time estimate (can be subject to fit), T is the travel time estimate, P is the travel fare/cost estimate and C is the adjustment for hourly income for NYC. The random error term $\\epsilon$ can be chosen to be additive or multiplicative. In case of multiplicative random term, we can transform the utilities in log scale as $ln(U) = -ln(\\beta * T*C + P) + \\epsilon$\n",
    "\n",
    "The mode-choice probabilities are then directly determined by the maximum utilities of 4 modes in question for a given o-d pair. \n",
    "\n",
    "Unlike the multinomial logit model setting, the model formulation above might not have a closed-form analytic solution for the choice probabilities. Also, doing parameter estimation through simulations might be computationally costly. In order to streamline the computational process, we implement a neural network (NN) model fitting the mode-choice probabilities between the four transportation mode as the function of their utilities with model parameters.\n",
    "\n",
    "<img src=\"NN_t2.png\" width=\"500\">\n",
    "\n",
    "We'll simulate 50,000 random utilities to fit the NN, with the simulated utilities being the input to get probabilities as the outputs. The model architecture consists of three hidden layers with 8,12,8 neurons respectively, with a rectified linear unit (\"relu\") activation for hidden and sigmoid for the output layer trained on 'binary cross-entropy' objective function.\n",
    "\n",
    "Let's take the additive random term version as the utility formulation. $U = -(\\beta * T*C + P) + \\epsilon$, $\\epsilon ~ N(0, \\sigma^2)$\n",
    "\n",
    "We can then use this trained NN model for estimating mode-choice probabilities for the LEHD mobility data (calculating the mode utilities for each o-d) instead of using simulations or explicit analytic formulas."
   ]
  },
  {
   "cell_type": "code",
   "execution_count": 316,
   "metadata": {},
   "outputs": [],
   "source": [
    "import numpy as np\n",
    "import pandas as pd\n",
    "from scipy.stats import norm\n",
    "from keras.losses import kullback_leibler_divergence\n",
    "from keras.models import Sequential\n",
    "from keras.layers import Dense\n",
    "from scipy.stats import multivariate_normal\n",
    "from sklearn.metrics import mean_squared_error\n",
    "from numpy import nan\n",
    "\n",
    "import time"
   ]
  },
  {
   "cell_type": "code",
   "execution_count": 114,
   "metadata": {},
   "outputs": [],
   "source": [
    "class TimeTracker(object): #time tracking\n",
    "    startTime={}\n",
    "    totalTime={}\n",
    "    def startActivity(self,actID):\n",
    "        self.startTime[actID] = time.time()\n",
    "        if actID not in self.totalTime.keys():\n",
    "            self.totalTime[actID] = 0\n",
    "    def stopActivity(self,actID):\n",
    "        self.totalTime[actID]+=time.time()-self.startTime[actID]\n",
    "    def reportActivity(self,actID):\n",
    "        print('Elapsed time for activity {}={}'.format(actID, self.totalTime[actID]))\n",
    "    def reportTotal(self):\n",
    "        for actID in self.totalTime.keys():\n",
    "            self.reportActivity(actID)\n",
    "\n",
    "TimeTrack=TimeTracker()"
   ]
  },
  {
   "cell_type": "code",
   "execution_count": 176,
   "metadata": {},
   "outputs": [],
   "source": [
    "#function simulated choices probabilities\n",
    "def simChoice(u, n, sigma=1, distr='normal', MNcov=None):\n",
    "    #u - average utilities\n",
    "    #sigma - random component std\n",
    "    #n - number of simulations\n",
    "    N = len(u) #number of choices\n",
    "    if distr == 'normal':\n",
    "        e = np.random.normal(loc=0, scale=sigma, size=(n,N))\n",
    "    elif distr == 'gumbel':\n",
    "        e = np.random.gumbel(loc=0, scale=sigma, size=(n,N))\n",
    "    elif distr == 'multinormal':\n",
    "        e = multivariate_normal.rvs(mean=np.zeros(N), cov=MNcov, size=n)\n",
    "\n",
    "    u0 = 0\n",
    "    usim = u+e #simulated utilities\n",
    "    ch = np.argmax(usim, axis=1) #choices\n",
    "    p = np.bincount (ch, minlength=N) #choice counts\n",
    "    p = 1. * p / sum(p) #choice probabilities\n",
    "    return p\n",
    "\n",
    "#simulate sampleN random utility vectors for N modes\n",
    "def randomU(N=3, sampleN=1000, sigmaU=1):\n",
    "    u=np.random.normal(loc=0,scale=sigmaU,size=(sampleN,N))\n",
    "    \n",
    "    return u\n",
    "\n",
    "# NN fitting\n",
    "def fitNN(N=3, sampleN=1000, sigmaU=1,NNarch=[8,12,8], simSampleN=10000, epochs=300):\n",
    "    u=randomU(N=N, sampleN=sampleN, sigmaU=sigmaU)\n",
    "\n",
    "    p = np.array([simChoice(u[s,:], n=simSampleN) for s in range(sampleN)])\n",
    "    print(u.shape[1], p.shape[1])\n",
    "\n",
    "    model = Sequential()\n",
    "    model.add(Dense(NNarch[0], input_dim=u.shape[1], activation='relu'))\n",
    "    for l in range(1,len(NNarch)):\n",
    "        model.add(Dense(NNarch[l], activation='relu'))\n",
    "    model.add(Dense(p.shape[1], activation='sigmoid'))\n",
    "    model.compile(loss='binary_crossentropy', optimizer='adam', metrics=['MSE', kullback_leibler_divergence])\n",
    "    model.fit(u, p, epochs=epochs, batch_size=50)\n",
    "    return model"
   ]
  },
  {
   "cell_type": "code",
   "execution_count": 178,
   "metadata": {
    "scrolled": true
   },
   "outputs": [
    {
     "name": "stdout",
     "output_type": "stream",
     "text": [
      "4 4\n",
      "Epoch 1/300\n",
      "200/200 [==============================] - 0s 1ms/step - loss: 0.4983 - MSE: 0.0302 - kullback_leibler_divergence: 0.0863\n",
      "Epoch 2/300\n",
      "200/200 [==============================] - 0s 1ms/step - loss: 0.4202 - MSE: 7.8909e-04 - kullback_leibler_divergence: 3.5956e-04\n",
      "Epoch 3/300\n",
      "200/200 [==============================] - 0s 1ms/step - loss: 0.4190 - MSE: 3.7632e-04 - kullback_leibler_divergence: 0.0013\n",
      "Epoch 4/300\n",
      "200/200 [==============================] - 0s 1ms/step - loss: 0.4186 - MSE: 2.4381e-04 - kullback_leibler_divergence: 0.0016\n",
      "Epoch 5/300\n",
      "200/200 [==============================] - 0s 1ms/step - loss: 0.4184 - MSE: 1.8519e-04 - kullback_leibler_divergence: 0.0015\n",
      "Epoch 6/300\n",
      "200/200 [==============================] - 0s 1ms/step - loss: 0.4183 - MSE: 1.5575e-04 - kullback_leibler_divergence: 0.0014\n",
      "Epoch 7/300\n",
      "200/200 [==============================] - 0s 1ms/step - loss: 0.4183 - MSE: 1.3278e-04 - kullback_leibler_divergence: 0.0012\n",
      "Epoch 8/300\n",
      "200/200 [==============================] - 0s 2ms/step - loss: 0.4182 - MSE: 1.0913e-04 - kullback_leibler_divergence: 0.0012\n",
      "Epoch 9/300\n",
      "200/200 [==============================] - 0s 1ms/step - loss: 0.4181 - MSE: 9.4956e-05 - kullback_leibler_divergence: 0.0011\n",
      "Epoch 10/300\n",
      "200/200 [==============================] - 0s 1ms/step - loss: 0.4181 - MSE: 8.6155e-05 - kullback_leibler_divergence: 9.5556e-04\n",
      "Epoch 11/300\n",
      "200/200 [==============================] - 0s 2ms/step - loss: 0.4181 - MSE: 7.3863e-05 - kullback_leibler_divergence: 9.1042e-04\n",
      "Epoch 12/300\n",
      "200/200 [==============================] - 0s 1ms/step - loss: 0.4180 - MSE: 6.6716e-05 - kullback_leibler_divergence: 8.3737e-04\n",
      "Epoch 13/300\n",
      "200/200 [==============================] - 0s 2ms/step - loss: 0.4180 - MSE: 6.2830e-05 - kullback_leibler_divergence: 8.1385e-04\n",
      "Epoch 14/300\n",
      "200/200 [==============================] - 0s 1ms/step - loss: 0.4180 - MSE: 5.4457e-05 - kullback_leibler_divergence: 6.1314e-04\n",
      "Epoch 15/300\n",
      "200/200 [==============================] - 0s 1ms/step - loss: 0.4180 - MSE: 5.1625e-05 - kullback_leibler_divergence: 6.7059e-04\n",
      "Epoch 16/300\n",
      "200/200 [==============================] - 0s 1ms/step - loss: 0.4180 - MSE: 4.7180e-05 - kullback_leibler_divergence: 5.4018e-04\n",
      "Epoch 17/300\n",
      "200/200 [==============================] - 0s 1ms/step - loss: 0.4179 - MSE: 4.4647e-05 - kullback_leibler_divergence: 5.9237e-04\n",
      "Epoch 18/300\n",
      "200/200 [==============================] - 0s 1ms/step - loss: 0.4179 - MSE: 4.2657e-05 - kullback_leibler_divergence: 4.9999e-04\n",
      "Epoch 19/300\n",
      "200/200 [==============================] - 0s 1ms/step - loss: 0.4179 - MSE: 3.9623e-05 - kullback_leibler_divergence: 4.5694e-04\n",
      "Epoch 20/300\n",
      "200/200 [==============================] - 0s 1ms/step - loss: 0.4179 - MSE: 3.9112e-05 - kullback_leibler_divergence: 4.2040e-04\n",
      "Epoch 21/300\n",
      "200/200 [==============================] - 0s 1ms/step - loss: 0.4179 - MSE: 3.8181e-05 - kullback_leibler_divergence: 3.9152e-04\n",
      "Epoch 22/300\n",
      "200/200 [==============================] - 0s 1ms/step - loss: 0.4179 - MSE: 3.3735e-05 - kullback_leibler_divergence: 3.8769e-04\n",
      "Epoch 23/300\n",
      "200/200 [==============================] - 0s 1ms/step - loss: 0.4179 - MSE: 3.2471e-05 - kullback_leibler_divergence: 3.5459e-04\n",
      "Epoch 24/300\n",
      "200/200 [==============================] - 0s 1ms/step - loss: 0.4179 - MSE: 2.9539e-05 - kullback_leibler_divergence: 3.2627e-04\n",
      "Epoch 25/300\n",
      "200/200 [==============================] - 0s 1ms/step - loss: 0.4179 - MSE: 3.0196e-05 - kullback_leibler_divergence: 2.5999e-04\n",
      "Epoch 26/300\n",
      "200/200 [==============================] - 0s 1ms/step - loss: 0.4179 - MSE: 3.1713e-05 - kullback_leibler_divergence: 3.1164e-04\n",
      "Epoch 27/300\n",
      "200/200 [==============================] - 0s 2ms/step - loss: 0.4179 - MSE: 2.6596e-05 - kullback_leibler_divergence: 2.7852e-04\n",
      "Epoch 28/300\n",
      "200/200 [==============================] - 0s 1ms/step - loss: 0.4179 - MSE: 2.8259e-05 - kullback_leibler_divergence: 2.6875e-04\n",
      "Epoch 29/300\n",
      "200/200 [==============================] - 0s 1ms/step - loss: 0.4179 - MSE: 2.6541e-05 - kullback_leibler_divergence: 2.6613e-04\n",
      "Epoch 30/300\n",
      "200/200 [==============================] - 0s 1ms/step - loss: 0.4179 - MSE: 2.4626e-05 - kullback_leibler_divergence: 2.1359e-04\n",
      "Epoch 31/300\n",
      "200/200 [==============================] - 1s 3ms/step - loss: 0.4179 - MSE: 2.4108e-05 - kullback_leibler_divergence: 2.3703e-04\n",
      "Epoch 32/300\n",
      "200/200 [==============================] - 0s 2ms/step - loss: 0.4179 - MSE: 2.4375e-05 - kullback_leibler_divergence: 2.3059e-04\n",
      "Epoch 33/300\n",
      "200/200 [==============================] - 0s 1ms/step - loss: 0.4179 - MSE: 2.3994e-05 - kullback_leibler_divergence: 2.3596e-04\n",
      "Epoch 34/300\n",
      "200/200 [==============================] - 0s 1ms/step - loss: 0.4179 - MSE: 2.4565e-05 - kullback_leibler_divergence: 2.3489e-04\n",
      "Epoch 35/300\n",
      "200/200 [==============================] - 0s 1ms/step - loss: 0.4179 - MSE: 2.1857e-05 - kullback_leibler_divergence: 1.8439e-04\n",
      "Epoch 36/300\n",
      "200/200 [==============================] - 0s 2ms/step - loss: 0.4179 - MSE: 2.0812e-05 - kullback_leibler_divergence: 2.2327e-04\n",
      "Epoch 37/300\n",
      "200/200 [==============================] - 0s 2ms/step - loss: 0.4179 - MSE: 2.0524e-05 - kullback_leibler_divergence: 2.0077e-04\n",
      "Epoch 38/300\n",
      "200/200 [==============================] - 0s 2ms/step - loss: 0.4179 - MSE: 2.1806e-05 - kullback_leibler_divergence: 2.0392e-04\n",
      "Epoch 39/300\n",
      "200/200 [==============================] - 0s 1ms/step - loss: 0.4178 - MSE: 1.9991e-05 - kullback_leibler_divergence: 1.8611e-04\n",
      "Epoch 40/300\n",
      "200/200 [==============================] - 0s 1ms/step - loss: 0.4179 - MSE: 2.1274e-05 - kullback_leibler_divergence: 2.2803e-04\n",
      "Epoch 41/300\n",
      "200/200 [==============================] - 0s 1ms/step - loss: 0.4178 - MSE: 1.8400e-05 - kullback_leibler_divergence: 1.6835e-04\n",
      "Epoch 42/300\n",
      "200/200 [==============================] - 0s 2ms/step - loss: 0.4179 - MSE: 2.1708e-05 - kullback_leibler_divergence: 1.9317e-04\n",
      "Epoch 43/300\n",
      "200/200 [==============================] - 0s 1ms/step - loss: 0.4178 - MSE: 2.0676e-05 - kullback_leibler_divergence: 2.0599e-04\n",
      "Epoch 44/300\n",
      "200/200 [==============================] - 0s 1ms/step - loss: 0.4178 - MSE: 2.0562e-05 - kullback_leibler_divergence: 1.9071e-04\n",
      "Epoch 45/300\n",
      "200/200 [==============================] - 0s 1ms/step - loss: 0.4178 - MSE: 1.7911e-05 - kullback_leibler_divergence: 1.6219e-04\n",
      "Epoch 46/300\n",
      "200/200 [==============================] - 0s 1ms/step - loss: 0.4178 - MSE: 1.8393e-05 - kullback_leibler_divergence: 1.9042e-04\n",
      "Epoch 47/300\n",
      "200/200 [==============================] - 0s 1ms/step - loss: 0.4178 - MSE: 1.9170e-05 - kullback_leibler_divergence: 1.9704e-04\n",
      "Epoch 48/300\n",
      "200/200 [==============================] - 0s 1ms/step - loss: 0.4178 - MSE: 1.9620e-05 - kullback_leibler_divergence: 1.8419e-04\n",
      "Epoch 49/300\n",
      "200/200 [==============================] - 0s 2ms/step - loss: 0.4178 - MSE: 1.6833e-05 - kullback_leibler_divergence: 1.6425e-04\n",
      "Epoch 50/300\n",
      "200/200 [==============================] - 0s 1ms/step - loss: 0.4178 - MSE: 1.8537e-05 - kullback_leibler_divergence: 1.4751e-04\n",
      "Epoch 51/300\n",
      "200/200 [==============================] - 0s 2ms/step - loss: 0.4178 - MSE: 1.9268e-05 - kullback_leibler_divergence: 2.0618e-04\n",
      "Epoch 52/300\n",
      "200/200 [==============================] - 0s 1ms/step - loss: 0.4178 - MSE: 1.7843e-05 - kullback_leibler_divergence: 1.6252e-04\n",
      "Epoch 53/300\n",
      "200/200 [==============================] - 1s 3ms/step - loss: 0.4178 - MSE: 1.6469e-05 - kullback_leibler_divergence: 1.8530e-04\n",
      "Epoch 54/300\n",
      "200/200 [==============================] - 0s 2ms/step - loss: 0.4178 - MSE: 1.8230e-05 - kullback_leibler_divergence: 1.3679e-04\n",
      "Epoch 55/300\n",
      "200/200 [==============================] - 0s 2ms/step - loss: 0.4178 - MSE: 1.6610e-05 - kullback_leibler_divergence: 1.6582e-04\n",
      "Epoch 56/300\n",
      "200/200 [==============================] - 0s 2ms/step - loss: 0.4178 - MSE: 1.6818e-05 - kullback_leibler_divergence: 1.3926e-04\n",
      "Epoch 57/300\n",
      "200/200 [==============================] - 0s 2ms/step - loss: 0.4178 - MSE: 1.7129e-05 - kullback_leibler_divergence: 1.7110e-04\n",
      "Epoch 58/300\n",
      "200/200 [==============================] - 0s 2ms/step - loss: 0.4178 - MSE: 1.5930e-05 - kullback_leibler_divergence: 1.4844e-04\n",
      "Epoch 59/300\n",
      "200/200 [==============================] - 0s 2ms/step - loss: 0.4178 - MSE: 1.5477e-05 - kullback_leibler_divergence: 1.6230e-04\n",
      "Epoch 60/300\n",
      "200/200 [==============================] - 0s 2ms/step - loss: 0.4178 - MSE: 1.5368e-05 - kullback_leibler_divergence: 1.3292e-04\n",
      "Epoch 61/300\n",
      "200/200 [==============================] - 0s 2ms/step - loss: 0.4178 - MSE: 1.5689e-05 - kullback_leibler_divergence: 1.5459e-04\n",
      "Epoch 62/300\n",
      "200/200 [==============================] - 0s 2ms/step - loss: 0.4178 - MSE: 1.5388e-05 - kullback_leibler_divergence: 1.6797e-04\n",
      "Epoch 63/300\n",
      "200/200 [==============================] - 0s 2ms/step - loss: 0.4178 - MSE: 1.5756e-05 - kullback_leibler_divergence: 1.4156e-04\n",
      "Epoch 64/300\n",
      "200/200 [==============================] - 0s 1ms/step - loss: 0.4178 - MSE: 1.6154e-05 - kullback_leibler_divergence: 1.3360e-04\n",
      "Epoch 65/300\n",
      "200/200 [==============================] - 0s 1ms/step - loss: 0.4178 - MSE: 2.0418e-05 - kullback_leibler_divergence: 2.0438e-04\n",
      "Epoch 66/300\n",
      "200/200 [==============================] - 0s 1ms/step - loss: 0.4178 - MSE: 1.6053e-05 - kullback_leibler_divergence: 7.9728e-05\n",
      "Epoch 67/300\n",
      "200/200 [==============================] - 0s 1ms/step - loss: 0.4178 - MSE: 1.5241e-05 - kullback_leibler_divergence: 1.6610e-04A: 0s - loss: 0.4178 - MSE: 1.5226e-05 - kullback_leibler_divergence: 1.7273e-0\n",
      "Epoch 68/300\n",
      "200/200 [==============================] - 0s 2ms/step - loss: 0.4178 - MSE: 1.5975e-05 - kullback_leibler_divergence: 1.5087e-04\n",
      "Epoch 69/300\n",
      "200/200 [==============================] - 0s 1ms/step - loss: 0.4178 - MSE: 1.5019e-05 - kullback_leibler_divergence: 1.2516e-04\n",
      "Epoch 70/300\n",
      "200/200 [==============================] - 0s 2ms/step - loss: 0.4178 - MSE: 1.5788e-05 - kullback_leibler_divergence: 1.4652e-04\n",
      "Epoch 71/300\n",
      "200/200 [==============================] - 0s 2ms/step - loss: 0.4178 - MSE: 1.5926e-05 - kullback_leibler_divergence: 1.3093e-04\n",
      "Epoch 72/300\n",
      "200/200 [==============================] - 0s 2ms/step - loss: 0.4178 - MSE: 1.4258e-05 - kullback_leibler_divergence: 1.2965e-04\n",
      "Epoch 73/300\n",
      "200/200 [==============================] - 0s 1ms/step - loss: 0.4178 - MSE: 1.3548e-05 - kullback_leibler_divergence: 1.3648e-04\n",
      "Epoch 74/300\n",
      "200/200 [==============================] - 0s 1ms/step - loss: 0.4178 - MSE: 1.5494e-05 - kullback_leibler_divergence: 1.2859e-04\n",
      "Epoch 75/300\n",
      "200/200 [==============================] - 0s 2ms/step - loss: 0.4178 - MSE: 1.5643e-05 - kullback_leibler_divergence: 1.4481e-04\n",
      "Epoch 76/300\n",
      "200/200 [==============================] - 0s 1ms/step - loss: 0.4178 - MSE: 1.5557e-05 - kullback_leibler_divergence: 1.5160e-04\n",
      "Epoch 77/300\n",
      "200/200 [==============================] - 0s 1ms/step - loss: 0.4178 - MSE: 1.4634e-05 - kullback_leibler_divergence: 1.1550e-04\n",
      "Epoch 78/300\n",
      "200/200 [==============================] - 0s 2ms/step - loss: 0.4178 - MSE: 1.4222e-05 - kullback_leibler_divergence: 1.5319e-04\n",
      "Epoch 79/300\n",
      "200/200 [==============================] - 0s 2ms/step - loss: 0.4178 - MSE: 1.6150e-05 - kullback_leibler_divergence: 1.2243e-04\n",
      "Epoch 80/300\n",
      "200/200 [==============================] - 0s 2ms/step - loss: 0.4178 - MSE: 1.4414e-05 - kullback_leibler_divergence: 1.4980e-04A: 0s - loss: 0.4177 - MSE: 1.4356e-05 - kullback_leibler_divergence: 1.3402e-0\n",
      "Epoch 81/300\n",
      "200/200 [==============================] - 0s 2ms/step - loss: 0.4178 - MSE: 1.4652e-05 - kullback_leibler_divergence: 9.7224e-05\n",
      "Epoch 82/300\n",
      "200/200 [==============================] - 0s 1ms/step - loss: 0.4178 - MSE: 1.2973e-05 - kullback_leibler_divergence: 1.2303e-04\n",
      "Epoch 83/300\n",
      "200/200 [==============================] - 0s 2ms/step - loss: 0.4178 - MSE: 1.3539e-05 - kullback_leibler_divergence: 1.3988e-04\n",
      "Epoch 84/300\n",
      "200/200 [==============================] - 0s 1ms/step - loss: 0.4178 - MSE: 1.3963e-05 - kullback_leibler_divergence: 1.1216e-04\n",
      "Epoch 85/300\n",
      "200/200 [==============================] - 0s 2ms/step - loss: 0.4178 - MSE: 1.4433e-05 - kullback_leibler_divergence: 1.0189e-04\n",
      "Epoch 86/300\n",
      "200/200 [==============================] - 0s 2ms/step - loss: 0.4178 - MSE: 1.4857e-05 - kullback_leibler_divergence: 1.6321e-04\n",
      "Epoch 87/300\n",
      "200/200 [==============================] - 0s 1ms/step - loss: 0.4178 - MSE: 1.5308e-05 - kullback_leibler_divergence: 1.4757e-04\n",
      "Epoch 88/300\n",
      "200/200 [==============================] - 0s 1ms/step - loss: 0.4178 - MSE: 1.3693e-05 - kullback_leibler_divergence: 9.7026e-05\n",
      "Epoch 89/300\n",
      "200/200 [==============================] - 0s 2ms/step - loss: 0.4178 - MSE: 1.3181e-05 - kullback_leibler_divergence: 1.1574e-04\n",
      "Epoch 90/300\n",
      "200/200 [==============================] - 0s 1ms/step - loss: 0.4178 - MSE: 1.7333e-05 - kullback_leibler_divergence: 1.4928e-04\n",
      "Epoch 91/300\n",
      "200/200 [==============================] - 0s 2ms/step - loss: 0.4178 - MSE: 1.4498e-05 - kullback_leibler_divergence: 1.1562e-04\n",
      "Epoch 92/300\n",
      "200/200 [==============================] - 0s 2ms/step - loss: 0.4178 - MSE: 1.2886e-05 - kullback_leibler_divergence: 1.2530e-04\n",
      "Epoch 93/300\n",
      "200/200 [==============================] - 0s 2ms/step - loss: 0.4178 - MSE: 1.2584e-05 - kullback_leibler_divergence: 1.2011e-04\n",
      "Epoch 94/300\n",
      "200/200 [==============================] - 0s 1ms/step - loss: 0.4178 - MSE: 1.1961e-05 - kullback_leibler_divergence: 8.7967e-05\n",
      "Epoch 95/300\n",
      "200/200 [==============================] - 0s 2ms/step - loss: 0.4178 - MSE: 1.3610e-05 - kullback_leibler_divergence: 1.2036e-04\n",
      "Epoch 96/300\n",
      "200/200 [==============================] - 0s 1ms/step - loss: 0.4178 - MSE: 1.4576e-05 - kullback_leibler_divergence: 1.3742e-04\n",
      "Epoch 97/300\n",
      "200/200 [==============================] - 0s 1ms/step - loss: 0.4178 - MSE: 1.2524e-05 - kullback_leibler_divergence: 1.1410e-04\n",
      "Epoch 98/300\n",
      "200/200 [==============================] - 0s 1ms/step - loss: 0.4178 - MSE: 1.3130e-05 - kullback_leibler_divergence: 1.0808e-04\n",
      "Epoch 99/300\n",
      "200/200 [==============================] - 0s 2ms/step - loss: 0.4178 - MSE: 1.3492e-05 - kullback_leibler_divergence: 1.4460e-04\n",
      "Epoch 100/300\n",
      "200/200 [==============================] - 0s 1ms/step - loss: 0.4178 - MSE: 1.2994e-05 - kullback_leibler_divergence: 1.0179e-04\n",
      "Epoch 101/300\n",
      "200/200 [==============================] - 0s 1ms/step - loss: 0.4178 - MSE: 1.2549e-05 - kullback_leibler_divergence: 1.0036e-04\n",
      "Epoch 102/300\n",
      "200/200 [==============================] - 0s 1ms/step - loss: 0.4178 - MSE: 1.4507e-05 - kullback_leibler_divergence: 1.3968e-04\n",
      "Epoch 103/300\n",
      "200/200 [==============================] - 0s 1ms/step - loss: 0.4178 - MSE: 1.4399e-05 - kullback_leibler_divergence: 9.6999e-05\n",
      "Epoch 104/300\n",
      "200/200 [==============================] - 0s 1ms/step - loss: 0.4178 - MSE: 1.2529e-05 - kullback_leibler_divergence: 1.1426e-04\n",
      "Epoch 105/300\n",
      "200/200 [==============================] - 0s 2ms/step - loss: 0.4178 - MSE: 1.3364e-05 - kullback_leibler_divergence: 1.1554e-04\n",
      "Epoch 106/300\n",
      "200/200 [==============================] - 0s 2ms/step - loss: 0.4178 - MSE: 1.3307e-05 - kullback_leibler_divergence: 1.3255e-04\n",
      "Epoch 107/300\n",
      "200/200 [==============================] - 0s 2ms/step - loss: 0.4178 - MSE: 1.2443e-05 - kullback_leibler_divergence: 9.8496e-05\n",
      "Epoch 108/300\n",
      "200/200 [==============================] - 0s 1ms/step - loss: 0.4178 - MSE: 1.3874e-05 - kullback_leibler_divergence: 1.4735e-04\n",
      "Epoch 109/300\n",
      "200/200 [==============================] - 0s 1ms/step - loss: 0.4178 - MSE: 1.4023e-05 - kullback_leibler_divergence: 8.1574e-05\n",
      "Epoch 110/300\n",
      "200/200 [==============================] - 0s 1ms/step - loss: 0.4178 - MSE: 1.2671e-05 - kullback_leibler_divergence: 1.4040e-04\n",
      "Epoch 111/300\n",
      "200/200 [==============================] - 0s 1ms/step - loss: 0.4178 - MSE: 1.2460e-05 - kullback_leibler_divergence: 9.9152e-05\n",
      "Epoch 112/300\n",
      "200/200 [==============================] - 0s 1ms/step - loss: 0.4178 - MSE: 1.2344e-05 - kullback_leibler_divergence: 8.9437e-05\n",
      "Epoch 113/300\n",
      "200/200 [==============================] - 0s 1ms/step - loss: 0.4178 - MSE: 1.3329e-05 - kullback_leibler_divergence: 1.2488e-04\n",
      "Epoch 114/300\n"
     ]
    },
    {
     "name": "stdout",
     "output_type": "stream",
     "text": [
      "200/200 [==============================] - 0s 1ms/step - loss: 0.4178 - MSE: 1.1304e-05 - kullback_leibler_divergence: 9.6512e-05\n",
      "Epoch 115/300\n",
      "200/200 [==============================] - 0s 1ms/step - loss: 0.4178 - MSE: 1.3613e-05 - kullback_leibler_divergence: 1.1107e-04\n",
      "Epoch 116/300\n",
      "200/200 [==============================] - 0s 2ms/step - loss: 0.4178 - MSE: 1.2011e-05 - kullback_leibler_divergence: 1.3943e-04\n",
      "Epoch 117/300\n",
      "200/200 [==============================] - 0s 1ms/step - loss: 0.4178 - MSE: 1.2418e-05 - kullback_leibler_divergence: 7.7684e-05\n",
      "Epoch 118/300\n",
      "200/200 [==============================] - 0s 1ms/step - loss: 0.4178 - MSE: 1.1696e-05 - kullback_leibler_divergence: 1.0190e-04\n",
      "Epoch 119/300\n",
      "200/200 [==============================] - 0s 1ms/step - loss: 0.4178 - MSE: 1.3001e-05 - kullback_leibler_divergence: 1.0718e-04\n",
      "Epoch 120/300\n",
      "200/200 [==============================] - 0s 1ms/step - loss: 0.4178 - MSE: 1.3153e-05 - kullback_leibler_divergence: 1.1527e-04\n",
      "Epoch 121/300\n",
      "200/200 [==============================] - 0s 1ms/step - loss: 0.4178 - MSE: 1.3838e-05 - kullback_leibler_divergence: 1.0107e-04\n",
      "Epoch 122/300\n",
      "200/200 [==============================] - 0s 1ms/step - loss: 0.4178 - MSE: 1.2740e-05 - kullback_leibler_divergence: 1.3362e-04\n",
      "Epoch 123/300\n",
      "200/200 [==============================] - 0s 2ms/step - loss: 0.4178 - MSE: 1.2569e-05 - kullback_leibler_divergence: 9.4874e-05\n",
      "Epoch 124/300\n",
      "200/200 [==============================] - 0s 1ms/step - loss: 0.4178 - MSE: 1.2825e-05 - kullback_leibler_divergence: 1.3236e-04\n",
      "Epoch 125/300\n",
      "200/200 [==============================] - 0s 1ms/step - loss: 0.4178 - MSE: 1.3918e-05 - kullback_leibler_divergence: 1.0006e-04\n",
      "Epoch 126/300\n",
      "200/200 [==============================] - 0s 1ms/step - loss: 0.4178 - MSE: 1.1852e-05 - kullback_leibler_divergence: 8.4831e-05\n",
      "Epoch 127/300\n",
      "200/200 [==============================] - 0s 1ms/step - loss: 0.4178 - MSE: 1.3238e-05 - kullback_leibler_divergence: 1.2528e-04\n",
      "Epoch 128/300\n",
      "200/200 [==============================] - 0s 1ms/step - loss: 0.4178 - MSE: 1.2759e-05 - kullback_leibler_divergence: 1.2080e-04\n",
      "Epoch 129/300\n",
      "200/200 [==============================] - 0s 1ms/step - loss: 0.4178 - MSE: 1.1241e-05 - kullback_leibler_divergence: 6.6237e-05\n",
      "Epoch 130/300\n",
      "200/200 [==============================] - 0s 1ms/step - loss: 0.4178 - MSE: 1.2672e-05 - kullback_leibler_divergence: 1.2121e-04\n",
      "Epoch 131/300\n",
      "200/200 [==============================] - 0s 1ms/step - loss: 0.4178 - MSE: 1.2424e-05 - kullback_leibler_divergence: 1.1651e-04\n",
      "Epoch 132/300\n",
      "200/200 [==============================] - 0s 1ms/step - loss: 0.4178 - MSE: 1.1857e-05 - kullback_leibler_divergence: 1.0629e-04\n",
      "Epoch 133/300\n",
      "200/200 [==============================] - 0s 1ms/step - loss: 0.4178 - MSE: 1.2061e-05 - kullback_leibler_divergence: 1.1446e-04\n",
      "Epoch 134/300\n",
      "200/200 [==============================] - 0s 1ms/step - loss: 0.4178 - MSE: 1.2676e-05 - kullback_leibler_divergence: 9.0076e-05\n",
      "Epoch 135/300\n",
      "200/200 [==============================] - 0s 1ms/step - loss: 0.4178 - MSE: 1.3025e-05 - kullback_leibler_divergence: 1.1350e-04\n",
      "Epoch 136/300\n",
      "200/200 [==============================] - 0s 1ms/step - loss: 0.4178 - MSE: 1.0970e-05 - kullback_leibler_divergence: 8.6914e-05\n",
      "Epoch 137/300\n",
      "200/200 [==============================] - 0s 1ms/step - loss: 0.4178 - MSE: 1.2531e-05 - kullback_leibler_divergence: 1.2207e-04\n",
      "Epoch 138/300\n",
      "200/200 [==============================] - 0s 1ms/step - loss: 0.4178 - MSE: 1.2524e-05 - kullback_leibler_divergence: 8.8152e-05\n",
      "Epoch 139/300\n",
      "200/200 [==============================] - 0s 1ms/step - loss: 0.4178 - MSE: 1.2031e-05 - kullback_leibler_divergence: 1.1410e-04\n",
      "Epoch 140/300\n",
      "200/200 [==============================] - 0s 1ms/step - loss: 0.4178 - MSE: 1.3103e-05 - kullback_leibler_divergence: 1.1239e-04\n",
      "Epoch 141/300\n",
      "200/200 [==============================] - 0s 1ms/step - loss: 0.4178 - MSE: 1.2017e-05 - kullback_leibler_divergence: 9.5932e-05\n",
      "Epoch 142/300\n",
      "200/200 [==============================] - 0s 1ms/step - loss: 0.4178 - MSE: 1.4162e-05 - kullback_leibler_divergence: 1.0120e-04\n",
      "Epoch 143/300\n",
      "200/200 [==============================] - 0s 1ms/step - loss: 0.4178 - MSE: 1.1436e-05 - kullback_leibler_divergence: 1.3839e-04\n",
      "Epoch 144/300\n",
      "200/200 [==============================] - 0s 1ms/step - loss: 0.4178 - MSE: 1.2867e-05 - kullback_leibler_divergence: 7.6328e-05\n",
      "Epoch 145/300\n",
      "200/200 [==============================] - 0s 2ms/step - loss: 0.4178 - MSE: 1.0173e-05 - kullback_leibler_divergence: 8.9049e-05\n",
      "Epoch 146/300\n",
      "200/200 [==============================] - 0s 1ms/step - loss: 0.4178 - MSE: 1.1582e-05 - kullback_leibler_divergence: 1.0844e-04\n",
      "Epoch 147/300\n",
      "200/200 [==============================] - 0s 1ms/step - loss: 0.4178 - MSE: 1.2222e-05 - kullback_leibler_divergence: 7.6522e-05\n",
      "Epoch 148/300\n",
      "200/200 [==============================] - 0s 1ms/step - loss: 0.4178 - MSE: 1.1573e-05 - kullback_leibler_divergence: 9.6933e-05\n",
      "Epoch 149/300\n",
      "200/200 [==============================] - 0s 1ms/step - loss: 0.4178 - MSE: 1.1747e-05 - kullback_leibler_divergence: 1.2093e-04\n",
      "Epoch 150/300\n",
      "200/200 [==============================] - 0s 1ms/step - loss: 0.4178 - MSE: 1.1895e-05 - kullback_leibler_divergence: 8.5282e-05\n",
      "Epoch 151/300\n",
      "200/200 [==============================] - 0s 1ms/step - loss: 0.4178 - MSE: 1.1421e-05 - kullback_leibler_divergence: 1.0885e-04\n",
      "Epoch 152/300\n",
      "200/200 [==============================] - 0s 2ms/step - loss: 0.4178 - MSE: 1.0753e-05 - kullback_leibler_divergence: 9.4973e-05\n",
      "Epoch 153/300\n",
      "200/200 [==============================] - 0s 1ms/step - loss: 0.4178 - MSE: 1.2032e-05 - kullback_leibler_divergence: 9.1437e-05\n",
      "Epoch 154/300\n",
      "200/200 [==============================] - 0s 1ms/step - loss: 0.4178 - MSE: 1.1685e-05 - kullback_leibler_divergence: 1.1699e-04\n",
      "Epoch 155/300\n",
      "200/200 [==============================] - 0s 1ms/step - loss: 0.4178 - MSE: 1.1869e-05 - kullback_leibler_divergence: 9.1449e-05\n",
      "Epoch 156/300\n",
      "200/200 [==============================] - 0s 1ms/step - loss: 0.4178 - MSE: 1.1291e-05 - kullback_leibler_divergence: 8.9451e-05\n",
      "Epoch 157/300\n",
      "200/200 [==============================] - 0s 1ms/step - loss: 0.4178 - MSE: 1.2043e-05 - kullback_leibler_divergence: 9.9297e-05\n",
      "Epoch 158/300\n",
      "200/200 [==============================] - 0s 2ms/step - loss: 0.4178 - MSE: 1.2346e-05 - kullback_leibler_divergence: 9.5689e-05\n",
      "Epoch 159/300\n",
      "200/200 [==============================] - 0s 2ms/step - loss: 0.4178 - MSE: 1.1255e-05 - kullback_leibler_divergence: 1.0406e-04\n",
      "Epoch 160/300\n",
      "200/200 [==============================] - 0s 1ms/step - loss: 0.4178 - MSE: 1.1742e-05 - kullback_leibler_divergence: 1.0182e-04\n",
      "Epoch 161/300\n",
      "200/200 [==============================] - 0s 1ms/step - loss: 0.4178 - MSE: 1.0428e-05 - kullback_leibler_divergence: 9.9598e-05\n",
      "Epoch 162/300\n",
      "200/200 [==============================] - 1s 3ms/step - loss: 0.4178 - MSE: 1.2113e-05 - kullback_leibler_divergence: 9.8009e-05\n",
      "Epoch 163/300\n",
      "200/200 [==============================] - 1s 3ms/step - loss: 0.4178 - MSE: 1.0637e-05 - kullback_leibler_divergence: 6.7215e-05\n",
      "Epoch 164/300\n",
      "200/200 [==============================] - 0s 2ms/step - loss: 0.4178 - MSE: 1.0775e-05 - kullback_leibler_divergence: 1.1370e-04\n",
      "Epoch 165/300\n",
      "200/200 [==============================] - 0s 1ms/step - loss: 0.4178 - MSE: 1.0381e-05 - kullback_leibler_divergence: 1.0145e-04\n",
      "Epoch 166/300\n",
      "200/200 [==============================] - 0s 1ms/step - loss: 0.4178 - MSE: 1.2591e-05 - kullback_leibler_divergence: 8.0421e-05\n",
      "Epoch 167/300\n",
      "200/200 [==============================] - 0s 2ms/step - loss: 0.4178 - MSE: 1.1270e-05 - kullback_leibler_divergence: 1.2941e-04\n",
      "Epoch 168/300\n",
      "200/200 [==============================] - 0s 1ms/step - loss: 0.4178 - MSE: 1.1922e-05 - kullback_leibler_divergence: 8.7856e-05\n",
      "Epoch 169/300\n",
      "200/200 [==============================] - 0s 1ms/step - loss: 0.4178 - MSE: 1.1046e-05 - kullback_leibler_divergence: 7.1261e-05\n",
      "Epoch 170/300\n",
      "200/200 [==============================] - 0s 1ms/step - loss: 0.4178 - MSE: 1.1312e-05 - kullback_leibler_divergence: 1.1163e-04\n"
     ]
    },
    {
     "name": "stdout",
     "output_type": "stream",
     "text": [
      "Epoch 171/300\n",
      "200/200 [==============================] - 0s 1ms/step - loss: 0.4178 - MSE: 1.1366e-05 - kullback_leibler_divergence: 9.1404e-05\n",
      "Epoch 172/300\n",
      "200/200 [==============================] - 0s 1ms/step - loss: 0.4178 - MSE: 1.1304e-05 - kullback_leibler_divergence: 1.0511e-04\n",
      "Epoch 173/300\n",
      "200/200 [==============================] - 0s 1ms/step - loss: 0.4178 - MSE: 1.1603e-05 - kullback_leibler_divergence: 9.6680e-05\n",
      "Epoch 174/300\n",
      "200/200 [==============================] - 0s 1ms/step - loss: 0.4178 - MSE: 1.1525e-05 - kullback_leibler_divergence: 9.1267e-05\n",
      "Epoch 175/300\n",
      "200/200 [==============================] - 0s 1ms/step - loss: 0.4178 - MSE: 1.1197e-05 - kullback_leibler_divergence: 9.2386e-05\n",
      "Epoch 176/300\n",
      "200/200 [==============================] - 0s 1ms/step - loss: 0.4178 - MSE: 1.0327e-05 - kullback_leibler_divergence: 7.5899e-05\n",
      "Epoch 177/300\n",
      "200/200 [==============================] - 0s 1ms/step - loss: 0.4178 - MSE: 1.0223e-05 - kullback_leibler_divergence: 1.0967e-04\n",
      "Epoch 178/300\n",
      "200/200 [==============================] - 0s 1ms/step - loss: 0.4178 - MSE: 1.4529e-05 - kullback_leibler_divergence: 7.5128e-05\n",
      "Epoch 179/300\n",
      "200/200 [==============================] - 0s 1ms/step - loss: 0.4178 - MSE: 1.0236e-05 - kullback_leibler_divergence: 1.1155e-04\n",
      "Epoch 180/300\n",
      "200/200 [==============================] - 0s 1ms/step - loss: 0.4178 - MSE: 1.0568e-05 - kullback_leibler_divergence: 1.0882e-04\n",
      "Epoch 181/300\n",
      "200/200 [==============================] - 0s 1ms/step - loss: 0.4178 - MSE: 1.1101e-05 - kullback_leibler_divergence: 8.5865e-05\n",
      "Epoch 182/300\n",
      "200/200 [==============================] - 0s 1ms/step - loss: 0.4178 - MSE: 1.1917e-05 - kullback_leibler_divergence: 8.8561e-05\n",
      "Epoch 183/300\n",
      "200/200 [==============================] - 0s 1ms/step - loss: 0.4178 - MSE: 1.1037e-05 - kullback_leibler_divergence: 1.0829e-04\n",
      "Epoch 184/300\n",
      "200/200 [==============================] - 0s 1ms/step - loss: 0.4178 - MSE: 1.0049e-05 - kullback_leibler_divergence: 7.2957e-05\n",
      "Epoch 185/300\n",
      "200/200 [==============================] - 0s 1ms/step - loss: 0.4178 - MSE: 9.7542e-06 - kullback_leibler_divergence: 8.8379e-05\n",
      "Epoch 186/300\n",
      "200/200 [==============================] - 0s 1ms/step - loss: 0.4178 - MSE: 1.1448e-05 - kullback_leibler_divergence: 1.1423e-04\n",
      "Epoch 187/300\n",
      "200/200 [==============================] - 0s 1ms/step - loss: 0.4178 - MSE: 1.0842e-05 - kullback_leibler_divergence: 8.9411e-05\n",
      "Epoch 188/300\n",
      "200/200 [==============================] - 0s 1ms/step - loss: 0.4178 - MSE: 1.1307e-05 - kullback_leibler_divergence: 7.1319e-05\n",
      "Epoch 189/300\n",
      "200/200 [==============================] - 0s 1ms/step - loss: 0.4178 - MSE: 1.0862e-05 - kullback_leibler_divergence: 9.7061e-05\n",
      "Epoch 190/300\n",
      "200/200 [==============================] - 0s 1ms/step - loss: 0.4178 - MSE: 1.2397e-05 - kullback_leibler_divergence: 9.5440e-05\n",
      "Epoch 191/300\n",
      "200/200 [==============================] - 0s 1ms/step - loss: 0.4178 - MSE: 1.0521e-05 - kullback_leibler_divergence: 9.4497e-05\n",
      "Epoch 192/300\n",
      "200/200 [==============================] - 0s 1ms/step - loss: 0.4178 - MSE: 1.0504e-05 - kullback_leibler_divergence: 8.4047e-05\n",
      "Epoch 193/300\n",
      "200/200 [==============================] - 0s 1ms/step - loss: 0.4178 - MSE: 9.2493e-06 - kullback_leibler_divergence: 1.1055e-04\n",
      "Epoch 194/300\n",
      "200/200 [==============================] - 0s 1ms/step - loss: 0.4178 - MSE: 1.1340e-05 - kullback_leibler_divergence: 1.0630e-04\n",
      "Epoch 195/300\n",
      "200/200 [==============================] - 0s 1ms/step - loss: 0.4178 - MSE: 1.0092e-05 - kullback_leibler_divergence: 7.0615e-05\n",
      "Epoch 196/300\n",
      "200/200 [==============================] - 0s 1ms/step - loss: 0.4178 - MSE: 9.8423e-06 - kullback_leibler_divergence: 8.4339e-05\n",
      "Epoch 197/300\n",
      "200/200 [==============================] - 0s 1ms/step - loss: 0.4178 - MSE: 1.1073e-05 - kullback_leibler_divergence: 9.9697e-05\n",
      "Epoch 198/300\n",
      "200/200 [==============================] - 0s 1ms/step - loss: 0.4178 - MSE: 1.1776e-05 - kullback_leibler_divergence: 1.0663e-04\n",
      "Epoch 199/300\n",
      "200/200 [==============================] - 0s 1ms/step - loss: 0.4178 - MSE: 1.2098e-05 - kullback_leibler_divergence: 7.1484e-05\n",
      "Epoch 200/300\n",
      "200/200 [==============================] - 0s 1ms/step - loss: 0.4178 - MSE: 1.0565e-05 - kullback_leibler_divergence: 9.3937e-05\n",
      "Epoch 201/300\n",
      "200/200 [==============================] - 0s 1ms/step - loss: 0.4178 - MSE: 1.0860e-05 - kullback_leibler_divergence: 1.0312e-04\n",
      "Epoch 202/300\n",
      "200/200 [==============================] - 0s 1ms/step - loss: 0.4178 - MSE: 1.0214e-05 - kullback_leibler_divergence: 8.9886e-05\n",
      "Epoch 203/300\n",
      "200/200 [==============================] - 0s 1ms/step - loss: 0.4178 - MSE: 1.0460e-05 - kullback_leibler_divergence: 7.6905e-05\n",
      "Epoch 204/300\n",
      "200/200 [==============================] - 0s 1ms/step - loss: 0.4178 - MSE: 9.6825e-06 - kullback_leibler_divergence: 1.0465e-04\n",
      "Epoch 205/300\n",
      "200/200 [==============================] - 0s 1ms/step - loss: 0.4178 - MSE: 1.0813e-05 - kullback_leibler_divergence: 9.9160e-05\n",
      "Epoch 206/300\n",
      "200/200 [==============================] - 0s 1ms/step - loss: 0.4178 - MSE: 1.0171e-05 - kullback_leibler_divergence: 8.8169e-05\n",
      "Epoch 207/300\n",
      "200/200 [==============================] - 0s 1ms/step - loss: 0.4178 - MSE: 1.0725e-05 - kullback_leibler_divergence: 7.3117e-05\n",
      "Epoch 208/300\n",
      "200/200 [==============================] - 0s 1ms/step - loss: 0.4178 - MSE: 1.1359e-05 - kullback_leibler_divergence: 1.1649e-04\n",
      "Epoch 209/300\n",
      "200/200 [==============================] - 0s 1ms/step - loss: 0.4178 - MSE: 9.6746e-06 - kullback_leibler_divergence: 7.4108e-05\n",
      "Epoch 210/300\n",
      "200/200 [==============================] - 0s 1ms/step - loss: 0.4178 - MSE: 9.2294e-06 - kullback_leibler_divergence: 9.2586e-05\n",
      "Epoch 211/300\n",
      "200/200 [==============================] - 0s 1ms/step - loss: 0.4178 - MSE: 1.1773e-05 - kullback_leibler_divergence: 1.2304e-04\n",
      "Epoch 212/300\n",
      "200/200 [==============================] - 0s 1ms/step - loss: 0.4178 - MSE: 1.0315e-05 - kullback_leibler_divergence: 5.6194e-05\n",
      "Epoch 213/300\n",
      "200/200 [==============================] - 0s 1ms/step - loss: 0.4178 - MSE: 1.2040e-05 - kullback_leibler_divergence: 8.3031e-05\n",
      "Epoch 214/300\n",
      "200/200 [==============================] - 0s 1ms/step - loss: 0.4178 - MSE: 1.0621e-05 - kullback_leibler_divergence: 1.2392e-04\n",
      "Epoch 215/300\n",
      "200/200 [==============================] - 0s 1ms/step - loss: 0.4178 - MSE: 1.0045e-05 - kullback_leibler_divergence: 7.8555e-05\n",
      "Epoch 216/300\n",
      "200/200 [==============================] - 0s 1ms/step - loss: 0.4178 - MSE: 1.0667e-05 - kullback_leibler_divergence: 9.7349e-05\n",
      "Epoch 217/300\n",
      "200/200 [==============================] - 0s 1ms/step - loss: 0.4178 - MSE: 1.0274e-05 - kullback_leibler_divergence: 9.2255e-05\n",
      "Epoch 218/300\n",
      "200/200 [==============================] - 0s 1ms/step - loss: 0.4178 - MSE: 9.4880e-06 - kullback_leibler_divergence: 8.4598e-05\n",
      "Epoch 219/300\n",
      "200/200 [==============================] - 0s 1ms/step - loss: 0.4178 - MSE: 1.0613e-05 - kullback_leibler_divergence: 9.1411e-05\n",
      "Epoch 220/300\n",
      "200/200 [==============================] - 0s 1ms/step - loss: 0.4178 - MSE: 1.0085e-05 - kullback_leibler_divergence: 7.7830e-05\n",
      "Epoch 221/300\n",
      "200/200 [==============================] - 0s 1ms/step - loss: 0.4178 - MSE: 9.4104e-06 - kullback_leibler_divergence: 8.5714e-05\n",
      "Epoch 222/300\n",
      "200/200 [==============================] - 0s 1ms/step - loss: 0.4178 - MSE: 1.0271e-05 - kullback_leibler_divergence: 8.9699e-05\n",
      "Epoch 223/300\n",
      "200/200 [==============================] - 0s 1ms/step - loss: 0.4178 - MSE: 1.1288e-05 - kullback_leibler_divergence: 9.0152e-05\n",
      "Epoch 224/300\n",
      "200/200 [==============================] - 0s 1ms/step - loss: 0.4178 - MSE: 9.4564e-06 - kullback_leibler_divergence: 7.3436e-05\n",
      "Epoch 225/300\n",
      "200/200 [==============================] - 0s 1ms/step - loss: 0.4178 - MSE: 1.0401e-05 - kullback_leibler_divergence: 9.5342e-05\n",
      "Epoch 226/300\n",
      "200/200 [==============================] - 0s 1ms/step - loss: 0.4178 - MSE: 1.0110e-05 - kullback_leibler_divergence: 6.8266e-05\n",
      "Epoch 227/300\n",
      "200/200 [==============================] - 0s 1ms/step - loss: 0.4178 - MSE: 9.9317e-06 - kullback_leibler_divergence: 9.2237e-05\n",
      "Epoch 228/300\n",
      "200/200 [==============================] - 0s 1ms/step - loss: 0.4178 - MSE: 1.0509e-05 - kullback_leibler_divergence: 9.0135e-05\n",
      "Epoch 229/300\n",
      "200/200 [==============================] - 0s 1ms/step - loss: 0.4178 - MSE: 9.5479e-06 - kullback_leibler_divergence: 9.3524e-05\n",
      "Epoch 230/300\n",
      "200/200 [==============================] - 0s 1ms/step - loss: 0.4178 - MSE: 1.0773e-05 - kullback_leibler_divergence: 1.0176e-04\n",
      "Epoch 231/300\n",
      "200/200 [==============================] - 0s 1ms/step - loss: 0.4178 - MSE: 9.3754e-06 - kullback_leibler_divergence: 7.5438e-05\n",
      "Epoch 232/300\n",
      "200/200 [==============================] - 0s 1ms/step - loss: 0.4178 - MSE: 1.0044e-05 - kullback_leibler_divergence: 8.6894e-05\n",
      "Epoch 233/300\n",
      "200/200 [==============================] - 0s 1ms/step - loss: 0.4178 - MSE: 9.8837e-06 - kullback_leibler_divergence: 8.6106e-05\n",
      "Epoch 234/300\n",
      "200/200 [==============================] - 0s 1ms/step - loss: 0.4178 - MSE: 1.0854e-05 - kullback_leibler_divergence: 8.1475e-05\n",
      "Epoch 235/300\n",
      "200/200 [==============================] - 0s 1ms/step - loss: 0.4178 - MSE: 9.9902e-06 - kullback_leibler_divergence: 1.0071e-04\n",
      "Epoch 236/300\n",
      "200/200 [==============================] - 0s 1ms/step - loss: 0.4178 - MSE: 9.4760e-06 - kullback_leibler_divergence: 6.8404e-05\n",
      "Epoch 237/300\n",
      "200/200 [==============================] - 0s 1ms/step - loss: 0.4178 - MSE: 1.0058e-05 - kullback_leibler_divergence: 9.6464e-05\n",
      "Epoch 238/300\n",
      "200/200 [==============================] - 0s 1ms/step - loss: 0.4178 - MSE: 1.0358e-05 - kullback_leibler_divergence: 8.3122e-05\n",
      "Epoch 239/300\n",
      "200/200 [==============================] - 0s 1ms/step - loss: 0.4178 - MSE: 9.9422e-06 - kullback_leibler_divergence: 9.4608e-05\n",
      "Epoch 240/300\n",
      "200/200 [==============================] - 0s 1ms/step - loss: 0.4178 - MSE: 1.1854e-05 - kullback_leibler_divergence: 9.0280e-05\n",
      "Epoch 241/300\n",
      "200/200 [==============================] - 0s 1ms/step - loss: 0.4178 - MSE: 1.0492e-05 - kullback_leibler_divergence: 8.4139e-05\n",
      "Epoch 242/300\n",
      "200/200 [==============================] - 0s 1ms/step - loss: 0.4178 - MSE: 1.0289e-05 - kullback_leibler_divergence: 9.1454e-05\n",
      "Epoch 243/300\n",
      "200/200 [==============================] - 0s 1ms/step - loss: 0.4178 - MSE: 1.1032e-05 - kullback_leibler_divergence: 8.8858e-05\n",
      "Epoch 244/300\n",
      "200/200 [==============================] - 0s 1ms/step - loss: 0.4178 - MSE: 9.4671e-06 - kullback_leibler_divergence: 9.3802e-05\n",
      "Epoch 245/300\n",
      "200/200 [==============================] - 0s 1ms/step - loss: 0.4178 - MSE: 9.2627e-06 - kullback_leibler_divergence: 7.2638e-05\n",
      "Epoch 246/300\n",
      "200/200 [==============================] - 0s 1ms/step - loss: 0.4178 - MSE: 9.8597e-06 - kullback_leibler_divergence: 8.8356e-05\n",
      "Epoch 247/300\n",
      "200/200 [==============================] - 0s 1ms/step - loss: 0.4178 - MSE: 8.4203e-06 - kullback_leibler_divergence: 7.2159e-05\n",
      "Epoch 248/300\n",
      "200/200 [==============================] - 0s 1ms/step - loss: 0.4178 - MSE: 1.1079e-05 - kullback_leibler_divergence: 1.1208e-04\n",
      "Epoch 249/300\n",
      "200/200 [==============================] - 0s 1ms/step - loss: 0.4178 - MSE: 1.0654e-05 - kullback_leibler_divergence: 6.8475e-05\n",
      "Epoch 250/300\n",
      "200/200 [==============================] - 0s 1ms/step - loss: 0.4178 - MSE: 1.0506e-05 - kullback_leibler_divergence: 8.9054e-05\n",
      "Epoch 251/300\n",
      "200/200 [==============================] - 0s 1ms/step - loss: 0.4178 - MSE: 1.0165e-05 - kullback_leibler_divergence: 9.3058e-05\n",
      "Epoch 252/300\n",
      "200/200 [==============================] - 0s 1ms/step - loss: 0.4178 - MSE: 1.1991e-05 - kullback_leibler_divergence: 7.9883e-05\n",
      "Epoch 253/300\n",
      "200/200 [==============================] - 0s 1ms/step - loss: 0.4178 - MSE: 9.0783e-06 - kullback_leibler_divergence: 1.0410e-04\n",
      "Epoch 254/300\n",
      "200/200 [==============================] - 0s 1ms/step - loss: 0.4178 - MSE: 9.5354e-06 - kullback_leibler_divergence: 6.9503e-05\n",
      "Epoch 255/300\n",
      "200/200 [==============================] - 0s 1ms/step - loss: 0.4178 - MSE: 1.1355e-05 - kullback_leibler_divergence: 9.9428e-05\n",
      "Epoch 256/300\n",
      "200/200 [==============================] - 0s 1ms/step - loss: 0.4178 - MSE: 9.5151e-06 - kullback_leibler_divergence: 9.2524e-05\n",
      "Epoch 257/300\n",
      "200/200 [==============================] - 0s 1ms/step - loss: 0.4178 - MSE: 1.0244e-05 - kullback_leibler_divergence: 7.5518e-05\n",
      "Epoch 258/300\n",
      "200/200 [==============================] - 0s 1ms/step - loss: 0.4178 - MSE: 9.4173e-06 - kullback_leibler_divergence: 1.0297e-04\n",
      "Epoch 259/300\n",
      "200/200 [==============================] - 0s 1ms/step - loss: 0.4178 - MSE: 1.0072e-05 - kullback_leibler_divergence: 6.2884e-05\n",
      "Epoch 260/300\n",
      "200/200 [==============================] - 0s 1ms/step - loss: 0.4178 - MSE: 9.2158e-06 - kullback_leibler_divergence: 1.1208e-04\n",
      "Epoch 261/300\n",
      "200/200 [==============================] - 0s 1ms/step - loss: 0.4178 - MSE: 9.5579e-06 - kullback_leibler_divergence: 6.0618e-05\n",
      "Epoch 262/300\n",
      "200/200 [==============================] - 0s 1ms/step - loss: 0.4178 - MSE: 1.0399e-05 - kullback_leibler_divergence: 9.1815e-05\n",
      "Epoch 263/300\n",
      "200/200 [==============================] - 0s 1ms/step - loss: 0.4178 - MSE: 9.5241e-06 - kullback_leibler_divergence: 6.8362e-05\n",
      "Epoch 264/300\n",
      "200/200 [==============================] - 0s 1ms/step - loss: 0.4178 - MSE: 1.0342e-05 - kullback_leibler_divergence: 9.8476e-05\n",
      "Epoch 265/300\n",
      "200/200 [==============================] - 0s 1ms/step - loss: 0.4178 - MSE: 1.2474e-05 - kullback_leibler_divergence: 1.1602e-04\n",
      "Epoch 266/300\n",
      "200/200 [==============================] - 0s 1ms/step - loss: 0.4178 - MSE: 8.8382e-06 - kullback_leibler_divergence: 6.4876e-05\n",
      "Epoch 267/300\n",
      "200/200 [==============================] - 0s 1ms/step - loss: 0.4178 - MSE: 1.0301e-05 - kullback_leibler_divergence: 9.6649e-05\n",
      "Epoch 268/300\n",
      "200/200 [==============================] - 0s 1ms/step - loss: 0.4178 - MSE: 1.0553e-05 - kullback_leibler_divergence: 9.2576e-05\n",
      "Epoch 269/300\n",
      "200/200 [==============================] - 0s 1ms/step - loss: 0.4178 - MSE: 9.3875e-06 - kullback_leibler_divergence: 6.7852e-05\n",
      "Epoch 270/300\n",
      "200/200 [==============================] - 0s 1ms/step - loss: 0.4178 - MSE: 9.5460e-06 - kullback_leibler_divergence: 7.9215e-05\n",
      "Epoch 271/300\n",
      "200/200 [==============================] - 0s 1ms/step - loss: 0.4178 - MSE: 9.3316e-06 - kullback_leibler_divergence: 8.4481e-05\n",
      "Epoch 272/300\n",
      "200/200 [==============================] - 0s 1ms/step - loss: 0.4178 - MSE: 9.7349e-06 - kullback_leibler_divergence: 9.9315e-05\n",
      "Epoch 273/300\n",
      "200/200 [==============================] - 0s 1ms/step - loss: 0.4178 - MSE: 9.7255e-06 - kullback_leibler_divergence: 6.8322e-05\n",
      "Epoch 274/300\n",
      "200/200 [==============================] - 0s 1ms/step - loss: 0.4178 - MSE: 1.1479e-05 - kullback_leibler_divergence: 1.0635e-04\n",
      "Epoch 275/300\n",
      "200/200 [==============================] - 0s 1ms/step - loss: 0.4178 - MSE: 9.6637e-06 - kullback_leibler_divergence: 8.3700e-05\n",
      "Epoch 276/300\n",
      "200/200 [==============================] - 0s 1ms/step - loss: 0.4178 - MSE: 9.3009e-06 - kullback_leibler_divergence: 8.9700e-05\n",
      "Epoch 277/300\n",
      "200/200 [==============================] - 0s 1ms/step - loss: 0.4178 - MSE: 1.1429e-05 - kullback_leibler_divergence: 7.2242e-05\n",
      "Epoch 278/300\n",
      "200/200 [==============================] - 0s 1ms/step - loss: 0.4178 - MSE: 1.0208e-05 - kullback_leibler_divergence: 1.0632e-04\n",
      "Epoch 279/300\n",
      "200/200 [==============================] - 0s 1ms/step - loss: 0.4178 - MSE: 9.7299e-06 - kullback_leibler_divergence: 4.0276e-05\n",
      "Epoch 280/300\n",
      "200/200 [==============================] - 0s 1ms/step - loss: 0.4178 - MSE: 8.5664e-06 - kullback_leibler_divergence: 1.0118e-04\n",
      "Epoch 281/300\n",
      "200/200 [==============================] - 0s 1ms/step - loss: 0.4178 - MSE: 8.9314e-06 - kullback_leibler_divergence: 5.8816e-05\n",
      "Epoch 282/300\n",
      "200/200 [==============================] - 0s 1ms/step - loss: 0.4178 - MSE: 1.1179e-05 - kullback_leibler_divergence: 1.2237e-04\n",
      "Epoch 283/300\n",
      "200/200 [==============================] - 0s 1ms/step - loss: 0.4178 - MSE: 8.7619e-06 - kullback_leibler_divergence: 9.5348e-05\n"
     ]
    },
    {
     "name": "stdout",
     "output_type": "stream",
     "text": [
      "Epoch 284/300\n",
      "200/200 [==============================] - 0s 1ms/step - loss: 0.4178 - MSE: 1.1231e-05 - kullback_leibler_divergence: 6.7076e-05\n",
      "Epoch 285/300\n",
      "200/200 [==============================] - 0s 1ms/step - loss: 0.4178 - MSE: 9.3523e-06 - kullback_leibler_divergence: 1.0211e-04\n",
      "Epoch 286/300\n",
      "200/200 [==============================] - 0s 1ms/step - loss: 0.4178 - MSE: 9.5650e-06 - kullback_leibler_divergence: 7.8231e-05\n",
      "Epoch 287/300\n",
      "200/200 [==============================] - 0s 2ms/step - loss: 0.4178 - MSE: 9.5442e-06 - kullback_leibler_divergence: 8.9841e-05\n",
      "Epoch 288/300\n",
      "200/200 [==============================] - 0s 1ms/step - loss: 0.4178 - MSE: 9.2554e-06 - kullback_leibler_divergence: 6.4686e-05\n",
      "Epoch 289/300\n",
      "200/200 [==============================] - 0s 1ms/step - loss: 0.4178 - MSE: 1.0171e-05 - kullback_leibler_divergence: 8.9923e-05\n",
      "Epoch 290/300\n",
      "200/200 [==============================] - 0s 1ms/step - loss: 0.4178 - MSE: 9.0817e-06 - kullback_leibler_divergence: 7.0988e-05\n",
      "Epoch 291/300\n",
      "200/200 [==============================] - 0s 1ms/step - loss: 0.4178 - MSE: 9.0307e-06 - kullback_leibler_divergence: 8.8187e-05\n",
      "Epoch 292/300\n",
      "200/200 [==============================] - 0s 1ms/step - loss: 0.4178 - MSE: 9.9041e-06 - kullback_leibler_divergence: 8.8212e-05\n",
      "Epoch 293/300\n",
      "200/200 [==============================] - 0s 1ms/step - loss: 0.4178 - MSE: 1.0129e-05 - kullback_leibler_divergence: 7.9741e-05\n",
      "Epoch 294/300\n",
      "200/200 [==============================] - 0s 1ms/step - loss: 0.4178 - MSE: 9.6539e-06 - kullback_leibler_divergence: 8.2064e-05\n",
      "Epoch 295/300\n",
      "200/200 [==============================] - 0s 1ms/step - loss: 0.4178 - MSE: 8.9157e-06 - kullback_leibler_divergence: 8.7131e-05\n",
      "Epoch 296/300\n",
      "200/200 [==============================] - 0s 1ms/step - loss: 0.4178 - MSE: 1.1092e-05 - kullback_leibler_divergence: 8.7540e-05\n",
      "Epoch 297/300\n",
      "200/200 [==============================] - 0s 1ms/step - loss: 0.4178 - MSE: 1.0076e-05 - kullback_leibler_divergence: 8.8056e-05\n",
      "Epoch 298/300\n",
      "200/200 [==============================] - 0s 1ms/step - loss: 0.4178 - MSE: 9.2891e-06 - kullback_leibler_divergence: 6.9094e-05\n",
      "Epoch 299/300\n",
      "200/200 [==============================] - 0s 1ms/step - loss: 0.4178 - MSE: 8.5704e-06 - kullback_leibler_divergence: 6.2351e-05\n",
      "Epoch 300/300\n",
      "200/200 [==============================] - 0s 1ms/step - loss: 0.4178 - MSE: 9.7939e-06 - kullback_leibler_divergence: 1.1351e-04\n",
      "Elapsed time for activity trainNet=282.41317319869995\n",
      "Elapsed time for activity applyNet=28.222930908203125\n"
     ]
    }
   ],
   "source": [
    "simSampleN=50000 #size of the simulation sample for each set of utility scores\n",
    "\n",
    "TimeTrack.startActivity('trainNet')\n",
    "model=fitNN(N=4,sampleN=10000,sigmaU=1,NNarch=5*[25],simSampleN=simSampleN)\n",
    "TimeTrack.stopActivity('trainNet')\n",
    "u=randomU(N=4, sampleN=1000000, sigmaU=1) #simulate 1M sets of utilities to test the model speed and out-of-sample performance\n",
    "TimeTrack.startActivity('applyNet')\n",
    "p=model.predict(u)  # predicted probabilities for simulated u\n",
    "TimeTrack.stopActivity('applyNet')\n",
    "\n",
    "TimeTrack.reportTotal()"
   ]
  },
  {
   "cell_type": "code",
   "execution_count": 117,
   "metadata": {
    "scrolled": true
   },
   "outputs": [
    {
     "data": {
      "text/html": [
       "<div>\n",
       "<style scoped>\n",
       "    .dataframe tbody tr th:only-of-type {\n",
       "        vertical-align: middle;\n",
       "    }\n",
       "\n",
       "    .dataframe tbody tr th {\n",
       "        vertical-align: top;\n",
       "    }\n",
       "\n",
       "    .dataframe thead th {\n",
       "        text-align: right;\n",
       "    }\n",
       "</style>\n",
       "<table border=\"1\" class=\"dataframe\">\n",
       "  <thead>\n",
       "    <tr style=\"text-align: right;\">\n",
       "      <th></th>\n",
       "      <th>pulocationid</th>\n",
       "      <th>dolocationid</th>\n",
       "      <th>tmode</th>\n",
       "      <th>duration</th>\n",
       "      <th>price</th>\n",
       "      <th>totalCommute</th>\n",
       "    </tr>\n",
       "  </thead>\n",
       "  <tbody>\n",
       "    <tr>\n",
       "      <th>0</th>\n",
       "      <td>3</td>\n",
       "      <td>7</td>\n",
       "      <td>8</td>\n",
       "      <td>39.201346</td>\n",
       "      <td>12.721600</td>\n",
       "      <td>736</td>\n",
       "    </tr>\n",
       "    <tr>\n",
       "      <th>1</th>\n",
       "      <td>3</td>\n",
       "      <td>7</td>\n",
       "      <td>3</td>\n",
       "      <td>47.880952</td>\n",
       "      <td>43.157143</td>\n",
       "      <td>0</td>\n",
       "    </tr>\n",
       "    <tr>\n",
       "      <th>2</th>\n",
       "      <td>3</td>\n",
       "      <td>18</td>\n",
       "      <td>3</td>\n",
       "      <td>15.240000</td>\n",
       "      <td>12.900000</td>\n",
       "      <td>1748</td>\n",
       "    </tr>\n",
       "    <tr>\n",
       "      <th>3</th>\n",
       "      <td>3</td>\n",
       "      <td>18</td>\n",
       "      <td>5</td>\n",
       "      <td>65.066667</td>\n",
       "      <td>0.000000</td>\n",
       "      <td>3174</td>\n",
       "    </tr>\n",
       "    <tr>\n",
       "      <th>4</th>\n",
       "      <td>3</td>\n",
       "      <td>18</td>\n",
       "      <td>8</td>\n",
       "      <td>16.135379</td>\n",
       "      <td>7.432000</td>\n",
       "      <td>10879</td>\n",
       "    </tr>\n",
       "  </tbody>\n",
       "</table>\n",
       "</div>"
      ],
      "text/plain": [
       "   pulocationid  dolocationid  tmode   duration      price  totalCommute\n",
       "0             3             7      8  39.201346  12.721600           736\n",
       "1             3             7      3  47.880952  43.157143             0\n",
       "2             3            18      3  15.240000  12.900000          1748\n",
       "3             3            18      5  65.066667   0.000000          3174\n",
       "4             3            18      8  16.135379   7.432000         10879"
      ]
     },
     "execution_count": 117,
     "metadata": {},
     "output_type": "execute_result"
    }
   ],
   "source": [
    "# lehd-acs mobility data\n",
    "data = pd.read_csv('LEHD_commute.csv')\n",
    "data['totalCommute'] = data.iloc[:, 5:].sum(axis=1)\n",
    "data = data[['pulocationid', 'dolocationid', 'tmode', 'duration', 'price', 'totalCommute']]\n",
    "data.head()"
   ]
  },
  {
   "cell_type": "code",
   "execution_count": 384,
   "metadata": {},
   "outputs": [],
   "source": [
    "# function for getting aggregate ridership/predictions by mode based on above model\n",
    "def aggMobility(data, beta=1, sigma=0.5, train=True):\n",
    "    \n",
    "    # train: True for getting mode numbers per o-d\n",
    "    # train= False for getting aggregated mode numbers\n",
    "    allMob = {2:0, 3:0, 5:0, 8:0} # dict for ridership values by mode\n",
    "    \n",
    "    allPredMob = []\n",
    "    allU = []\n",
    "\n",
    "    for o, d in zip(data[['pulocationid', 'dolocationid']].drop_duplicates()['pulocationid'], \n",
    "          data[['pulocationid', 'dolocationid']].drop_duplicates()['dolocationid']):   # iterate each o-d\n",
    "\n",
    "        odLoc = data[(data.pulocationid == o) & (data.dolocationid == d)]\n",
    "        \n",
    "        # utility function\n",
    "        u = -(beta*np.random.normal(loc=odLoc['duration'].values, scale=0)*3.84 + np.random.normal(loc=odLoc['price'].values, scale=0)) + np.random.normal(loc=1, scale=sigma, size=(1,len(odLoc)))\n",
    "        \n",
    "        # modify utility for NN format\n",
    "        u = np.pad(u[0], (0, 4-len(odLoc)))\n",
    "        u[u==0] = -1000  # put utilities for missing modes as -1000\n",
    "        \n",
    "        mob = odLoc.totalCommute.values  # ridership\n",
    "        modes = odLoc.tmode.values \n",
    "        \n",
    "        pred = model.predict(u.reshape(1, -1))\n",
    "        prob = pred/pred.sum(axis=1)[:,None]  # probabilities\n",
    "        prob = np.nan_to_num(prob)\n",
    "        predMob = prob[0][:len(mob)]*np.sum(mob)   # predicted ridership by mode for a o-d\n",
    "    \n",
    "#         for i, val in enumerate(predMob):\n",
    "#             allMob[modes[i]] = allMob[modes[i]] + val\n",
    "        \n",
    "#     return allMob\n",
    "        if train == False:\n",
    "            for i, val in enumerate(predMob):\n",
    "                allMob[modes[i]] = allMob[modes[i]] + val\n",
    "                \n",
    "        else:\n",
    "            allPredMob.append(list(predMob))\n",
    "    if train == True:\n",
    "        return allPredMob\n",
    "        \n",
    "    else:\n",
    "        return allMob"
   ]
  },
  {
   "cell_type": "code",
   "execution_count": null,
   "metadata": {},
   "outputs": [],
   "source": [
    "# lets estimate the best parameters through a simple grid search method\n",
    "# objective: minimize MSE for aggregated trips by mode\n",
    "# could take ~50 mins for all samples\n",
    "\n",
    "betas = np.linspace(0.01, 0.1, 20)\n",
    "sigmas = np.linspace(0.2, 0.8, 20)\n",
    "\n",
    "params = np.array(np.meshgrid(betas, sigmas)).T.reshape(-1, 2)\n",
    "\n",
    "allMSE = []\n",
    "for param in params:\n",
    "    preds = aggMobility(data, beta=param[0], sigma=param[1], train=True)\n",
    "    predFlat = [item for sublist in preds for item in sublist]\n",
    "    tempD = data.copy()\n",
    "    tempD['pred'] = predFlat\n",
    "    tempSum = tempD.groupby(by='tmode').sum()[['pred', 'totalCommute']]\n",
    "    allMSE.append(np.sqrt(mean_squared_error(tempSum.totalCommute, tempSum.pred)))\n",
    "    \n",
    "\n",
    "plt.plot(allMSE)"
   ]
  },
  {
   "cell_type": "code",
   "execution_count": 385,
   "metadata": {},
   "outputs": [
    {
     "name": "stdout",
     "output_type": "stream",
     "text": [
      "% change for 2 : 2.5169851716000853\n",
      "% change for 3 : -29.759274342406428\n",
      "% change for 5 : 1.6904052869033477\n",
      "% change for 8 : 4.629673124790487\n"
     ]
    },
    {
     "data": {
      "text/plain": [
       "{None}"
      ]
     },
     "execution_count": 385,
     "metadata": {},
     "output_type": "execute_result"
    }
   ],
   "source": [
    "# let's calculate the % simulated mode-shift after introducing $3 surcharge for taxi trips based on best params\n",
    "\n",
    "data1 = data.copy()  # make new df\n",
    "data1.loc[data1.tmode == 3, 'price'] = data1.loc[data1.tmode == 3, 'price'] + 3\n",
    "data1.head()\n",
    "\n",
    "pre = aggMobility(data, beta=0.0905, sigma=0.33, train=False)\n",
    "post = aggMobility(data1, beta=0.0905, train=False)\n",
    "\n",
    "# predit and calculate % change\n",
    "modeShift_perc = (np.array(list(post.values())) - np.array(list(pre.values())))/np.array(list(pre.values()))\n",
    "\n",
    "{print('% change for', mode, ':', modeShift_perc[i]*100) for i, mode in enumerate([2, 3, 5, 8])}"
   ]
  },
  {
   "cell_type": "markdown",
   "metadata": {},
   "source": [
    "The NN model predicts a change of ~30% decrease in taxi ridership"
   ]
  },
  {
   "cell_type": "code",
   "execution_count": null,
   "metadata": {},
   "outputs": [],
   "source": []
  }
 ],
 "metadata": {
  "colab": {
   "collapsed_sections": [],
   "name": "ADS2021_session7_Bayesian_Transportation_case.ipynb",
   "provenance": []
  },
  "kernelspec": {
   "display_name": "py39",
   "language": "python",
   "name": "py39"
  },
  "language_info": {
   "codemirror_mode": {
    "name": "ipython",
    "version": 3
   },
   "file_extension": ".py",
   "mimetype": "text/x-python",
   "name": "python",
   "nbconvert_exporter": "python",
   "pygments_lexer": "ipython3",
   "version": "3.7.3"
  }
 },
 "nbformat": 4,
 "nbformat_minor": 1
}
